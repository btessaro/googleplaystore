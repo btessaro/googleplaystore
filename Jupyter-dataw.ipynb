{
 "cells": [
  {
   "cell_type": "markdown",
   "id": "778c8a59-7f03-47c0-908c-de1abb4ca86b",
   "metadata": {},
   "source": [
    "# Google Play Store Dataset - Data wrangling"
   ]
  },
  {
   "cell_type": "markdown",
   "id": "a7b350d4-6aca-458e-8aee-e873d8a079ae",
   "metadata": {},
   "source": [
    "Dataset from [Kaggle](https://www.kaggle.com/datasets/lava18/google-play-store-apps?select=googleplaystore.csv)."
   ]
  },
  {
   "cell_type": "markdown",
   "id": "bfafa6b4-4986-4b5f-8825-d48e897c3503",
   "metadata": {},
   "source": [
    "**When analysing data, I believe understanding the data at hand and looking at it thoroughly is important to ensure the realiability of the results from any analysis performed. This script walks through the process of getting a dataset, understanding it, and cleaning it for further analysis.**"
   ]
  },
  {
   "cell_type": "markdown",
   "id": "1569bfb1-0b83-4f02-9954-6a1f00c1ef8e",
   "metadata": {},
   "source": [
    "## Table of contents:\n",
    "* [Import relevant libraries]\n",
    "* [Read data](#read)\n",
    "    * [Google play store](#df1)\n",
    "    * [User reviews](#df2)\n",
    "    * [Merged data](#df3)\n",
    "* [Functions to clean columns](#functions)\n",
    "* [Cleaning and checking each column](#cleancols)\n",
    "    * [Category](#category)\n",
    "    * [Rating](#rating)\n",
    "    * [Reviews](#reviews)\n",
    "    * [Size](#size)\n",
    "    * [Installs](#installs)\n",
    "    * [Type](#type)\n",
    "    * [Price](#price)\n",
    "    * [Content Rating](#content)\n",
    "    * [Genres](#genres)\n",
    "    * [Last Updated](#lastupdated)\n",
    "    * [Current Ver](#currentver)\n",
    "    * [Android Ver](#androidver)\n",
    "    * [Clean data export](#export)\n",
    "        "
   ]
  },
  {
   "cell_type": "markdown",
   "id": "786599e9-a104-444b-b072-6297e862af16",
   "metadata": {},
   "source": [
    "### Import relevant libraries <a class=\"anchor\" id=\"import\"></a>"
   ]
  },
  {
   "cell_type": "code",
   "execution_count": 129,
   "id": "39e42da7-cb9b-476c-bcba-fe8cfc57b8bf",
   "metadata": {},
   "outputs": [],
   "source": [
    "import pandas as pd\n",
    "import numpy as np\n",
    "import seaborn as sns\n",
    "import matplotlib.pyplot as plt\n",
    "import scipy.stats as stats\n",
    "import re as re"
   ]
  },
  {
   "cell_type": "markdown",
   "id": "a9abe0c8-cec4-4a29-b6da-1ed098d0a093",
   "metadata": {},
   "source": [
    "### Read data <a class=\"anchor\" id=\"read\"></a>"
   ]
  },
  {
   "cell_type": "code",
   "execution_count": 130,
   "id": "0771d5a8-4cfc-4d82-a4f3-ce17b751f310",
   "metadata": {},
   "outputs": [],
   "source": [
    "df1 = pd.read_csv('googleplaystore.csv')\n",
    "df2 = pd.read_csv('googleplaystore_user_reviews.csv')"
   ]
  },
  {
   "cell_type": "markdown",
   "id": "c5aa4640-204e-45f2-816c-8f65817d8dc1",
   "metadata": {},
   "source": [
    "This is our df1 <a class=\"anchor\" id=\"df1\"></a>"
   ]
  },
  {
   "cell_type": "code",
   "execution_count": 131,
   "id": "44f953ae-0746-4644-97ca-33ef581db448",
   "metadata": {},
   "outputs": [
    {
     "name": "stdout",
     "output_type": "stream",
     "text": [
      "<class 'pandas.core.frame.DataFrame'>\n",
      "RangeIndex: 10841 entries, 0 to 10840\n",
      "Data columns (total 13 columns):\n",
      " #   Column          Non-Null Count  Dtype  \n",
      "---  ------          --------------  -----  \n",
      " 0   App             10841 non-null  object \n",
      " 1   Category        10841 non-null  object \n",
      " 2   Rating          9367 non-null   float64\n",
      " 3   Reviews         10841 non-null  object \n",
      " 4   Size            10841 non-null  object \n",
      " 5   Installs        10841 non-null  object \n",
      " 6   Type            10840 non-null  object \n",
      " 7   Price           10841 non-null  object \n",
      " 8   Content Rating  10840 non-null  object \n",
      " 9   Genres          10841 non-null  object \n",
      " 10  Last Updated    10841 non-null  object \n",
      " 11  Current Ver     10833 non-null  object \n",
      " 12  Android Ver     10838 non-null  object \n",
      "dtypes: float64(1), object(12)\n",
      "memory usage: 1.1+ MB\n"
     ]
    },
    {
     "data": {
      "text/html": [
       "<div>\n",
       "<style scoped>\n",
       "    .dataframe tbody tr th:only-of-type {\n",
       "        vertical-align: middle;\n",
       "    }\n",
       "\n",
       "    .dataframe tbody tr th {\n",
       "        vertical-align: top;\n",
       "    }\n",
       "\n",
       "    .dataframe thead th {\n",
       "        text-align: right;\n",
       "    }\n",
       "</style>\n",
       "<table border=\"1\" class=\"dataframe\">\n",
       "  <thead>\n",
       "    <tr style=\"text-align: right;\">\n",
       "      <th></th>\n",
       "      <th>App</th>\n",
       "      <th>Category</th>\n",
       "      <th>Rating</th>\n",
       "      <th>Reviews</th>\n",
       "      <th>Size</th>\n",
       "      <th>Installs</th>\n",
       "      <th>Type</th>\n",
       "      <th>Price</th>\n",
       "      <th>Content Rating</th>\n",
       "      <th>Genres</th>\n",
       "      <th>Last Updated</th>\n",
       "      <th>Current Ver</th>\n",
       "      <th>Android Ver</th>\n",
       "    </tr>\n",
       "  </thead>\n",
       "  <tbody>\n",
       "    <tr>\n",
       "      <th>0</th>\n",
       "      <td>Photo Editor &amp; Candy Camera &amp; Grid &amp; ScrapBook</td>\n",
       "      <td>ART_AND_DESIGN</td>\n",
       "      <td>4.1</td>\n",
       "      <td>159</td>\n",
       "      <td>19M</td>\n",
       "      <td>10,000+</td>\n",
       "      <td>Free</td>\n",
       "      <td>0</td>\n",
       "      <td>Everyone</td>\n",
       "      <td>Art &amp; Design</td>\n",
       "      <td>January 7, 2018</td>\n",
       "      <td>1.0.0</td>\n",
       "      <td>4.0.3 and up</td>\n",
       "    </tr>\n",
       "    <tr>\n",
       "      <th>1</th>\n",
       "      <td>Coloring book moana</td>\n",
       "      <td>ART_AND_DESIGN</td>\n",
       "      <td>3.9</td>\n",
       "      <td>967</td>\n",
       "      <td>14M</td>\n",
       "      <td>500,000+</td>\n",
       "      <td>Free</td>\n",
       "      <td>0</td>\n",
       "      <td>Everyone</td>\n",
       "      <td>Art &amp; Design;Pretend Play</td>\n",
       "      <td>January 15, 2018</td>\n",
       "      <td>2.0.0</td>\n",
       "      <td>4.0.3 and up</td>\n",
       "    </tr>\n",
       "    <tr>\n",
       "      <th>2</th>\n",
       "      <td>U Launcher Lite – FREE Live Cool Themes, Hide ...</td>\n",
       "      <td>ART_AND_DESIGN</td>\n",
       "      <td>4.7</td>\n",
       "      <td>87510</td>\n",
       "      <td>8.7M</td>\n",
       "      <td>5,000,000+</td>\n",
       "      <td>Free</td>\n",
       "      <td>0</td>\n",
       "      <td>Everyone</td>\n",
       "      <td>Art &amp; Design</td>\n",
       "      <td>August 1, 2018</td>\n",
       "      <td>1.2.4</td>\n",
       "      <td>4.0.3 and up</td>\n",
       "    </tr>\n",
       "    <tr>\n",
       "      <th>3</th>\n",
       "      <td>Sketch - Draw &amp; Paint</td>\n",
       "      <td>ART_AND_DESIGN</td>\n",
       "      <td>4.5</td>\n",
       "      <td>215644</td>\n",
       "      <td>25M</td>\n",
       "      <td>50,000,000+</td>\n",
       "      <td>Free</td>\n",
       "      <td>0</td>\n",
       "      <td>Teen</td>\n",
       "      <td>Art &amp; Design</td>\n",
       "      <td>June 8, 2018</td>\n",
       "      <td>Varies with device</td>\n",
       "      <td>4.2 and up</td>\n",
       "    </tr>\n",
       "    <tr>\n",
       "      <th>4</th>\n",
       "      <td>Pixel Draw - Number Art Coloring Book</td>\n",
       "      <td>ART_AND_DESIGN</td>\n",
       "      <td>4.3</td>\n",
       "      <td>967</td>\n",
       "      <td>2.8M</td>\n",
       "      <td>100,000+</td>\n",
       "      <td>Free</td>\n",
       "      <td>0</td>\n",
       "      <td>Everyone</td>\n",
       "      <td>Art &amp; Design;Creativity</td>\n",
       "      <td>June 20, 2018</td>\n",
       "      <td>1.1</td>\n",
       "      <td>4.4 and up</td>\n",
       "    </tr>\n",
       "  </tbody>\n",
       "</table>\n",
       "</div>"
      ],
      "text/plain": [
       "                                                 App        Category  Rating  \\\n",
       "0     Photo Editor & Candy Camera & Grid & ScrapBook  ART_AND_DESIGN     4.1   \n",
       "1                                Coloring book moana  ART_AND_DESIGN     3.9   \n",
       "2  U Launcher Lite – FREE Live Cool Themes, Hide ...  ART_AND_DESIGN     4.7   \n",
       "3                              Sketch - Draw & Paint  ART_AND_DESIGN     4.5   \n",
       "4              Pixel Draw - Number Art Coloring Book  ART_AND_DESIGN     4.3   \n",
       "\n",
       "  Reviews  Size     Installs  Type Price Content Rating  \\\n",
       "0     159   19M      10,000+  Free     0       Everyone   \n",
       "1     967   14M     500,000+  Free     0       Everyone   \n",
       "2   87510  8.7M   5,000,000+  Free     0       Everyone   \n",
       "3  215644   25M  50,000,000+  Free     0           Teen   \n",
       "4     967  2.8M     100,000+  Free     0       Everyone   \n",
       "\n",
       "                      Genres      Last Updated         Current Ver  \\\n",
       "0               Art & Design   January 7, 2018               1.0.0   \n",
       "1  Art & Design;Pretend Play  January 15, 2018               2.0.0   \n",
       "2               Art & Design    August 1, 2018               1.2.4   \n",
       "3               Art & Design      June 8, 2018  Varies with device   \n",
       "4    Art & Design;Creativity     June 20, 2018                 1.1   \n",
       "\n",
       "    Android Ver  \n",
       "0  4.0.3 and up  \n",
       "1  4.0.3 and up  \n",
       "2  4.0.3 and up  \n",
       "3    4.2 and up  \n",
       "4    4.4 and up  "
      ]
     },
     "execution_count": 131,
     "metadata": {},
     "output_type": "execute_result"
    }
   ],
   "source": [
    "df1.info()\n",
    "df1.isnull().sum()\n",
    "df1.head()"
   ]
  },
  {
   "cell_type": "markdown",
   "id": "e99fcd85-f1c2-479f-9e76-673d630d591d",
   "metadata": {},
   "source": [
    "This is our df2 <a class=\"anchor\" id=\"df2\"></a>"
   ]
  },
  {
   "cell_type": "code",
   "execution_count": 132,
   "id": "ae35659d-d3f4-4fd0-ab25-58b6f7940586",
   "metadata": {},
   "outputs": [
    {
     "name": "stdout",
     "output_type": "stream",
     "text": [
      "<class 'pandas.core.frame.DataFrame'>\n",
      "RangeIndex: 64295 entries, 0 to 64294\n",
      "Data columns (total 5 columns):\n",
      " #   Column                  Non-Null Count  Dtype  \n",
      "---  ------                  --------------  -----  \n",
      " 0   App                     64295 non-null  object \n",
      " 1   Translated_Review       37427 non-null  object \n",
      " 2   Sentiment               37432 non-null  object \n",
      " 3   Sentiment_Polarity      37432 non-null  float64\n",
      " 4   Sentiment_Subjectivity  37432 non-null  float64\n",
      "dtypes: float64(2), object(3)\n",
      "memory usage: 2.5+ MB\n"
     ]
    },
    {
     "data": {
      "text/html": [
       "<div>\n",
       "<style scoped>\n",
       "    .dataframe tbody tr th:only-of-type {\n",
       "        vertical-align: middle;\n",
       "    }\n",
       "\n",
       "    .dataframe tbody tr th {\n",
       "        vertical-align: top;\n",
       "    }\n",
       "\n",
       "    .dataframe thead th {\n",
       "        text-align: right;\n",
       "    }\n",
       "</style>\n",
       "<table border=\"1\" class=\"dataframe\">\n",
       "  <thead>\n",
       "    <tr style=\"text-align: right;\">\n",
       "      <th></th>\n",
       "      <th>App</th>\n",
       "      <th>Translated_Review</th>\n",
       "      <th>Sentiment</th>\n",
       "      <th>Sentiment_Polarity</th>\n",
       "      <th>Sentiment_Subjectivity</th>\n",
       "    </tr>\n",
       "  </thead>\n",
       "  <tbody>\n",
       "    <tr>\n",
       "      <th>0</th>\n",
       "      <td>10 Best Foods for You</td>\n",
       "      <td>I like eat delicious food. That's I'm cooking ...</td>\n",
       "      <td>Positive</td>\n",
       "      <td>1.00</td>\n",
       "      <td>0.533333</td>\n",
       "    </tr>\n",
       "    <tr>\n",
       "      <th>1</th>\n",
       "      <td>10 Best Foods for You</td>\n",
       "      <td>This help eating healthy exercise regular basis</td>\n",
       "      <td>Positive</td>\n",
       "      <td>0.25</td>\n",
       "      <td>0.288462</td>\n",
       "    </tr>\n",
       "    <tr>\n",
       "      <th>2</th>\n",
       "      <td>10 Best Foods for You</td>\n",
       "      <td>NaN</td>\n",
       "      <td>NaN</td>\n",
       "      <td>NaN</td>\n",
       "      <td>NaN</td>\n",
       "    </tr>\n",
       "    <tr>\n",
       "      <th>3</th>\n",
       "      <td>10 Best Foods for You</td>\n",
       "      <td>Works great especially going grocery store</td>\n",
       "      <td>Positive</td>\n",
       "      <td>0.40</td>\n",
       "      <td>0.875000</td>\n",
       "    </tr>\n",
       "    <tr>\n",
       "      <th>4</th>\n",
       "      <td>10 Best Foods for You</td>\n",
       "      <td>Best idea us</td>\n",
       "      <td>Positive</td>\n",
       "      <td>1.00</td>\n",
       "      <td>0.300000</td>\n",
       "    </tr>\n",
       "  </tbody>\n",
       "</table>\n",
       "</div>"
      ],
      "text/plain": [
       "                     App                                  Translated_Review  \\\n",
       "0  10 Best Foods for You  I like eat delicious food. That's I'm cooking ...   \n",
       "1  10 Best Foods for You    This help eating healthy exercise regular basis   \n",
       "2  10 Best Foods for You                                                NaN   \n",
       "3  10 Best Foods for You         Works great especially going grocery store   \n",
       "4  10 Best Foods for You                                       Best idea us   \n",
       "\n",
       "  Sentiment  Sentiment_Polarity  Sentiment_Subjectivity  \n",
       "0  Positive                1.00                0.533333  \n",
       "1  Positive                0.25                0.288462  \n",
       "2       NaN                 NaN                     NaN  \n",
       "3  Positive                0.40                0.875000  \n",
       "4  Positive                1.00                0.300000  "
      ]
     },
     "execution_count": 132,
     "metadata": {},
     "output_type": "execute_result"
    }
   ],
   "source": [
    "df2.info()\n",
    "df2.head()"
   ]
  },
  {
   "cell_type": "code",
   "execution_count": 133,
   "id": "f19d7fc7-840a-49e6-b76a-fdba362f1618",
   "metadata": {},
   "outputs": [
    {
     "data": {
      "text/plain": [
       "App                           0\n",
       "Translated_Review         26868\n",
       "Sentiment                 26863\n",
       "Sentiment_Polarity        26863\n",
       "Sentiment_Subjectivity    26863\n",
       "dtype: int64"
      ]
     },
     "execution_count": 133,
     "metadata": {},
     "output_type": "execute_result"
    }
   ],
   "source": [
    "df2.isnull().sum()"
   ]
  },
  {
   "cell_type": "markdown",
   "id": "cad733c2-5da6-42e8-89a2-e1de6700426d",
   "metadata": {},
   "source": [
    "Check why so many null values"
   ]
  },
  {
   "cell_type": "code",
   "execution_count": 134,
   "id": "d43ec717-9447-4e45-843b-539aac2f85f7",
   "metadata": {},
   "outputs": [
    {
     "data": {
      "text/html": [
       "<div>\n",
       "<style scoped>\n",
       "    .dataframe tbody tr th:only-of-type {\n",
       "        vertical-align: middle;\n",
       "    }\n",
       "\n",
       "    .dataframe tbody tr th {\n",
       "        vertical-align: top;\n",
       "    }\n",
       "\n",
       "    .dataframe thead th {\n",
       "        text-align: right;\n",
       "    }\n",
       "</style>\n",
       "<table border=\"1\" class=\"dataframe\">\n",
       "  <thead>\n",
       "    <tr style=\"text-align: right;\">\n",
       "      <th></th>\n",
       "      <th>App</th>\n",
       "      <th>Translated_Review</th>\n",
       "      <th>Sentiment</th>\n",
       "      <th>Sentiment_Polarity</th>\n",
       "      <th>Sentiment_Subjectivity</th>\n",
       "    </tr>\n",
       "  </thead>\n",
       "  <tbody>\n",
       "    <tr>\n",
       "      <th>9115</th>\n",
       "      <td>Arrow.io</td>\n",
       "      <td>Re fix bug go wall goes hangggggg</td>\n",
       "      <td>Neutral</td>\n",
       "      <td>0.000000</td>\n",
       "      <td>0.000000</td>\n",
       "    </tr>\n",
       "    <tr>\n",
       "      <th>56101</th>\n",
       "      <td>Google News</td>\n",
       "      <td>NaN</td>\n",
       "      <td>NaN</td>\n",
       "      <td>NaN</td>\n",
       "      <td>NaN</td>\n",
       "    </tr>\n",
       "    <tr>\n",
       "      <th>41725</th>\n",
       "      <td>Extreme Coupon Finder</td>\n",
       "      <td>Love store policy along deals. I used yet stor...</td>\n",
       "      <td>Positive</td>\n",
       "      <td>0.976562</td>\n",
       "      <td>0.600000</td>\n",
       "    </tr>\n",
       "    <tr>\n",
       "      <th>31558</th>\n",
       "      <td>Czech Public Transport IDOS</td>\n",
       "      <td>Once, it occurred to me that the application s...</td>\n",
       "      <td>Neutral</td>\n",
       "      <td>0.000000</td>\n",
       "      <td>0.600000</td>\n",
       "    </tr>\n",
       "    <tr>\n",
       "      <th>40037</th>\n",
       "      <td>English Grammar Complete Handbook</td>\n",
       "      <td>NaN</td>\n",
       "      <td>NaN</td>\n",
       "      <td>NaN</td>\n",
       "      <td>NaN</td>\n",
       "    </tr>\n",
       "    <tr>\n",
       "      <th>37798</th>\n",
       "      <td>Duolingo: Learn Languages Free</td>\n",
       "      <td>It's good, adverts annoy me; I used before. Al...</td>\n",
       "      <td>Positive</td>\n",
       "      <td>0.445455</td>\n",
       "      <td>0.518182</td>\n",
       "    </tr>\n",
       "    <tr>\n",
       "      <th>11017</th>\n",
       "      <td>BaBe - Baca Berita</td>\n",
       "      <td>NaN</td>\n",
       "      <td>NaN</td>\n",
       "      <td>NaN</td>\n",
       "      <td>NaN</td>\n",
       "    </tr>\n",
       "    <tr>\n",
       "      <th>24267</th>\n",
       "      <td>CarMax – Cars for Sale: Search Used Car Inventory</td>\n",
       "      <td>NaN</td>\n",
       "      <td>NaN</td>\n",
       "      <td>NaN</td>\n",
       "      <td>NaN</td>\n",
       "    </tr>\n",
       "    <tr>\n",
       "      <th>59814</th>\n",
       "      <td>Hangouts</td>\n",
       "      <td>NaN</td>\n",
       "      <td>NaN</td>\n",
       "      <td>NaN</td>\n",
       "      <td>NaN</td>\n",
       "    </tr>\n",
       "    <tr>\n",
       "      <th>42183</th>\n",
       "      <td>FINAL FANTASY BRAVE EXVIUS</td>\n",
       "      <td>It's ok first, gets old quick. After gets work...</td>\n",
       "      <td>Positive</td>\n",
       "      <td>0.121707</td>\n",
       "      <td>0.433683</td>\n",
       "    </tr>\n",
       "    <tr>\n",
       "      <th>43346</th>\n",
       "      <td>Fair: A New Way To Own A Car</td>\n",
       "      <td>NaN</td>\n",
       "      <td>NaN</td>\n",
       "      <td>NaN</td>\n",
       "      <td>NaN</td>\n",
       "    </tr>\n",
       "    <tr>\n",
       "      <th>49303</th>\n",
       "      <td>Free Dating Hook Up Messenger</td>\n",
       "      <td>Honestly perfect free dating far I ran issues ...</td>\n",
       "      <td>Positive</td>\n",
       "      <td>0.552381</td>\n",
       "      <td>0.812798</td>\n",
       "    </tr>\n",
       "    <tr>\n",
       "      <th>2919</th>\n",
       "      <td>AP Mobile - Breaking News</td>\n",
       "      <td>Ok get breaking news notification phone normal...</td>\n",
       "      <td>Positive</td>\n",
       "      <td>0.175000</td>\n",
       "      <td>0.495833</td>\n",
       "    </tr>\n",
       "    <tr>\n",
       "      <th>1295</th>\n",
       "      <td>8 Ball Pool</td>\n",
       "      <td>NaN</td>\n",
       "      <td>NaN</td>\n",
       "      <td>NaN</td>\n",
       "      <td>NaN</td>\n",
       "    </tr>\n",
       "    <tr>\n",
       "      <th>45778</th>\n",
       "      <td>Final Fantasy XV: A New Empire</td>\n",
       "      <td>Too expensive!!! Unless plan spend fortune pac...</td>\n",
       "      <td>Negative</td>\n",
       "      <td>-0.065914</td>\n",
       "      <td>0.516667</td>\n",
       "    </tr>\n",
       "    <tr>\n",
       "      <th>2908</th>\n",
       "      <td>AP Mobile - Breaking News</td>\n",
       "      <td>Excellent, esp way delivers news alerts, conci...</td>\n",
       "      <td>Positive</td>\n",
       "      <td>0.315513</td>\n",
       "      <td>0.666795</td>\n",
       "    </tr>\n",
       "    <tr>\n",
       "      <th>34997</th>\n",
       "      <td>Divar</td>\n",
       "      <td>He chooses to sort out each day gets worse</td>\n",
       "      <td>Negative</td>\n",
       "      <td>-0.400000</td>\n",
       "      <td>0.600000</td>\n",
       "    </tr>\n",
       "    <tr>\n",
       "      <th>33507</th>\n",
       "      <td>Deep Sleep and Relax Hypnosis</td>\n",
       "      <td>NaN</td>\n",
       "      <td>NaN</td>\n",
       "      <td>NaN</td>\n",
       "      <td>NaN</td>\n",
       "    </tr>\n",
       "    <tr>\n",
       "      <th>26290</th>\n",
       "      <td>Choice Hotels</td>\n",
       "      <td>It makes us resign every updated annoying</td>\n",
       "      <td>Negative</td>\n",
       "      <td>-0.800000</td>\n",
       "      <td>0.900000</td>\n",
       "    </tr>\n",
       "    <tr>\n",
       "      <th>49913</th>\n",
       "      <td>Freeme Launcher—Stylish Theme</td>\n",
       "      <td>I like</td>\n",
       "      <td>Neutral</td>\n",
       "      <td>0.000000</td>\n",
       "      <td>0.000000</td>\n",
       "    </tr>\n",
       "  </tbody>\n",
       "</table>\n",
       "</div>"
      ],
      "text/plain": [
       "                                                     App  \\\n",
       "9115                                            Arrow.io   \n",
       "56101                                        Google News   \n",
       "41725                              Extreme Coupon Finder   \n",
       "31558                        Czech Public Transport IDOS   \n",
       "40037                  English Grammar Complete Handbook   \n",
       "37798                     Duolingo: Learn Languages Free   \n",
       "11017                                 BaBe - Baca Berita   \n",
       "24267  CarMax – Cars for Sale: Search Used Car Inventory   \n",
       "59814                                           Hangouts   \n",
       "42183                         FINAL FANTASY BRAVE EXVIUS   \n",
       "43346                       Fair: A New Way To Own A Car   \n",
       "49303                      Free Dating Hook Up Messenger   \n",
       "2919                           AP Mobile - Breaking News   \n",
       "1295                                         8 Ball Pool   \n",
       "45778                     Final Fantasy XV: A New Empire   \n",
       "2908                           AP Mobile - Breaking News   \n",
       "34997                                              Divar   \n",
       "33507                      Deep Sleep and Relax Hypnosis   \n",
       "26290                                      Choice Hotels   \n",
       "49913                      Freeme Launcher—Stylish Theme   \n",
       "\n",
       "                                       Translated_Review Sentiment  \\\n",
       "9115                   Re fix bug go wall goes hangggggg   Neutral   \n",
       "56101                                                NaN       NaN   \n",
       "41725  Love store policy along deals. I used yet stor...  Positive   \n",
       "31558  Once, it occurred to me that the application s...   Neutral   \n",
       "40037                                                NaN       NaN   \n",
       "37798  It's good, adverts annoy me; I used before. Al...  Positive   \n",
       "11017                                                NaN       NaN   \n",
       "24267                                                NaN       NaN   \n",
       "59814                                                NaN       NaN   \n",
       "42183  It's ok first, gets old quick. After gets work...  Positive   \n",
       "43346                                                NaN       NaN   \n",
       "49303  Honestly perfect free dating far I ran issues ...  Positive   \n",
       "2919   Ok get breaking news notification phone normal...  Positive   \n",
       "1295                                                 NaN       NaN   \n",
       "45778  Too expensive!!! Unless plan spend fortune pac...  Negative   \n",
       "2908   Excellent, esp way delivers news alerts, conci...  Positive   \n",
       "34997         He chooses to sort out each day gets worse  Negative   \n",
       "33507                                                NaN       NaN   \n",
       "26290          It makes us resign every updated annoying  Negative   \n",
       "49913                                             I like   Neutral   \n",
       "\n",
       "       Sentiment_Polarity  Sentiment_Subjectivity  \n",
       "9115             0.000000                0.000000  \n",
       "56101                 NaN                     NaN  \n",
       "41725            0.976562                0.600000  \n",
       "31558            0.000000                0.600000  \n",
       "40037                 NaN                     NaN  \n",
       "37798            0.445455                0.518182  \n",
       "11017                 NaN                     NaN  \n",
       "24267                 NaN                     NaN  \n",
       "59814                 NaN                     NaN  \n",
       "42183            0.121707                0.433683  \n",
       "43346                 NaN                     NaN  \n",
       "49303            0.552381                0.812798  \n",
       "2919             0.175000                0.495833  \n",
       "1295                  NaN                     NaN  \n",
       "45778           -0.065914                0.516667  \n",
       "2908             0.315513                0.666795  \n",
       "34997           -0.400000                0.600000  \n",
       "33507                 NaN                     NaN  \n",
       "26290           -0.800000                0.900000  \n",
       "49913            0.000000                0.000000  "
      ]
     },
     "execution_count": 134,
     "metadata": {},
     "output_type": "execute_result"
    }
   ],
   "source": [
    "df2.sample(20)"
   ]
  },
  {
   "cell_type": "markdown",
   "id": "a421bda6-8057-452d-9fdc-e5b64eedf9d7",
   "metadata": {},
   "source": [
    "There are some columns wiht NaN so we can get rid of those as they possibly are empty reviews"
   ]
  },
  {
   "cell_type": "code",
   "execution_count": 135,
   "id": "47c1cf4b-60f1-4b58-8a68-efbfef5fb81c",
   "metadata": {},
   "outputs": [
    {
     "name": "stdout",
     "output_type": "stream",
     "text": [
      "<class 'pandas.core.frame.DataFrame'>\n",
      "Int64Index: 37427 entries, 0 to 64230\n",
      "Data columns (total 5 columns):\n",
      " #   Column                  Non-Null Count  Dtype  \n",
      "---  ------                  --------------  -----  \n",
      " 0   App                     37427 non-null  object \n",
      " 1   Translated_Review       37427 non-null  object \n",
      " 2   Sentiment               37427 non-null  object \n",
      " 3   Sentiment_Polarity      37427 non-null  float64\n",
      " 4   Sentiment_Subjectivity  37427 non-null  float64\n",
      "dtypes: float64(2), object(3)\n",
      "memory usage: 1.7+ MB\n"
     ]
    }
   ],
   "source": [
    "df2 = df2.dropna()\n",
    "df2.sample(20)\n",
    "df2.info()"
   ]
  },
  {
   "cell_type": "markdown",
   "id": "fd026de6-80df-4124-a460-aae20e95e560",
   "metadata": {},
   "source": [
    "Merge both dfs <a class=\"anchor\" id=\"df3\"></a>"
   ]
  },
  {
   "cell_type": "code",
   "execution_count": 136,
   "id": "599f07b6-7a65-4bfa-80c1-94137a50069c",
   "metadata": {},
   "outputs": [],
   "source": [
    "df3 = pd.merge(df1,df2, on = 'App', indicator=True, how = 'outer')"
   ]
  },
  {
   "cell_type": "code",
   "execution_count": 137,
   "id": "fb12c1c7-6633-4788-bff0-8b1c98af6d29",
   "metadata": {},
   "outputs": [
    {
     "name": "stdout",
     "output_type": "stream",
     "text": [
      "<class 'pandas.core.frame.DataFrame'>\n",
      "Int64Index: 83715 entries, 0 to 83714\n",
      "Data columns (total 18 columns):\n",
      " #   Column                  Non-Null Count  Dtype   \n",
      "---  ------                  --------------  -----   \n",
      " 0   App                     83715 non-null  object  \n",
      " 1   Category                82217 non-null  object  \n",
      " 2   Rating                  80705 non-null  float64 \n",
      " 3   Reviews                 82217 non-null  object  \n",
      " 4   Size                    82217 non-null  object  \n",
      " 5   Installs                82217 non-null  object  \n",
      " 6   Type                    82216 non-null  object  \n",
      " 7   Price                   82217 non-null  object  \n",
      " 8   Content Rating          82216 non-null  object  \n",
      " 9   Genres                  82217 non-null  object  \n",
      " 10  Last Updated            82217 non-null  object  \n",
      " 11  Current Ver             82209 non-null  object  \n",
      " 12  Android Ver             82214 non-null  object  \n",
      " 13  Translated_Review       74103 non-null  object  \n",
      " 14  Sentiment               74103 non-null  object  \n",
      " 15  Sentiment_Polarity      74103 non-null  float64 \n",
      " 16  Sentiment_Subjectivity  74103 non-null  float64 \n",
      " 17  _merge                  83715 non-null  category\n",
      "dtypes: category(1), float64(3), object(14)\n",
      "memory usage: 11.6+ MB\n"
     ]
    }
   ],
   "source": [
    "df3.info()"
   ]
  },
  {
   "cell_type": "markdown",
   "id": "660c93b7-248c-421e-9646-be8fbc9cfc73",
   "metadata": {},
   "source": [
    "Checking if merge went well, randomly selected an App to check"
   ]
  },
  {
   "cell_type": "code",
   "execution_count": 138,
   "id": "18327312-ee15-455c-9666-de5b8ee1fcce",
   "metadata": {},
   "outputs": [
    {
     "data": {
      "text/html": [
       "<div>\n",
       "<style scoped>\n",
       "    .dataframe tbody tr th:only-of-type {\n",
       "        vertical-align: middle;\n",
       "    }\n",
       "\n",
       "    .dataframe tbody tr th {\n",
       "        vertical-align: top;\n",
       "    }\n",
       "\n",
       "    .dataframe thead th {\n",
       "        text-align: right;\n",
       "    }\n",
       "</style>\n",
       "<table border=\"1\" class=\"dataframe\">\n",
       "  <thead>\n",
       "    <tr style=\"text-align: right;\">\n",
       "      <th></th>\n",
       "      <th>App</th>\n",
       "      <th>Category</th>\n",
       "      <th>Rating</th>\n",
       "      <th>Reviews</th>\n",
       "      <th>Size</th>\n",
       "      <th>Installs</th>\n",
       "      <th>Type</th>\n",
       "      <th>Price</th>\n",
       "      <th>Content Rating</th>\n",
       "      <th>Genres</th>\n",
       "      <th>Last Updated</th>\n",
       "      <th>Current Ver</th>\n",
       "      <th>Android Ver</th>\n",
       "    </tr>\n",
       "  </thead>\n",
       "  <tbody>\n",
       "    <tr>\n",
       "      <th>1</th>\n",
       "      <td>Coloring book moana</td>\n",
       "      <td>ART_AND_DESIGN</td>\n",
       "      <td>3.9</td>\n",
       "      <td>967</td>\n",
       "      <td>14M</td>\n",
       "      <td>500,000+</td>\n",
       "      <td>Free</td>\n",
       "      <td>0</td>\n",
       "      <td>Everyone</td>\n",
       "      <td>Art &amp; Design;Pretend Play</td>\n",
       "      <td>January 15, 2018</td>\n",
       "      <td>2.0.0</td>\n",
       "      <td>4.0.3 and up</td>\n",
       "    </tr>\n",
       "    <tr>\n",
       "      <th>2033</th>\n",
       "      <td>Coloring book moana</td>\n",
       "      <td>FAMILY</td>\n",
       "      <td>3.9</td>\n",
       "      <td>974</td>\n",
       "      <td>14M</td>\n",
       "      <td>500,000+</td>\n",
       "      <td>Free</td>\n",
       "      <td>0</td>\n",
       "      <td>Everyone</td>\n",
       "      <td>Art &amp; Design;Pretend Play</td>\n",
       "      <td>January 15, 2018</td>\n",
       "      <td>2.0.0</td>\n",
       "      <td>4.0.3 and up</td>\n",
       "    </tr>\n",
       "  </tbody>\n",
       "</table>\n",
       "</div>"
      ],
      "text/plain": [
       "                      App        Category  Rating Reviews Size  Installs  \\\n",
       "1     Coloring book moana  ART_AND_DESIGN     3.9     967  14M  500,000+   \n",
       "2033  Coloring book moana          FAMILY     3.9     974  14M  500,000+   \n",
       "\n",
       "      Type Price Content Rating                     Genres      Last Updated  \\\n",
       "1     Free     0       Everyone  Art & Design;Pretend Play  January 15, 2018   \n",
       "2033  Free     0       Everyone  Art & Design;Pretend Play  January 15, 2018   \n",
       "\n",
       "     Current Ver   Android Ver  \n",
       "1          2.0.0  4.0.3 and up  \n",
       "2033       2.0.0  4.0.3 and up  "
      ]
     },
     "execution_count": 138,
     "metadata": {},
     "output_type": "execute_result"
    }
   ],
   "source": [
    "df_test1 = df1[df1['App'] == 'Coloring book moana']\n",
    "df_test1"
   ]
  },
  {
   "cell_type": "code",
   "execution_count": 139,
   "id": "b8684fa3-fde2-4519-a462-0e3f6c035ea2",
   "metadata": {},
   "outputs": [
    {
     "name": "stdout",
     "output_type": "stream",
     "text": [
      "<class 'pandas.core.frame.DataFrame'>\n",
      "Int64Index: 44 entries, 28538 to 28594\n",
      "Data columns (total 5 columns):\n",
      " #   Column                  Non-Null Count  Dtype  \n",
      "---  ------                  --------------  -----  \n",
      " 0   App                     44 non-null     object \n",
      " 1   Translated_Review       44 non-null     object \n",
      " 2   Sentiment               44 non-null     object \n",
      " 3   Sentiment_Polarity      44 non-null     float64\n",
      " 4   Sentiment_Subjectivity  44 non-null     float64\n",
      "dtypes: float64(2), object(3)\n",
      "memory usage: 2.1+ KB\n"
     ]
    },
    {
     "data": {
      "text/html": [
       "<div>\n",
       "<style scoped>\n",
       "    .dataframe tbody tr th:only-of-type {\n",
       "        vertical-align: middle;\n",
       "    }\n",
       "\n",
       "    .dataframe tbody tr th {\n",
       "        vertical-align: top;\n",
       "    }\n",
       "\n",
       "    .dataframe thead th {\n",
       "        text-align: right;\n",
       "    }\n",
       "</style>\n",
       "<table border=\"1\" class=\"dataframe\">\n",
       "  <thead>\n",
       "    <tr style=\"text-align: right;\">\n",
       "      <th></th>\n",
       "      <th>App</th>\n",
       "      <th>Translated_Review</th>\n",
       "      <th>Sentiment</th>\n",
       "      <th>Sentiment_Polarity</th>\n",
       "      <th>Sentiment_Subjectivity</th>\n",
       "    </tr>\n",
       "  </thead>\n",
       "  <tbody>\n",
       "    <tr>\n",
       "      <th>28538</th>\n",
       "      <td>Coloring book moana</td>\n",
       "      <td>A kid's excessive ads. The types ads allowed a...</td>\n",
       "      <td>Negative</td>\n",
       "      <td>-0.250</td>\n",
       "      <td>1.000000</td>\n",
       "    </tr>\n",
       "    <tr>\n",
       "      <th>28539</th>\n",
       "      <td>Coloring book moana</td>\n",
       "      <td>It bad &gt;:(</td>\n",
       "      <td>Negative</td>\n",
       "      <td>-0.725</td>\n",
       "      <td>0.833333</td>\n",
       "    </tr>\n",
       "    <tr>\n",
       "      <th>28540</th>\n",
       "      <td>Coloring book moana</td>\n",
       "      <td>like</td>\n",
       "      <td>Neutral</td>\n",
       "      <td>0.000</td>\n",
       "      <td>0.000000</td>\n",
       "    </tr>\n",
       "    <tr>\n",
       "      <th>28542</th>\n",
       "      <td>Coloring book moana</td>\n",
       "      <td>I love colors inspyering</td>\n",
       "      <td>Positive</td>\n",
       "      <td>0.500</td>\n",
       "      <td>0.600000</td>\n",
       "    </tr>\n",
       "    <tr>\n",
       "      <th>28543</th>\n",
       "      <td>Coloring book moana</td>\n",
       "      <td>I hate</td>\n",
       "      <td>Negative</td>\n",
       "      <td>-0.800</td>\n",
       "      <td>0.900000</td>\n",
       "    </tr>\n",
       "  </tbody>\n",
       "</table>\n",
       "</div>"
      ],
      "text/plain": [
       "                       App                                  Translated_Review  \\\n",
       "28538  Coloring book moana  A kid's excessive ads. The types ads allowed a...   \n",
       "28539  Coloring book moana                                         It bad >:(   \n",
       "28540  Coloring book moana                                               like   \n",
       "28542  Coloring book moana                           I love colors inspyering   \n",
       "28543  Coloring book moana                                             I hate   \n",
       "\n",
       "      Sentiment  Sentiment_Polarity  Sentiment_Subjectivity  \n",
       "28538  Negative              -0.250                1.000000  \n",
       "28539  Negative              -0.725                0.833333  \n",
       "28540   Neutral               0.000                0.000000  \n",
       "28542  Positive               0.500                0.600000  \n",
       "28543  Negative              -0.800                0.900000  "
      ]
     },
     "execution_count": 139,
     "metadata": {},
     "output_type": "execute_result"
    }
   ],
   "source": [
    "df_test2 = df2[df2['App'] == 'Coloring book moana']\n",
    "df_test2.info()\n",
    "df_test2.head()"
   ]
  },
  {
   "cell_type": "code",
   "execution_count": 140,
   "id": "102f5de9-0466-4b7d-9080-48fe4a92465e",
   "metadata": {},
   "outputs": [
    {
     "name": "stdout",
     "output_type": "stream",
     "text": [
      "<class 'pandas.core.frame.DataFrame'>\n",
      "Int64Index: 88 entries, 1 to 88\n",
      "Data columns (total 18 columns):\n",
      " #   Column                  Non-Null Count  Dtype   \n",
      "---  ------                  --------------  -----   \n",
      " 0   App                     88 non-null     object  \n",
      " 1   Category                88 non-null     object  \n",
      " 2   Rating                  88 non-null     float64 \n",
      " 3   Reviews                 88 non-null     object  \n",
      " 4   Size                    88 non-null     object  \n",
      " 5   Installs                88 non-null     object  \n",
      " 6   Type                    88 non-null     object  \n",
      " 7   Price                   88 non-null     object  \n",
      " 8   Content Rating          88 non-null     object  \n",
      " 9   Genres                  88 non-null     object  \n",
      " 10  Last Updated            88 non-null     object  \n",
      " 11  Current Ver             88 non-null     object  \n",
      " 12  Android Ver             88 non-null     object  \n",
      " 13  Translated_Review       88 non-null     object  \n",
      " 14  Sentiment               88 non-null     object  \n",
      " 15  Sentiment_Polarity      88 non-null     float64 \n",
      " 16  Sentiment_Subjectivity  88 non-null     float64 \n",
      " 17  _merge                  88 non-null     category\n",
      "dtypes: category(1), float64(3), object(14)\n",
      "memory usage: 12.6+ KB\n"
     ]
    }
   ],
   "source": [
    "df_test3 = df3[df3['App'] == 'Coloring book moana']\n",
    "df_test3.info()"
   ]
  },
  {
   "cell_type": "markdown",
   "id": "99587d7f-85e5-4dca-8e4a-74e38b1fe6d2",
   "metadata": {},
   "source": [
    "It looks like the merge duplicated the number of rows, will now check that"
   ]
  },
  {
   "cell_type": "code",
   "execution_count": 141,
   "id": "6051de67-6e25-4d61-a178-0d52abad932e",
   "metadata": {},
   "outputs": [
    {
     "data": {
      "text/plain": [
       "1     False\n",
       "2     False\n",
       "3     False\n",
       "4     False\n",
       "5     False\n",
       "      ...  \n",
       "84     True\n",
       "85     True\n",
       "86     True\n",
       "87     True\n",
       "88     True\n",
       "Length: 88, dtype: bool"
      ]
     },
     "execution_count": 141,
     "metadata": {},
     "output_type": "execute_result"
    }
   ],
   "source": [
    "df_test3.duplicated()"
   ]
  },
  {
   "cell_type": "code",
   "execution_count": 142,
   "id": "d0209d9a-4994-4be5-bb29-23b9271d9571",
   "metadata": {},
   "outputs": [
    {
     "name": "stdout",
     "output_type": "stream",
     "text": [
      "<class 'pandas.core.frame.DataFrame'>\n",
      "Int64Index: 51135 entries, 0 to 83714\n",
      "Data columns (total 18 columns):\n",
      " #   Column                  Non-Null Count  Dtype   \n",
      "---  ------                  --------------  -----   \n",
      " 0   App                     51135 non-null  object  \n",
      " 1   Category                49693 non-null  object  \n",
      " 2   Rating                  48191 non-null  float64 \n",
      " 3   Reviews                 49693 non-null  object  \n",
      " 4   Size                    49693 non-null  object  \n",
      " 5   Installs                49693 non-null  object  \n",
      " 6   Type                    49692 non-null  object  \n",
      " 7   Price                   49693 non-null  object  \n",
      " 8   Content Rating          49692 non-null  object  \n",
      " 9   Genres                  49693 non-null  object  \n",
      " 10  Last Updated            49693 non-null  object  \n",
      " 11  Current Ver             49685 non-null  object  \n",
      " 12  Android Ver             49690 non-null  object  \n",
      " 13  Translated_Review       41856 non-null  object  \n",
      " 14  Sentiment               41856 non-null  object  \n",
      " 15  Sentiment_Polarity      41856 non-null  float64 \n",
      " 16  Sentiment_Subjectivity  41856 non-null  float64 \n",
      " 17  _merge                  51135 non-null  category\n",
      "dtypes: category(1), float64(3), object(14)\n",
      "memory usage: 7.1+ MB\n"
     ]
    }
   ],
   "source": [
    "df3 = df3.drop_duplicates(keep = 'last')\n",
    "df3.info()"
   ]
  },
  {
   "cell_type": "markdown",
   "id": "e59fd77c-ba13-43ef-98ee-61c0f84b3cbc",
   "metadata": {},
   "source": [
    "Looks like we got rid of the duplicates now"
   ]
  },
  {
   "cell_type": "code",
   "execution_count": 143,
   "id": "e6fed506-784f-4264-87f3-feac1c059c94",
   "metadata": {},
   "outputs": [
    {
     "data": {
      "text/html": [
       "<div>\n",
       "<style scoped>\n",
       "    .dataframe tbody tr th:only-of-type {\n",
       "        vertical-align: middle;\n",
       "    }\n",
       "\n",
       "    .dataframe tbody tr th {\n",
       "        vertical-align: top;\n",
       "    }\n",
       "\n",
       "    .dataframe thead th {\n",
       "        text-align: right;\n",
       "    }\n",
       "</style>\n",
       "<table border=\"1\" class=\"dataframe\">\n",
       "  <thead>\n",
       "    <tr style=\"text-align: right;\">\n",
       "      <th></th>\n",
       "      <th>App</th>\n",
       "      <th>Category</th>\n",
       "      <th>Rating</th>\n",
       "      <th>Reviews</th>\n",
       "      <th>Size</th>\n",
       "      <th>Installs</th>\n",
       "      <th>Type</th>\n",
       "      <th>Price</th>\n",
       "      <th>Content Rating</th>\n",
       "      <th>Genres</th>\n",
       "      <th>Last Updated</th>\n",
       "      <th>Current Ver</th>\n",
       "      <th>Android Ver</th>\n",
       "      <th>Translated_Review</th>\n",
       "      <th>Sentiment</th>\n",
       "      <th>Sentiment_Polarity</th>\n",
       "      <th>Sentiment_Subjectivity</th>\n",
       "      <th>_merge</th>\n",
       "    </tr>\n",
       "  </thead>\n",
       "  <tbody>\n",
       "    <tr>\n",
       "      <th>59826</th>\n",
       "      <td>BBC Sport</td>\n",
       "      <td>SPORTS</td>\n",
       "      <td>4.2</td>\n",
       "      <td>18679</td>\n",
       "      <td>Varies with device</td>\n",
       "      <td>1,000,000+</td>\n",
       "      <td>Free</td>\n",
       "      <td>0</td>\n",
       "      <td>Everyone</td>\n",
       "      <td>Sports</td>\n",
       "      <td>April 25, 2018</td>\n",
       "      <td>Varies with device</td>\n",
       "      <td>Varies with device</td>\n",
       "      <td>Will open general sport page . To get open spo...</td>\n",
       "      <td>Positive</td>\n",
       "      <td>0.012500</td>\n",
       "      <td>0.625000</td>\n",
       "      <td>both</td>\n",
       "    </tr>\n",
       "    <tr>\n",
       "      <th>79968</th>\n",
       "      <td>DM for WhatsApp</td>\n",
       "      <td>COMMUNICATION</td>\n",
       "      <td>4.4</td>\n",
       "      <td>25</td>\n",
       "      <td>2.9M</td>\n",
       "      <td>5,000+</td>\n",
       "      <td>Free</td>\n",
       "      <td>0</td>\n",
       "      <td>Everyone</td>\n",
       "      <td>Communication</td>\n",
       "      <td>June 3, 2018</td>\n",
       "      <td>0.3.7</td>\n",
       "      <td>4.4 and up</td>\n",
       "      <td>NaN</td>\n",
       "      <td>NaN</td>\n",
       "      <td>NaN</td>\n",
       "      <td>NaN</td>\n",
       "      <td>left_only</td>\n",
       "    </tr>\n",
       "    <tr>\n",
       "      <th>51049</th>\n",
       "      <td>Diabetes:M</td>\n",
       "      <td>MEDICAL</td>\n",
       "      <td>4.6</td>\n",
       "      <td>15545</td>\n",
       "      <td>Varies with device</td>\n",
       "      <td>100,000+</td>\n",
       "      <td>Free</td>\n",
       "      <td>0</td>\n",
       "      <td>Everyone</td>\n",
       "      <td>Medical</td>\n",
       "      <td>August 1, 2018</td>\n",
       "      <td>6.1.3</td>\n",
       "      <td>Varies with device</td>\n",
       "      <td>This best Medication logging / Diabetic I ever...</td>\n",
       "      <td>Positive</td>\n",
       "      <td>0.456250</td>\n",
       "      <td>0.614286</td>\n",
       "      <td>both</td>\n",
       "    </tr>\n",
       "    <tr>\n",
       "      <th>75833</th>\n",
       "      <td>💎 I'm rich</td>\n",
       "      <td>LIFESTYLE</td>\n",
       "      <td>3.8</td>\n",
       "      <td>718</td>\n",
       "      <td>26M</td>\n",
       "      <td>10,000+</td>\n",
       "      <td>Paid</td>\n",
       "      <td>$399.99</td>\n",
       "      <td>Everyone</td>\n",
       "      <td>Lifestyle</td>\n",
       "      <td>March 11, 2018</td>\n",
       "      <td>1.0.0</td>\n",
       "      <td>4.4 and up</td>\n",
       "      <td>NaN</td>\n",
       "      <td>NaN</td>\n",
       "      <td>NaN</td>\n",
       "      <td>NaN</td>\n",
       "      <td>left_only</td>\n",
       "    </tr>\n",
       "    <tr>\n",
       "      <th>56583</th>\n",
       "      <td>Blur Image Background Editor (Blur Photo Editor)</td>\n",
       "      <td>PHOTOGRAPHY</td>\n",
       "      <td>4.4</td>\n",
       "      <td>62421</td>\n",
       "      <td>9.6M</td>\n",
       "      <td>5,000,000+</td>\n",
       "      <td>Free</td>\n",
       "      <td>0</td>\n",
       "      <td>Everyone</td>\n",
       "      <td>Photography</td>\n",
       "      <td>July 28, 2018</td>\n",
       "      <td>2.4</td>\n",
       "      <td>4.1 and up</td>\n",
       "      <td>It's simple easy use!</td>\n",
       "      <td>Positive</td>\n",
       "      <td>0.270833</td>\n",
       "      <td>0.595238</td>\n",
       "      <td>both</td>\n",
       "    </tr>\n",
       "    <tr>\n",
       "      <th>12405</th>\n",
       "      <td>Edmodo</td>\n",
       "      <td>FAMILY</td>\n",
       "      <td>4.1</td>\n",
       "      <td>200214</td>\n",
       "      <td>18M</td>\n",
       "      <td>10,000,000+</td>\n",
       "      <td>Free</td>\n",
       "      <td>0</td>\n",
       "      <td>Everyone</td>\n",
       "      <td>Education</td>\n",
       "      <td>August 6, 2018</td>\n",
       "      <td>9.12.6</td>\n",
       "      <td>4.0.3 and up</td>\n",
       "      <td>I FREAKING LOVE THIS SO MUCH I CANT EVEN STAND...</td>\n",
       "      <td>Positive</td>\n",
       "      <td>0.375000</td>\n",
       "      <td>0.400000</td>\n",
       "      <td>both</td>\n",
       "    </tr>\n",
       "    <tr>\n",
       "      <th>65251</th>\n",
       "      <td>Flashlight &amp; LED Torch</td>\n",
       "      <td>TOOLS</td>\n",
       "      <td>4.3</td>\n",
       "      <td>111507</td>\n",
       "      <td>Varies with device</td>\n",
       "      <td>10,000,000+</td>\n",
       "      <td>Free</td>\n",
       "      <td>0</td>\n",
       "      <td>Everyone</td>\n",
       "      <td>Tools</td>\n",
       "      <td>December 29, 2017</td>\n",
       "      <td>Varies with device</td>\n",
       "      <td>Varies with device</td>\n",
       "      <td>Alright</td>\n",
       "      <td>Neutral</td>\n",
       "      <td>0.000000</td>\n",
       "      <td>0.000000</td>\n",
       "      <td>both</td>\n",
       "    </tr>\n",
       "    <tr>\n",
       "      <th>51944</th>\n",
       "      <td>Facebook</td>\n",
       "      <td>SOCIAL</td>\n",
       "      <td>4.1</td>\n",
       "      <td>78128208</td>\n",
       "      <td>Varies with device</td>\n",
       "      <td>1,000,000,000+</td>\n",
       "      <td>Free</td>\n",
       "      <td>0</td>\n",
       "      <td>Teen</td>\n",
       "      <td>Social</td>\n",
       "      <td>August 3, 2018</td>\n",
       "      <td>Varies with device</td>\n",
       "      <td>Varies with device</td>\n",
       "      <td>This new community standar stupid. They banned...</td>\n",
       "      <td>Negative</td>\n",
       "      <td>-0.221212</td>\n",
       "      <td>0.484848</td>\n",
       "      <td>both</td>\n",
       "    </tr>\n",
       "    <tr>\n",
       "      <th>69198</th>\n",
       "      <td>Dropbox</td>\n",
       "      <td>PRODUCTIVITY</td>\n",
       "      <td>4.4</td>\n",
       "      <td>1860844</td>\n",
       "      <td>61M</td>\n",
       "      <td>500,000,000+</td>\n",
       "      <td>Free</td>\n",
       "      <td>0</td>\n",
       "      <td>Everyone</td>\n",
       "      <td>Productivity</td>\n",
       "      <td>August 1, 2018</td>\n",
       "      <td>Varies with device</td>\n",
       "      <td>Varies with device</td>\n",
       "      <td>Works I need work</td>\n",
       "      <td>Neutral</td>\n",
       "      <td>0.000000</td>\n",
       "      <td>0.000000</td>\n",
       "      <td>both</td>\n",
       "    </tr>\n",
       "    <tr>\n",
       "      <th>44725</th>\n",
       "      <td>Alto's Adventure</td>\n",
       "      <td>GAME</td>\n",
       "      <td>4.6</td>\n",
       "      <td>515240</td>\n",
       "      <td>63M</td>\n",
       "      <td>10,000,000+</td>\n",
       "      <td>Free</td>\n",
       "      <td>0</td>\n",
       "      <td>Everyone</td>\n",
       "      <td>Action</td>\n",
       "      <td>June 5, 2018</td>\n",
       "      <td>1.7.1</td>\n",
       "      <td>4.0 and up</td>\n",
       "      <td>Would done 5 stars across board werent small t...</td>\n",
       "      <td>Positive</td>\n",
       "      <td>0.027778</td>\n",
       "      <td>0.322222</td>\n",
       "      <td>both</td>\n",
       "    </tr>\n",
       "  </tbody>\n",
       "</table>\n",
       "</div>"
      ],
      "text/plain": [
       "                                                    App       Category  \\\n",
       "59826                                         BBC Sport         SPORTS   \n",
       "79968                                   DM for WhatsApp  COMMUNICATION   \n",
       "51049                                        Diabetes:M        MEDICAL   \n",
       "75833                                        💎 I'm rich      LIFESTYLE   \n",
       "56583  Blur Image Background Editor (Blur Photo Editor)    PHOTOGRAPHY   \n",
       "12405                                            Edmodo         FAMILY   \n",
       "65251                            Flashlight & LED Torch          TOOLS   \n",
       "51944                                          Facebook         SOCIAL   \n",
       "69198                                           Dropbox   PRODUCTIVITY   \n",
       "44725                                  Alto's Adventure           GAME   \n",
       "\n",
       "       Rating   Reviews                Size        Installs  Type    Price  \\\n",
       "59826     4.2     18679  Varies with device      1,000,000+  Free        0   \n",
       "79968     4.4        25                2.9M          5,000+  Free        0   \n",
       "51049     4.6     15545  Varies with device        100,000+  Free        0   \n",
       "75833     3.8       718                 26M         10,000+  Paid  $399.99   \n",
       "56583     4.4     62421                9.6M      5,000,000+  Free        0   \n",
       "12405     4.1    200214                 18M     10,000,000+  Free        0   \n",
       "65251     4.3    111507  Varies with device     10,000,000+  Free        0   \n",
       "51944     4.1  78128208  Varies with device  1,000,000,000+  Free        0   \n",
       "69198     4.4   1860844                 61M    500,000,000+  Free        0   \n",
       "44725     4.6    515240                 63M     10,000,000+  Free        0   \n",
       "\n",
       "      Content Rating         Genres       Last Updated         Current Ver  \\\n",
       "59826       Everyone         Sports     April 25, 2018  Varies with device   \n",
       "79968       Everyone  Communication       June 3, 2018               0.3.7   \n",
       "51049       Everyone        Medical     August 1, 2018               6.1.3   \n",
       "75833       Everyone      Lifestyle     March 11, 2018               1.0.0   \n",
       "56583       Everyone    Photography      July 28, 2018                 2.4   \n",
       "12405       Everyone      Education     August 6, 2018              9.12.6   \n",
       "65251       Everyone          Tools  December 29, 2017  Varies with device   \n",
       "51944           Teen         Social     August 3, 2018  Varies with device   \n",
       "69198       Everyone   Productivity     August 1, 2018  Varies with device   \n",
       "44725       Everyone         Action       June 5, 2018               1.7.1   \n",
       "\n",
       "              Android Ver                                  Translated_Review  \\\n",
       "59826  Varies with device  Will open general sport page . To get open spo...   \n",
       "79968          4.4 and up                                                NaN   \n",
       "51049  Varies with device  This best Medication logging / Diabetic I ever...   \n",
       "75833          4.4 and up                                                NaN   \n",
       "56583          4.1 and up                              It's simple easy use!   \n",
       "12405        4.0.3 and up  I FREAKING LOVE THIS SO MUCH I CANT EVEN STAND...   \n",
       "65251  Varies with device                                            Alright   \n",
       "51944  Varies with device  This new community standar stupid. They banned...   \n",
       "69198  Varies with device                                  Works I need work   \n",
       "44725          4.0 and up  Would done 5 stars across board werent small t...   \n",
       "\n",
       "      Sentiment  Sentiment_Polarity  Sentiment_Subjectivity     _merge  \n",
       "59826  Positive            0.012500                0.625000       both  \n",
       "79968       NaN                 NaN                     NaN  left_only  \n",
       "51049  Positive            0.456250                0.614286       both  \n",
       "75833       NaN                 NaN                     NaN  left_only  \n",
       "56583  Positive            0.270833                0.595238       both  \n",
       "12405  Positive            0.375000                0.400000       both  \n",
       "65251   Neutral            0.000000                0.000000       both  \n",
       "51944  Negative           -0.221212                0.484848       both  \n",
       "69198   Neutral            0.000000                0.000000       both  \n",
       "44725  Positive            0.027778                0.322222       both  "
      ]
     },
     "execution_count": 143,
     "metadata": {},
     "output_type": "execute_result"
    }
   ],
   "source": [
    "df3.sample(10)"
   ]
  },
  {
   "cell_type": "markdown",
   "id": "40dd242c-5844-4726-8b3d-48754d0c1101",
   "metadata": {},
   "source": [
    "It is clear by the last column that some Apps only had info in df1, and some only had info in df2. I have decided to leave it like that for now because we do not want to lose data from df1 as some analyses will only need df1."
   ]
  },
  {
   "cell_type": "markdown",
   "id": "ecf199d5-a028-4b3c-8d47-081130f36a01",
   "metadata": {},
   "source": [
    "Some more data cleaning is necessary. Let's look at the data for each column and see what needs to be cleanned. I will define two functions: one to look at string columns, and one to look at number columns. <a class=\"anchor\" id=\"functions\"></a>"
   ]
  },
  {
   "cell_type": "code",
   "execution_count": 144,
   "id": "de983458-7b11-4d10-8893-88e18f578bde",
   "metadata": {},
   "outputs": [],
   "source": [
    "def str_info_column(df,col_name):\n",
    "    col = df[col_name]\n",
    "    info = {\n",
    "        'name': col_name,\n",
    "        'unique values': col.unique(),\n",
    "        'value counts': col.value_counts()\n",
    "    }\n",
    "    return info "
   ]
  },
  {
   "cell_type": "code",
   "execution_count": 145,
   "id": "0865ec67-0029-4269-b7ef-138d5d96b96c",
   "metadata": {},
   "outputs": [],
   "source": [
    "def n_info_column(df,col_name):\n",
    "    col = df[col_name]\n",
    "    info = {\n",
    "        'name': col_name,\n",
    "        'min': col.min(),\n",
    "        'max': col.max(),\n",
    "        'value counts':col.value_counts()\n",
    "    }\n",
    "    return info "
   ]
  },
  {
   "cell_type": "markdown",
   "id": "af740c1d-566b-48a5-89ca-6da8f24ea559",
   "metadata": {},
   "source": [
    "Let us go column by column now <a class=\"anchor\" id=\"cleancols\"></a>"
   ]
  },
  {
   "cell_type": "markdown",
   "id": "e1057ba1-0030-4812-b1ac-7fe91d1e3a5f",
   "metadata": {},
   "source": [
    "Category column <a class=\"anchor\" id=\"category\"></a>"
   ]
  },
  {
   "cell_type": "code",
   "execution_count": 146,
   "id": "c9a62918-fb84-496b-8003-b55d101778e1",
   "metadata": {},
   "outputs": [
    {
     "data": {
      "text/plain": [
       "{'name': 'Category',\n",
       " 'unique values': array(['ART_AND_DESIGN', 'FAMILY', 'AUTO_AND_VEHICLES', 'BEAUTY',\n",
       "        'BOOKS_AND_REFERENCE', 'BUSINESS', 'COMMUNICATION', 'COMICS',\n",
       "        'DATING', 'TOOLS', 'EDUCATION', 'ENTERTAINMENT', 'EVENTS',\n",
       "        'FINANCE', 'FOOD_AND_DRINK', 'HEALTH_AND_FITNESS', 'MEDICAL',\n",
       "        'HOUSE_AND_HOME', 'LIBRARIES_AND_DEMO', 'LIFESTYLE', 'GAME',\n",
       "        'SPORTS', 'VIDEO_PLAYERS', 'SOCIAL', 'SHOPPING', 'PHOTOGRAPHY',\n",
       "        'TRAVEL_AND_LOCAL', 'PERSONALIZATION', 'PRODUCTIVITY', 'PARENTING',\n",
       "        'WEATHER', 'NEWS_AND_MAGAZINES', 'MAPS_AND_NAVIGATION', '1.9', nan],\n",
       "       dtype=object),\n",
       " 'value counts': GAME                   10247\n",
       " FAMILY                  5398\n",
       " TOOLS                   2450\n",
       " HEALTH_AND_FITNESS      2150\n",
       " PRODUCTIVITY            2015\n",
       " TRAVEL_AND_LOCAL        1949\n",
       " SPORTS                  1921\n",
       " FINANCE                 1894\n",
       " PHOTOGRAPHY             1802\n",
       " MEDICAL                 1679\n",
       " DATING                  1638\n",
       " COMMUNICATION           1607\n",
       " PERSONALIZATION         1538\n",
       " LIFESTYLE               1289\n",
       " SOCIAL                  1229\n",
       " BUSINESS                1206\n",
       " SHOPPING                1186\n",
       " NEWS_AND_MAGAZINES      1132\n",
       " ENTERTAINMENT            952\n",
       " BOOKS_AND_REFERENCE      923\n",
       " EDUCATION                842\n",
       " FOOD_AND_DRINK           765\n",
       " HOUSE_AND_HOME           567\n",
       " VIDEO_PLAYERS            492\n",
       " ART_AND_DESIGN           409\n",
       " LIBRARIES_AND_DEMO       408\n",
       " BEAUTY                   364\n",
       " AUTO_AND_VEHICLES        360\n",
       " MAPS_AND_NAVIGATION      319\n",
       " PARENTING                308\n",
       " WEATHER                  301\n",
       " EVENTS                   215\n",
       " COMICS                   137\n",
       " 1.9                        1\n",
       " Name: Category, dtype: int64}"
      ]
     },
     "execution_count": 146,
     "metadata": {},
     "output_type": "execute_result"
    }
   ],
   "source": [
    "str_info_column(df3,'Category') "
   ]
  },
  {
   "cell_type": "markdown",
   "id": "ad496497-42de-4816-b24b-b78728d5b72b",
   "metadata": {},
   "source": [
    "There is a strange '1.9', let's investigate that."
   ]
  },
  {
   "cell_type": "code",
   "execution_count": 147,
   "id": "19624e32-0f3e-484a-b564-bcfcb8c9f05c",
   "metadata": {},
   "outputs": [
    {
     "data": {
      "text/html": [
       "<div>\n",
       "<style scoped>\n",
       "    .dataframe tbody tr th:only-of-type {\n",
       "        vertical-align: middle;\n",
       "    }\n",
       "\n",
       "    .dataframe tbody tr th {\n",
       "        vertical-align: top;\n",
       "    }\n",
       "\n",
       "    .dataframe thead th {\n",
       "        text-align: right;\n",
       "    }\n",
       "</style>\n",
       "<table border=\"1\" class=\"dataframe\">\n",
       "  <thead>\n",
       "    <tr style=\"text-align: right;\">\n",
       "      <th></th>\n",
       "      <th>App</th>\n",
       "      <th>Category</th>\n",
       "      <th>Rating</th>\n",
       "      <th>Reviews</th>\n",
       "      <th>Size</th>\n",
       "      <th>Installs</th>\n",
       "      <th>Type</th>\n",
       "      <th>Price</th>\n",
       "      <th>Content Rating</th>\n",
       "      <th>Genres</th>\n",
       "      <th>Last Updated</th>\n",
       "      <th>Current Ver</th>\n",
       "      <th>Android Ver</th>\n",
       "      <th>Translated_Review</th>\n",
       "      <th>Sentiment</th>\n",
       "      <th>Sentiment_Polarity</th>\n",
       "      <th>Sentiment_Subjectivity</th>\n",
       "      <th>_merge</th>\n",
       "    </tr>\n",
       "  </thead>\n",
       "  <tbody>\n",
       "    <tr>\n",
       "      <th>81857</th>\n",
       "      <td>Life Made WI-Fi Touchscreen Photo Frame</td>\n",
       "      <td>1.9</td>\n",
       "      <td>19.0</td>\n",
       "      <td>3.0M</td>\n",
       "      <td>1,000+</td>\n",
       "      <td>Free</td>\n",
       "      <td>0</td>\n",
       "      <td>Everyone</td>\n",
       "      <td>NaN</td>\n",
       "      <td>February 11, 2018</td>\n",
       "      <td>1.0.19</td>\n",
       "      <td>4.0 and up</td>\n",
       "      <td>NaN</td>\n",
       "      <td>NaN</td>\n",
       "      <td>NaN</td>\n",
       "      <td>NaN</td>\n",
       "      <td>NaN</td>\n",
       "      <td>left_only</td>\n",
       "    </tr>\n",
       "  </tbody>\n",
       "</table>\n",
       "</div>"
      ],
      "text/plain": [
       "                                           App Category  Rating Reviews  \\\n",
       "81857  Life Made WI-Fi Touchscreen Photo Frame      1.9    19.0    3.0M   \n",
       "\n",
       "         Size Installs Type     Price Content Rating             Genres  \\\n",
       "81857  1,000+     Free    0  Everyone            NaN  February 11, 2018   \n",
       "\n",
       "      Last Updated Current Ver Android Ver Translated_Review Sentiment  \\\n",
       "81857       1.0.19  4.0 and up         NaN               NaN       NaN   \n",
       "\n",
       "       Sentiment_Polarity  Sentiment_Subjectivity     _merge  \n",
       "81857                 NaN                     NaN  left_only  "
      ]
     },
     "execution_count": 147,
     "metadata": {},
     "output_type": "execute_result"
    }
   ],
   "source": [
    "df3[df3['Category'] == '1.9']"
   ]
  },
  {
   "cell_type": "markdown",
   "id": "c7ce2203-070a-4488-b9b7-84656e147d9b",
   "metadata": {},
   "source": [
    "Looks like this is possibly an error, so we will replace it with a nan"
   ]
  },
  {
   "cell_type": "code",
   "execution_count": 148,
   "id": "795dd6a9-669d-40bf-8973-a773ad447750",
   "metadata": {},
   "outputs": [],
   "source": [
    "df3['Category'] = df3['Category'].replace('1.9', None)"
   ]
  },
  {
   "cell_type": "code",
   "execution_count": 149,
   "id": "ba496c9d-1f9a-4f43-a2ec-aeda2cd22dfa",
   "metadata": {},
   "outputs": [
    {
     "data": {
      "text/plain": [
       "array(['ART_AND_DESIGN', 'FAMILY', 'AUTO_AND_VEHICLES', 'BEAUTY',\n",
       "       'BOOKS_AND_REFERENCE', 'BUSINESS', 'COMMUNICATION', 'COMICS',\n",
       "       'DATING', 'TOOLS', 'EDUCATION', 'ENTERTAINMENT', 'EVENTS',\n",
       "       'FINANCE', 'FOOD_AND_DRINK', 'HEALTH_AND_FITNESS', 'MEDICAL',\n",
       "       'HOUSE_AND_HOME', 'LIBRARIES_AND_DEMO', 'LIFESTYLE', 'GAME',\n",
       "       'SPORTS', 'VIDEO_PLAYERS', 'SOCIAL', 'SHOPPING', 'PHOTOGRAPHY',\n",
       "       'TRAVEL_AND_LOCAL', 'PERSONALIZATION', 'PRODUCTIVITY', 'PARENTING',\n",
       "       'WEATHER', 'NEWS_AND_MAGAZINES', 'MAPS_AND_NAVIGATION', nan],\n",
       "      dtype=object)"
      ]
     },
     "execution_count": 149,
     "metadata": {},
     "output_type": "execute_result"
    }
   ],
   "source": [
    "df3.Category.unique()"
   ]
  },
  {
   "cell_type": "markdown",
   "id": "d624936e-96cb-4184-b4df-261a6d2b0427",
   "metadata": {},
   "source": [
    "Rating column <a class=\"anchor\" id=\"rating\"></a>"
   ]
  },
  {
   "cell_type": "code",
   "execution_count": 150,
   "id": "3a4278c8-77aa-4b10-a5a8-1e75b3461581",
   "metadata": {},
   "outputs": [
    {
     "data": {
      "text/plain": [
       "{'name': 'Rating',\n",
       " 'min': 1.0,\n",
       " 'max': 19.0,\n",
       " 'value counts': 4.4     7381\n",
       " 4.5     7080\n",
       " 4.3     6670\n",
       " 4.6     6240\n",
       " 4.2     5262\n",
       " 4.1     3600\n",
       " 4.7     3012\n",
       " 4.0     2325\n",
       " 3.9     1746\n",
       " 3.8     1023\n",
       " 3.7      751\n",
       " 4.8      586\n",
       " 3.5      441\n",
       " 3.4      359\n",
       " 3.6      346\n",
       " 5.0      271\n",
       " 3.1      185\n",
       " 4.9      182\n",
       " 3.0      143\n",
       " 3.3      138\n",
       " 3.2      102\n",
       " 2.7       60\n",
       " 2.6       54\n",
       " 2.9       45\n",
       " 2.8       40\n",
       " 2.5       20\n",
       " 2.3       20\n",
       " 2.4       19\n",
       " 1.0       16\n",
       " 2.2       14\n",
       " 2.0       12\n",
       " 1.9       12\n",
       " 1.7        8\n",
       " 1.8        8\n",
       " 2.1        8\n",
       " 1.6        4\n",
       " 1.4        3\n",
       " 1.5        3\n",
       " 1.2        1\n",
       " 19.0       1\n",
       " Name: Rating, dtype: int64}"
      ]
     },
     "execution_count": 150,
     "metadata": {},
     "output_type": "execute_result"
    }
   ],
   "source": [
    "n_info_column(df3,'Rating')"
   ]
  },
  {
   "cell_type": "markdown",
   "id": "117df5d9-66b6-4cab-b5a5-a638198af40f",
   "metadata": {},
   "source": [
    "is it possible to have 19 as max in Rating? "
   ]
  },
  {
   "cell_type": "markdown",
   "id": "f3c8ad8c-fe13-4aff-93b0-f341430a5df4",
   "metadata": {},
   "source": [
    "It looks like this number is an error. It looks like this row is the same row we had before with '1.9'as the category. Looking closely one can see that all entries are slightly off - possibly when scraping something went wrong with the Category and all observations are misplaced in the wrong collumn.  I'll get rid of this row."
   ]
  },
  {
   "cell_type": "code",
   "execution_count": 151,
   "id": "b7697437-92fc-44a5-9026-24bc3c770ebc",
   "metadata": {},
   "outputs": [],
   "source": [
    "df3 = df3[df3.Rating < 5]"
   ]
  },
  {
   "cell_type": "markdown",
   "id": "ed679873-815d-4a2a-9a9f-16a77a8e7a70",
   "metadata": {},
   "source": [
    "Reviews column <a class=\"anchor\" id=\"reviews\"></a>"
   ]
  },
  {
   "cell_type": "code",
   "execution_count": 152,
   "id": "bf84c744-03d2-42a6-a7d3-a37252c2dc01",
   "metadata": {},
   "outputs": [
    {
     "data": {
      "text/plain": [
       "{'name': 'Reviews',\n",
       " 'min': '1',\n",
       " 'max': '9992',\n",
       " 'value counts': 78158306    130\n",
       " 78128208    130\n",
       " 13791       126\n",
       " 1842381     124\n",
       " 1841061     124\n",
       "            ... \n",
       " 7529865       1\n",
       " 93726         1\n",
       " 597068        1\n",
       " 823109        1\n",
       " 398307        1\n",
       " Name: Reviews, Length: 5992, dtype: int64}"
      ]
     },
     "execution_count": 152,
     "metadata": {},
     "output_type": "execute_result"
    }
   ],
   "source": [
    "n_info_column(df3,'Reviews')"
   ]
  },
  {
   "cell_type": "markdown",
   "id": "abf70f86-2e09-412c-8ac8-8a36b4759851",
   "metadata": {},
   "source": [
    "It looks like pandas is not reading this collumn as a number collumn, but rather as text. this could get tricky in some analyses. So let's just convert that to float."
   ]
  },
  {
   "cell_type": "code",
   "execution_count": 153,
   "id": "78c9cadd-8b99-4893-96f1-d9d2e4b581f3",
   "metadata": {},
   "outputs": [],
   "source": [
    "df3['Reviews'] = df3['Reviews'].astype(float) "
   ]
  },
  {
   "cell_type": "markdown",
   "id": "0b5ea485-74e0-4a92-9e3c-f7a3ba87fef5",
   "metadata": {},
   "source": [
    "So when we re run the min and max we get numbers now!"
   ]
  },
  {
   "cell_type": "markdown",
   "id": "88cd92ac-0cce-4105-a08a-347de1b873d7",
   "metadata": {},
   "source": [
    "Size column <a class=\"anchor\" id=\"size\"></a>"
   ]
  },
  {
   "cell_type": "code",
   "execution_count": 154,
   "id": "d146d755-66dc-490b-9585-947aeb19bf4a",
   "metadata": {},
   "outputs": [
    {
     "data": {
      "text/plain": [
       "{'name': 'Size',\n",
       " 'min': '1.0M',\n",
       " 'max': 'Varies with device',\n",
       " 'value counts': Varies with device    14999\n",
       " 11M                     942\n",
       " 97M                     937\n",
       " 14M                     861\n",
       " 24M                     840\n",
       "                       ...  \n",
       " 442k                      1\n",
       " 842k                      1\n",
       " 412k                      1\n",
       " 459k                      1\n",
       " 619k                      1\n",
       " Name: Size, Length: 406, dtype: int64}"
      ]
     },
     "execution_count": 154,
     "metadata": {},
     "output_type": "execute_result"
    }
   ],
   "source": [
    "n_info_column(df3,'Size')"
   ]
  },
  {
   "cell_type": "markdown",
   "id": "d3874dea-af2f-4d49-9901-305e6f8184b5",
   "metadata": {},
   "source": [
    "it would be useful if we could have a way to transform these strings into numbers so we can do some analyses in the future - for example, does size influence the decision do donwload the app?"
   ]
  },
  {
   "cell_type": "code",
   "execution_count": 155,
   "id": "55223383-2052-41df-b664-1902fde36d32",
   "metadata": {},
   "outputs": [],
   "source": [
    "df3['Size'] = df3['Size'].str.replace('M', '000000', regex=True) "
   ]
  },
  {
   "cell_type": "code",
   "execution_count": 156,
   "id": "5dbc2355-616e-4829-bdd8-5f883481033c",
   "metadata": {},
   "outputs": [],
   "source": [
    "df3['Size'] = df3['Size'].str.replace('k', '00000', regex=True) "
   ]
  },
  {
   "cell_type": "code",
   "execution_count": 157,
   "id": "6f24cafa-e489-4240-8c46-271410fe53a9",
   "metadata": {},
   "outputs": [],
   "source": [
    "df3['Size'] = df3['Size'].replace('Varies with device', None)"
   ]
  },
  {
   "cell_type": "code",
   "execution_count": 158,
   "id": "efe160da-f330-4cdb-8554-e388ee701e6d",
   "metadata": {},
   "outputs": [],
   "source": [
    "df3['Size'] = df3['Size'].astype(float) "
   ]
  },
  {
   "cell_type": "markdown",
   "id": "a4a5e6a1-3fe9-47fb-9099-820ef1ca5a17",
   "metadata": {},
   "source": [
    "Installs column <a class=\"anchor\" id=\"installs\"></a>"
   ]
  },
  {
   "cell_type": "code",
   "execution_count": 159,
   "id": "1b419f7b-04e8-4f59-8705-86ebc2abd9e6",
   "metadata": {},
   "outputs": [],
   "source": [
    "df3['Installs'] = df3['Installs'].str.replace('+', '', regex=True) \n",
    "df3['Installs'] = df3['Installs'].str.replace(',', '', regex=True) "
   ]
  },
  {
   "cell_type": "code",
   "execution_count": 160,
   "id": "b075d630-3dc5-4c1b-8e06-083cecd4b586",
   "metadata": {},
   "outputs": [],
   "source": [
    "df3['Installs'] = df3['Installs'].astype(int) "
   ]
  },
  {
   "cell_type": "markdown",
   "id": "b93c4a46-1f62-4303-a58c-7e779d3a9f94",
   "metadata": {},
   "source": [
    "Type column <a class=\"anchor\" id=\"type\"></a>"
   ]
  },
  {
   "cell_type": "code",
   "execution_count": 161,
   "id": "8adf2270-fe8a-446b-8413-8f3f52c5ac60",
   "metadata": {},
   "outputs": [
    {
     "data": {
      "text/plain": [
       "{'name': 'Type',\n",
       " 'min': 'Free',\n",
       " 'max': 'Paid',\n",
       " 'value counts': Free    46975\n",
       " Paid      944\n",
       " Name: Type, dtype: int64}"
      ]
     },
     "execution_count": 161,
     "metadata": {},
     "output_type": "execute_result"
    }
   ],
   "source": [
    "n_info_column(df3,'Type')"
   ]
  },
  {
   "cell_type": "markdown",
   "id": "5795b837-842e-4565-94fa-a57d3506e457",
   "metadata": {},
   "source": [
    "Price column <a class=\"anchor\" id=\"price\"></a>"
   ]
  },
  {
   "cell_type": "code",
   "execution_count": 162,
   "id": "228ea2d1-67ef-4be1-9a9c-0d187f1d1b46",
   "metadata": {},
   "outputs": [
    {
     "data": {
      "text/plain": [
       "{'name': 'Price',\n",
       " 'min': '$0.99',\n",
       " 'max': '0',\n",
       " 'value counts': 0          46975\n",
       " $0.99        153\n",
       " $3.99        124\n",
       " $2.99        108\n",
       " $4.99        103\n",
       "            ...  \n",
       " $1.59          1\n",
       " $6.49          1\n",
       " $1.29          1\n",
       " $299.99        1\n",
       " $1.20          1\n",
       " Name: Price, Length: 71, dtype: int64}"
      ]
     },
     "execution_count": 162,
     "metadata": {},
     "output_type": "execute_result"
    }
   ],
   "source": [
    "n_info_column(df3,'Price')"
   ]
  },
  {
   "cell_type": "code",
   "execution_count": 163,
   "id": "bad05d12-dee8-4a57-b1f0-8323d26eb7a8",
   "metadata": {},
   "outputs": [],
   "source": [
    "df3['Price'] = df3['Price'].str.replace('$', '', regex=True) "
   ]
  },
  {
   "cell_type": "code",
   "execution_count": 164,
   "id": "6642a4fe-5f24-4df9-9fb6-e7ac187353e8",
   "metadata": {},
   "outputs": [],
   "source": [
    "df3['Price'] = df3['Price'].astype(float) "
   ]
  },
  {
   "cell_type": "markdown",
   "id": "cabd6416-537f-4b48-8897-dac267c0d98b",
   "metadata": {},
   "source": [
    "Content rating column <a class=\"anchor\" id=\"content\"></a>"
   ]
  },
  {
   "cell_type": "code",
   "execution_count": 165,
   "id": "4043a647-5f1e-4b3f-b9b1-50658538fc0e",
   "metadata": {},
   "outputs": [
    {
     "data": {
      "text/plain": [
       "{'name': 'Content Rating',\n",
       " 'min': 'Adults only 18+',\n",
       " 'max': 'Unrated',\n",
       " 'value counts': Everyone           37288\n",
       " Teen                6275\n",
       " Mature 17+          2418\n",
       " Everyone 10+        1900\n",
       " Adults only 18+       37\n",
       " Unrated                1\n",
       " Name: Content Rating, dtype: int64}"
      ]
     },
     "execution_count": 165,
     "metadata": {},
     "output_type": "execute_result"
    }
   ],
   "source": [
    "n_info_column(df3,'Content Rating')"
   ]
  },
  {
   "cell_type": "markdown",
   "id": "f40e0f5b-0558-4a01-b3be-005107867140",
   "metadata": {},
   "source": [
    "Genres column <a class=\"anchor\" id=\"genres\"></a>"
   ]
  },
  {
   "cell_type": "code",
   "execution_count": 166,
   "id": "c3f55311-8790-4974-8e25-65653b42842c",
   "metadata": {},
   "outputs": [
    {
     "data": {
      "text/plain": [
       "{'name': 'Genres',\n",
       " 'unique values': array(['Art & Design', 'Art & Design;Pretend Play',\n",
       "        'Art & Design;Creativity', 'Auto & Vehicles', 'Beauty',\n",
       "        'Books & Reference', 'Business', 'Communication', 'Comics',\n",
       "        'Comics;Creativity', 'Dating', 'Tools', 'Education;Education',\n",
       "        'Education', 'Education;Creativity', 'Education;Music & Video',\n",
       "        'Education;Action & Adventure', 'Education;Pretend Play',\n",
       "        'Education;Brain Games', 'Entertainment',\n",
       "        'Entertainment;Music & Video', 'Entertainment;Brain Games',\n",
       "        'Entertainment;Creativity', 'Events', 'Finance', 'Food & Drink',\n",
       "        'Health & Fitness', 'Medical', 'House & Home', 'Libraries & Demo',\n",
       "        'Lifestyle', 'Lifestyle;Pretend Play',\n",
       "        'Adventure;Action & Adventure', 'Arcade', 'Casual', 'Card',\n",
       "        'Card;Brain Games', 'Puzzle;Brain Games', 'Casual;Pretend Play',\n",
       "        'Action', 'Strategy', 'Puzzle', 'Sports', 'Music', 'Word',\n",
       "        'Racing', 'Casual;Creativity', 'Casual;Action & Adventure',\n",
       "        'Simulation', 'Adventure', 'Board', 'Trivia', 'Role Playing',\n",
       "        'Simulation;Education', 'Action;Action & Adventure',\n",
       "        'Casual;Brain Games', 'Simulation;Action & Adventure',\n",
       "        'Educational;Creativity', 'Educational;Education',\n",
       "        'Educational;Brain Games', 'Educational;Pretend Play',\n",
       "        'Entertainment;Education', 'Casual;Education',\n",
       "        'Music;Music & Video', 'Racing;Action & Adventure',\n",
       "        'Arcade;Pretend Play', 'Role Playing;Action & Adventure',\n",
       "        'Simulation;Pretend Play', 'Puzzle;Creativity',\n",
       "        'Sports;Action & Adventure', 'Educational;Action & Adventure',\n",
       "        'Arcade;Action & Adventure', 'Entertainment;Action & Adventure',\n",
       "        'Puzzle;Action & Adventure', 'Strategy;Action & Adventure',\n",
       "        'Music & Audio;Music & Video', 'Health & Fitness;Education',\n",
       "        'Adventure;Education', 'Board;Brain Games',\n",
       "        'Board;Action & Adventure', 'Board;Pretend Play',\n",
       "        'Casual;Music & Video', 'Role Playing;Pretend Play',\n",
       "        'Entertainment;Pretend Play', 'Video Players & Editors;Creativity',\n",
       "        'Video Players & Editors', 'Card;Action & Adventure', 'Social',\n",
       "        'Shopping', 'Photography', 'Travel & Local',\n",
       "        'Travel & Local;Action & Adventure', 'Tools;Education',\n",
       "        'Personalization', 'Productivity', 'Parenting',\n",
       "        'Parenting;Music & Video', 'Parenting;Brain Games',\n",
       "        'Parenting;Education', 'Weather',\n",
       "        'Video Players & Editors;Music & Video', 'News & Magazines',\n",
       "        'Maps & Navigation', 'Health & Fitness;Action & Adventure',\n",
       "        'Educational', 'Casino', 'Adventure;Brain Games',\n",
       "        'Lifestyle;Education', 'Books & Reference;Education',\n",
       "        'Puzzle;Education', 'Role Playing;Brain Games',\n",
       "        'Strategy;Education', 'Racing;Pretend Play',\n",
       "        'Communication;Creativity', 'Strategy;Creativity'], dtype=object),\n",
       " 'value counts': Action                         3463\n",
       " Sports                         2439\n",
       " Tools                          2323\n",
       " Health & Fitness               2094\n",
       " Productivity                   1934\n",
       "                                ... \n",
       " Health & Fitness;Education        1\n",
       " Music & Audio;Music & Video       1\n",
       " Entertainment;Education           1\n",
       " Arcade;Pretend Play               1\n",
       " Strategy;Creativity               1\n",
       " Name: Genres, Length: 115, dtype: int64}"
      ]
     },
     "execution_count": 166,
     "metadata": {},
     "output_type": "execute_result"
    }
   ],
   "source": [
    "str_info_column(df3,'Genres')"
   ]
  },
  {
   "cell_type": "markdown",
   "id": "37774686-65bb-42d1-bd81-1fd34c3b7120",
   "metadata": {},
   "source": [
    "It looks like the Genre 'Education' is appearing twice because there is a space in one of the instances. Also, there is \"educational\". So let's fix that and have only one 'Education'. "
   ]
  },
  {
   "cell_type": "code",
   "execution_count": 167,
   "id": "1c7259f3-a6eb-4545-9d17-3c867bc0f75b",
   "metadata": {},
   "outputs": [],
   "source": [
    "df3['Genres'] = df3['Genres'].str.replace('Education ', 'Education', regex=True) \n",
    "df3['Genres'] = df3['Genres'].str.replace('Educational', 'Education', regex=True) "
   ]
  },
  {
   "cell_type": "markdown",
   "id": "289c9269-463c-4fcc-a871-438140d46833",
   "metadata": {},
   "source": [
    "we could also split the ones with more than one genre into two columns"
   ]
  },
  {
   "cell_type": "code",
   "execution_count": 168,
   "id": "2497d750-6d7c-44b0-bb12-0e3ce6fc336a",
   "metadata": {},
   "outputs": [],
   "source": [
    "df3[['Genre1', 'Genre2']] = df3['Genres'].str.split(';', expand=True)"
   ]
  },
  {
   "cell_type": "code",
   "execution_count": 169,
   "id": "1aec8e20-8bf0-4bd2-8b6b-cbd54f6a0a4c",
   "metadata": {},
   "outputs": [
    {
     "data": {
      "text/html": [
       "<div>\n",
       "<style scoped>\n",
       "    .dataframe tbody tr th:only-of-type {\n",
       "        vertical-align: middle;\n",
       "    }\n",
       "\n",
       "    .dataframe tbody tr th {\n",
       "        vertical-align: top;\n",
       "    }\n",
       "\n",
       "    .dataframe thead th {\n",
       "        text-align: right;\n",
       "    }\n",
       "</style>\n",
       "<table border=\"1\" class=\"dataframe\">\n",
       "  <thead>\n",
       "    <tr style=\"text-align: right;\">\n",
       "      <th></th>\n",
       "      <th>App</th>\n",
       "      <th>Category</th>\n",
       "      <th>Rating</th>\n",
       "      <th>Reviews</th>\n",
       "      <th>Size</th>\n",
       "      <th>Installs</th>\n",
       "      <th>Type</th>\n",
       "      <th>Price</th>\n",
       "      <th>Content Rating</th>\n",
       "      <th>Genres</th>\n",
       "      <th>Last Updated</th>\n",
       "      <th>Current Ver</th>\n",
       "      <th>Android Ver</th>\n",
       "      <th>Translated_Review</th>\n",
       "      <th>Sentiment</th>\n",
       "      <th>Sentiment_Polarity</th>\n",
       "      <th>Sentiment_Subjectivity</th>\n",
       "      <th>_merge</th>\n",
       "      <th>Genre1</th>\n",
       "      <th>Genre2</th>\n",
       "    </tr>\n",
       "  </thead>\n",
       "  <tbody>\n",
       "    <tr>\n",
       "      <th>0</th>\n",
       "      <td>Photo Editor &amp; Candy Camera &amp; Grid &amp; ScrapBook</td>\n",
       "      <td>ART_AND_DESIGN</td>\n",
       "      <td>4.1</td>\n",
       "      <td>159.0</td>\n",
       "      <td>19000000.0</td>\n",
       "      <td>10000</td>\n",
       "      <td>Free</td>\n",
       "      <td>0.0</td>\n",
       "      <td>Everyone</td>\n",
       "      <td>Art &amp; Design</td>\n",
       "      <td>January 7, 2018</td>\n",
       "      <td>1.0.0</td>\n",
       "      <td>4.0.3 and up</td>\n",
       "      <td>NaN</td>\n",
       "      <td>NaN</td>\n",
       "      <td>NaN</td>\n",
       "      <td>NaN</td>\n",
       "      <td>left_only</td>\n",
       "      <td>Art &amp; Design</td>\n",
       "      <td>None</td>\n",
       "    </tr>\n",
       "    <tr>\n",
       "      <th>23</th>\n",
       "      <td>Coloring book moana</td>\n",
       "      <td>ART_AND_DESIGN</td>\n",
       "      <td>3.9</td>\n",
       "      <td>967.0</td>\n",
       "      <td>14000000.0</td>\n",
       "      <td>500000</td>\n",
       "      <td>Free</td>\n",
       "      <td>0.0</td>\n",
       "      <td>Everyone</td>\n",
       "      <td>Art &amp; Design;Pretend Play</td>\n",
       "      <td>January 15, 2018</td>\n",
       "      <td>2.0.0</td>\n",
       "      <td>4.0.3 and up</td>\n",
       "      <td>A kid's excessive ads. The types ads allowed a...</td>\n",
       "      <td>Negative</td>\n",
       "      <td>-0.250</td>\n",
       "      <td>1.000000</td>\n",
       "      <td>both</td>\n",
       "      <td>Art &amp; Design</td>\n",
       "      <td>Pretend Play</td>\n",
       "    </tr>\n",
       "    <tr>\n",
       "      <th>24</th>\n",
       "      <td>Coloring book moana</td>\n",
       "      <td>ART_AND_DESIGN</td>\n",
       "      <td>3.9</td>\n",
       "      <td>967.0</td>\n",
       "      <td>14000000.0</td>\n",
       "      <td>500000</td>\n",
       "      <td>Free</td>\n",
       "      <td>0.0</td>\n",
       "      <td>Everyone</td>\n",
       "      <td>Art &amp; Design;Pretend Play</td>\n",
       "      <td>January 15, 2018</td>\n",
       "      <td>2.0.0</td>\n",
       "      <td>4.0.3 and up</td>\n",
       "      <td>It cute.</td>\n",
       "      <td>Positive</td>\n",
       "      <td>0.500</td>\n",
       "      <td>1.000000</td>\n",
       "      <td>both</td>\n",
       "      <td>Art &amp; Design</td>\n",
       "      <td>Pretend Play</td>\n",
       "    </tr>\n",
       "    <tr>\n",
       "      <th>25</th>\n",
       "      <td>Coloring book moana</td>\n",
       "      <td>ART_AND_DESIGN</td>\n",
       "      <td>3.9</td>\n",
       "      <td>967.0</td>\n",
       "      <td>14000000.0</td>\n",
       "      <td>500000</td>\n",
       "      <td>Free</td>\n",
       "      <td>0.0</td>\n",
       "      <td>Everyone</td>\n",
       "      <td>Art &amp; Design;Pretend Play</td>\n",
       "      <td>January 15, 2018</td>\n",
       "      <td>2.0.0</td>\n",
       "      <td>4.0.3 and up</td>\n",
       "      <td>It bad &gt;:(</td>\n",
       "      <td>Negative</td>\n",
       "      <td>-0.725</td>\n",
       "      <td>0.833333</td>\n",
       "      <td>both</td>\n",
       "      <td>Art &amp; Design</td>\n",
       "      <td>Pretend Play</td>\n",
       "    </tr>\n",
       "    <tr>\n",
       "      <th>26</th>\n",
       "      <td>Coloring book moana</td>\n",
       "      <td>ART_AND_DESIGN</td>\n",
       "      <td>3.9</td>\n",
       "      <td>967.0</td>\n",
       "      <td>14000000.0</td>\n",
       "      <td>500000</td>\n",
       "      <td>Free</td>\n",
       "      <td>0.0</td>\n",
       "      <td>Everyone</td>\n",
       "      <td>Art &amp; Design;Pretend Play</td>\n",
       "      <td>January 15, 2018</td>\n",
       "      <td>2.0.0</td>\n",
       "      <td>4.0.3 and up</td>\n",
       "      <td>like</td>\n",
       "      <td>Neutral</td>\n",
       "      <td>0.000</td>\n",
       "      <td>0.000000</td>\n",
       "      <td>both</td>\n",
       "      <td>Art &amp; Design</td>\n",
       "      <td>Pretend Play</td>\n",
       "    </tr>\n",
       "  </tbody>\n",
       "</table>\n",
       "</div>"
      ],
      "text/plain": [
       "                                               App        Category  Rating  \\\n",
       "0   Photo Editor & Candy Camera & Grid & ScrapBook  ART_AND_DESIGN     4.1   \n",
       "23                             Coloring book moana  ART_AND_DESIGN     3.9   \n",
       "24                             Coloring book moana  ART_AND_DESIGN     3.9   \n",
       "25                             Coloring book moana  ART_AND_DESIGN     3.9   \n",
       "26                             Coloring book moana  ART_AND_DESIGN     3.9   \n",
       "\n",
       "    Reviews        Size  Installs  Type  Price Content Rating  \\\n",
       "0     159.0  19000000.0     10000  Free    0.0       Everyone   \n",
       "23    967.0  14000000.0    500000  Free    0.0       Everyone   \n",
       "24    967.0  14000000.0    500000  Free    0.0       Everyone   \n",
       "25    967.0  14000000.0    500000  Free    0.0       Everyone   \n",
       "26    967.0  14000000.0    500000  Free    0.0       Everyone   \n",
       "\n",
       "                       Genres      Last Updated Current Ver   Android Ver  \\\n",
       "0                Art & Design   January 7, 2018       1.0.0  4.0.3 and up   \n",
       "23  Art & Design;Pretend Play  January 15, 2018       2.0.0  4.0.3 and up   \n",
       "24  Art & Design;Pretend Play  January 15, 2018       2.0.0  4.0.3 and up   \n",
       "25  Art & Design;Pretend Play  January 15, 2018       2.0.0  4.0.3 and up   \n",
       "26  Art & Design;Pretend Play  January 15, 2018       2.0.0  4.0.3 and up   \n",
       "\n",
       "                                    Translated_Review Sentiment  \\\n",
       "0                                                 NaN       NaN   \n",
       "23  A kid's excessive ads. The types ads allowed a...  Negative   \n",
       "24                                           It cute.  Positive   \n",
       "25                                         It bad >:(  Negative   \n",
       "26                                               like   Neutral   \n",
       "\n",
       "    Sentiment_Polarity  Sentiment_Subjectivity     _merge        Genre1  \\\n",
       "0                  NaN                     NaN  left_only  Art & Design   \n",
       "23              -0.250                1.000000       both  Art & Design   \n",
       "24               0.500                1.000000       both  Art & Design   \n",
       "25              -0.725                0.833333       both  Art & Design   \n",
       "26               0.000                0.000000       both  Art & Design   \n",
       "\n",
       "          Genre2  \n",
       "0           None  \n",
       "23  Pretend Play  \n",
       "24  Pretend Play  \n",
       "25  Pretend Play  \n",
       "26  Pretend Play  "
      ]
     },
     "execution_count": 169,
     "metadata": {},
     "output_type": "execute_result"
    }
   ],
   "source": [
    "df3.head()"
   ]
  },
  {
   "cell_type": "markdown",
   "id": "f9d475a3-1d36-450c-9cf7-0aa9b762a623",
   "metadata": {},
   "source": [
    "Last Updated column <a class=\"anchor\" id=\"lastupdated\"></a>"
   ]
  },
  {
   "cell_type": "code",
   "execution_count": 170,
   "id": "19af2164-1a90-4196-947f-df4634f43c05",
   "metadata": {},
   "outputs": [
    {
     "data": {
      "text/plain": [
       "{'name': 'Last Updated',\n",
       " 'min': 'April 1, 2016',\n",
       " 'max': 'September 9, 2016',\n",
       " 'value counts': July 31, 2018        3331\n",
       " August 3, 2018       2464\n",
       " August 2, 2018       2199\n",
       " August 1, 2018       2046\n",
       " August 6, 2018       1383\n",
       "                      ... \n",
       " November 16, 2015       1\n",
       " March 28, 2016          1\n",
       " April 17, 2014          1\n",
       " April 11, 2016          1\n",
       " March 23, 2014          1\n",
       " Name: Last Updated, Length: 1288, dtype: int64}"
      ]
     },
     "execution_count": 170,
     "metadata": {},
     "output_type": "execute_result"
    }
   ],
   "source": [
    "n_info_column(df3,'Last Updated')"
   ]
  },
  {
   "cell_type": "code",
   "execution_count": 171,
   "id": "10b3fe70-a803-4d90-a76c-f7c4a1e9aca8",
   "metadata": {},
   "outputs": [
    {
     "data": {
      "text/plain": [
       "27360        July 17, 2018\n",
       "64311       August 3, 2018\n",
       "46175        June 29, 2018\n",
       "60060        June 11, 2018\n",
       "18278       August 2, 2018\n",
       "23468         May 29, 2018\n",
       "693         August 3, 2018\n",
       "61805         June 9, 2018\n",
       "33225        July 31, 2018\n",
       "4580        August 2, 2018\n",
       "31689        July 10, 2018\n",
       "38457        July 12, 2018\n",
       "68111       August 6, 2018\n",
       "30280        April 9, 2018\n",
       "62558       August 2, 2018\n",
       "75993    December 21, 2017\n",
       "54716       August 3, 2018\n",
       "64338       August 3, 2018\n",
       "63628        July 10, 2018\n",
       "49537        July 16, 2018\n",
       "Name: Last Updated, dtype: object"
      ]
     },
     "execution_count": 171,
     "metadata": {},
     "output_type": "execute_result"
    }
   ],
   "source": [
    "df3['Last Updated'].sample(20)"
   ]
  },
  {
   "cell_type": "markdown",
   "id": "3782ffd8-5218-4049-bfd1-1395c4d0a8e6",
   "metadata": {},
   "source": [
    "all good with this column"
   ]
  },
  {
   "cell_type": "markdown",
   "id": "fc40b892-79da-42fc-9a67-c6d6331e78d0",
   "metadata": {},
   "source": [
    "Current Ver column <a class=\"anchor\" id=\"currentver\"></a>"
   ]
  },
  {
   "cell_type": "code",
   "execution_count": 172,
   "id": "09ea7c20-894e-45dd-9b4f-ffbae0788c31",
   "metadata": {},
   "outputs": [
    {
     "data": {
      "text/plain": [
       "{'name': 'Current Ver',\n",
       " 'unique values': array(['1.0.0', '2.0.0', '1.2.4', ..., '1.5.447', '1.0.612928', '0.3.4'],\n",
       "       dtype=object),\n",
       " 'value counts': Varies with device    12199\n",
       " 1.0.6                   675\n",
       " 4.0.0                   674\n",
       " 1.0                     579\n",
       " 7.9.3                   535\n",
       "                       ...  \n",
       " 17.4.11                   1\n",
       " 6.7.15.7                  1\n",
       " 1.8.7.0                   1\n",
       " 5.1.10                    1\n",
       " 0.3.4                     1\n",
       " Name: Current Ver, Length: 2608, dtype: int64}"
      ]
     },
     "execution_count": 172,
     "metadata": {},
     "output_type": "execute_result"
    }
   ],
   "source": [
    "str_info_column(df3,'Current Ver')"
   ]
  },
  {
   "cell_type": "code",
   "execution_count": 173,
   "id": "165715c9-497e-4cd5-838b-1d8ccc0595e1",
   "metadata": {},
   "outputs": [
    {
     "data": {
      "text/plain": [
       "23909                 1.2.0\n",
       "75030    Varies with device\n",
       "18647    Varies with device\n",
       "5448           3.2.0.100171\n",
       "15781          5.10.1.40699\n",
       "31971             10.322.16\n",
       "8107                 1.31.4\n",
       "70754    Varies with device\n",
       "17975                 5.3.8\n",
       "11702                20.7.2\n",
       "43882                1.1.40\n",
       "81584                   1.3\n",
       "56559    Varies with device\n",
       "53873                  4.89\n",
       "78371                   4.8\n",
       "7404                  1.639\n",
       "43905                1.1.40\n",
       "1001                  1.1.0\n",
       "37034                2.1.10\n",
       "36254                2.21.5\n",
       "Name: Current Ver, dtype: object"
      ]
     },
     "execution_count": 173,
     "metadata": {},
     "output_type": "execute_result"
    }
   ],
   "source": [
    "df3['Current Ver'].sample(20)"
   ]
  },
  {
   "cell_type": "markdown",
   "id": "0f1af409-09fe-46f6-9d7b-e50b4b3aded6",
   "metadata": {},
   "source": [
    "all good with thsi column!"
   ]
  },
  {
   "cell_type": "markdown",
   "id": "aa35b84b-e437-4f91-bbd2-f3d9c0db19df",
   "metadata": {},
   "source": [
    "Android Ver column <a class=\"anchor\" id=\"androidver\"></a>"
   ]
  },
  {
   "cell_type": "code",
   "execution_count": 174,
   "id": "b4da34bd-4610-48aa-9c12-a687b1510792",
   "metadata": {},
   "outputs": [
    {
     "data": {
      "text/plain": [
       "Varies with device    11444\n",
       "4.1 and up            10763\n",
       "4.0.3 and up           7147\n",
       "4.4 and up             4437\n",
       "4.0 and up             3747\n",
       "5.0 and up             3153\n",
       "2.3 and up             2129\n",
       "4.2 and up             1542\n",
       "3.0 and up              676\n",
       "2.3.3 and up            655\n",
       "4.3 and up              563\n",
       "6.0 and up              416\n",
       "2.2 and up              382\n",
       "2.1 and up              304\n",
       "1.6 and up              152\n",
       "7.0 and up              110\n",
       "3.2 and up               65\n",
       "2.0 and up               58\n",
       "1.5 and up               53\n",
       "7.1 and up               42\n",
       "4.0.3 - 7.1.1            33\n",
       "5.1 and up               15\n",
       "3.1 and up                8\n",
       "2.0.1 and up              6\n",
       "4.4W and up               5\n",
       "8.0 and up                4\n",
       "5.0 - 8.0                 3\n",
       "1.0 and up                2\n",
       "7.0 - 7.1.1               1\n",
       "4.1 - 7.1.1               1\n",
       "5.0 - 6.0                 1\n",
       "Name: Android Ver, dtype: int64"
      ]
     },
     "execution_count": 174,
     "metadata": {},
     "output_type": "execute_result"
    }
   ],
   "source": [
    "df3['Android Ver'].value_counts()"
   ]
  },
  {
   "cell_type": "code",
   "execution_count": 175,
   "id": "43415e83-f9e0-413d-bd63-0a1c604726c5",
   "metadata": {},
   "outputs": [
    {
     "data": {
      "text/plain": [
       "76113          4.0.3 and up\n",
       "11790            2.3 and up\n",
       "53324    Varies with device\n",
       "14823            4.4 and up\n",
       "69881    Varies with device\n",
       "74741          4.0.3 and up\n",
       "13558    Varies with device\n",
       "12505    Varies with device\n",
       "5720     Varies with device\n",
       "64878    Varies with device\n",
       "33199          4.0.3 and up\n",
       "55380            4.1 and up\n",
       "24675            4.4 and up\n",
       "70528    Varies with device\n",
       "28606            4.1 and up\n",
       "53503            4.4 and up\n",
       "79446            1.6 and up\n",
       "2495             4.1 and up\n",
       "75524            4.1 and up\n",
       "74645          4.0.3 and up\n",
       "Name: Android Ver, dtype: object"
      ]
     },
     "execution_count": 175,
     "metadata": {},
     "output_type": "execute_result"
    }
   ],
   "source": [
    "df3['Android Ver'].sample(20)"
   ]
  },
  {
   "cell_type": "markdown",
   "id": "1c56f697-2a52-453d-ae40-8f67433794a3",
   "metadata": {},
   "source": [
    "all good with this column!"
   ]
  },
  {
   "cell_type": "markdown",
   "id": "09828ffc-9bb0-49f9-9f58-2fa915754dc6",
   "metadata": {},
   "source": [
    "Clean data export Category column <a class=\"anchor\" id=\"export\"></a>"
   ]
  },
  {
   "cell_type": "code",
   "execution_count": 177,
   "id": "d0cc483e-c1e9-4bd7-a4fa-2241720821ac",
   "metadata": {},
   "outputs": [],
   "source": [
    "df3.to_excel(\"clean-data.xlsx\") "
   ]
  }
 ],
 "metadata": {
  "kernelspec": {
   "display_name": "Python 3 (ipykernel)",
   "language": "python",
   "name": "python3"
  },
  "language_info": {
   "codemirror_mode": {
    "name": "ipython",
    "version": 3
   },
   "file_extension": ".py",
   "mimetype": "text/x-python",
   "name": "python",
   "nbconvert_exporter": "python",
   "pygments_lexer": "ipython3",
   "version": "3.9.7"
  }
 },
 "nbformat": 4,
 "nbformat_minor": 5
}
