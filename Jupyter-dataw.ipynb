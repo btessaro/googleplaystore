{
 "cells": [
  {
   "cell_type": "markdown",
   "id": "778c8a59-7f03-47c0-908c-de1abb4ca86b",
   "metadata": {},
   "source": [
    "# Google Play Store Dataset - Data wrangling"
   ]
  },
  {
   "cell_type": "markdown",
   "id": "a7b350d4-6aca-458e-8aee-e873d8a079ae",
   "metadata": {},
   "source": [
    "Dataset from [Kaggle](https://www.kaggle.com/datasets/lava18/google-play-store-apps?select=googleplaystore.csv)."
   ]
  },
  {
   "cell_type": "markdown",
   "id": "bfafa6b4-4986-4b5f-8825-d48e897c3503",
   "metadata": {},
   "source": [
    "**When analysing data, I believe understanding the data at hand and looking at it thoroughly is important to ensure the realiability of the results from any analysis performed. This script walks through the process of getting a dataset, understanding it, and cleaning it for further analysis.**"
   ]
  },
  {
   "cell_type": "markdown",
   "id": "786599e9-a104-444b-b072-6297e862af16",
   "metadata": {},
   "source": [
    "Import relevant libraries"
   ]
  },
  {
   "cell_type": "code",
   "execution_count": 279,
   "id": "39e42da7-cb9b-476c-bcba-fe8cfc57b8bf",
   "metadata": {},
   "outputs": [],
   "source": [
    "import pandas as pd\n",
    "import numpy as np\n",
    "import seaborn as sns\n",
    "import matplotlib.pyplot as plt\n",
    "import scipy.stats as stats\n",
    "import re as re"
   ]
  },
  {
   "cell_type": "markdown",
   "id": "a9abe0c8-cec4-4a29-b6da-1ed098d0a093",
   "metadata": {},
   "source": [
    "Read data"
   ]
  },
  {
   "cell_type": "code",
   "execution_count": 193,
   "id": "0771d5a8-4cfc-4d82-a4f3-ce17b751f310",
   "metadata": {},
   "outputs": [],
   "source": [
    "df1 = pd.read_csv('googleplaystore.csv')\n",
    "df2 = pd.read_csv('googleplaystore_user_reviews.csv')"
   ]
  },
  {
   "cell_type": "code",
   "execution_count": 194,
   "id": "44f953ae-0746-4644-97ca-33ef581db448",
   "metadata": {},
   "outputs": [
    {
     "name": "stdout",
     "output_type": "stream",
     "text": [
      "<class 'pandas.core.frame.DataFrame'>\n",
      "RangeIndex: 10841 entries, 0 to 10840\n",
      "Data columns (total 13 columns):\n",
      " #   Column          Non-Null Count  Dtype  \n",
      "---  ------          --------------  -----  \n",
      " 0   App             10841 non-null  object \n",
      " 1   Category        10841 non-null  object \n",
      " 2   Rating          9367 non-null   float64\n",
      " 3   Reviews         10841 non-null  object \n",
      " 4   Size            10841 non-null  object \n",
      " 5   Installs        10841 non-null  object \n",
      " 6   Type            10840 non-null  object \n",
      " 7   Price           10841 non-null  object \n",
      " 8   Content Rating  10840 non-null  object \n",
      " 9   Genres          10841 non-null  object \n",
      " 10  Last Updated    10841 non-null  object \n",
      " 11  Current Ver     10833 non-null  object \n",
      " 12  Android Ver     10838 non-null  object \n",
      "dtypes: float64(1), object(12)\n",
      "memory usage: 1.1+ MB\n"
     ]
    },
    {
     "data": {
      "text/html": [
       "<div>\n",
       "<style scoped>\n",
       "    .dataframe tbody tr th:only-of-type {\n",
       "        vertical-align: middle;\n",
       "    }\n",
       "\n",
       "    .dataframe tbody tr th {\n",
       "        vertical-align: top;\n",
       "    }\n",
       "\n",
       "    .dataframe thead th {\n",
       "        text-align: right;\n",
       "    }\n",
       "</style>\n",
       "<table border=\"1\" class=\"dataframe\">\n",
       "  <thead>\n",
       "    <tr style=\"text-align: right;\">\n",
       "      <th></th>\n",
       "      <th>App</th>\n",
       "      <th>Category</th>\n",
       "      <th>Rating</th>\n",
       "      <th>Reviews</th>\n",
       "      <th>Size</th>\n",
       "      <th>Installs</th>\n",
       "      <th>Type</th>\n",
       "      <th>Price</th>\n",
       "      <th>Content Rating</th>\n",
       "      <th>Genres</th>\n",
       "      <th>Last Updated</th>\n",
       "      <th>Current Ver</th>\n",
       "      <th>Android Ver</th>\n",
       "    </tr>\n",
       "  </thead>\n",
       "  <tbody>\n",
       "    <tr>\n",
       "      <th>0</th>\n",
       "      <td>Photo Editor &amp; Candy Camera &amp; Grid &amp; ScrapBook</td>\n",
       "      <td>ART_AND_DESIGN</td>\n",
       "      <td>4.1</td>\n",
       "      <td>159</td>\n",
       "      <td>19M</td>\n",
       "      <td>10,000+</td>\n",
       "      <td>Free</td>\n",
       "      <td>0</td>\n",
       "      <td>Everyone</td>\n",
       "      <td>Art &amp; Design</td>\n",
       "      <td>January 7, 2018</td>\n",
       "      <td>1.0.0</td>\n",
       "      <td>4.0.3 and up</td>\n",
       "    </tr>\n",
       "    <tr>\n",
       "      <th>1</th>\n",
       "      <td>Coloring book moana</td>\n",
       "      <td>ART_AND_DESIGN</td>\n",
       "      <td>3.9</td>\n",
       "      <td>967</td>\n",
       "      <td>14M</td>\n",
       "      <td>500,000+</td>\n",
       "      <td>Free</td>\n",
       "      <td>0</td>\n",
       "      <td>Everyone</td>\n",
       "      <td>Art &amp; Design;Pretend Play</td>\n",
       "      <td>January 15, 2018</td>\n",
       "      <td>2.0.0</td>\n",
       "      <td>4.0.3 and up</td>\n",
       "    </tr>\n",
       "    <tr>\n",
       "      <th>2</th>\n",
       "      <td>U Launcher Lite – FREE Live Cool Themes, Hide ...</td>\n",
       "      <td>ART_AND_DESIGN</td>\n",
       "      <td>4.7</td>\n",
       "      <td>87510</td>\n",
       "      <td>8.7M</td>\n",
       "      <td>5,000,000+</td>\n",
       "      <td>Free</td>\n",
       "      <td>0</td>\n",
       "      <td>Everyone</td>\n",
       "      <td>Art &amp; Design</td>\n",
       "      <td>August 1, 2018</td>\n",
       "      <td>1.2.4</td>\n",
       "      <td>4.0.3 and up</td>\n",
       "    </tr>\n",
       "    <tr>\n",
       "      <th>3</th>\n",
       "      <td>Sketch - Draw &amp; Paint</td>\n",
       "      <td>ART_AND_DESIGN</td>\n",
       "      <td>4.5</td>\n",
       "      <td>215644</td>\n",
       "      <td>25M</td>\n",
       "      <td>50,000,000+</td>\n",
       "      <td>Free</td>\n",
       "      <td>0</td>\n",
       "      <td>Teen</td>\n",
       "      <td>Art &amp; Design</td>\n",
       "      <td>June 8, 2018</td>\n",
       "      <td>Varies with device</td>\n",
       "      <td>4.2 and up</td>\n",
       "    </tr>\n",
       "    <tr>\n",
       "      <th>4</th>\n",
       "      <td>Pixel Draw - Number Art Coloring Book</td>\n",
       "      <td>ART_AND_DESIGN</td>\n",
       "      <td>4.3</td>\n",
       "      <td>967</td>\n",
       "      <td>2.8M</td>\n",
       "      <td>100,000+</td>\n",
       "      <td>Free</td>\n",
       "      <td>0</td>\n",
       "      <td>Everyone</td>\n",
       "      <td>Art &amp; Design;Creativity</td>\n",
       "      <td>June 20, 2018</td>\n",
       "      <td>1.1</td>\n",
       "      <td>4.4 and up</td>\n",
       "    </tr>\n",
       "  </tbody>\n",
       "</table>\n",
       "</div>"
      ],
      "text/plain": [
       "                                                 App        Category  Rating  \\\n",
       "0     Photo Editor & Candy Camera & Grid & ScrapBook  ART_AND_DESIGN     4.1   \n",
       "1                                Coloring book moana  ART_AND_DESIGN     3.9   \n",
       "2  U Launcher Lite – FREE Live Cool Themes, Hide ...  ART_AND_DESIGN     4.7   \n",
       "3                              Sketch - Draw & Paint  ART_AND_DESIGN     4.5   \n",
       "4              Pixel Draw - Number Art Coloring Book  ART_AND_DESIGN     4.3   \n",
       "\n",
       "  Reviews  Size     Installs  Type Price Content Rating  \\\n",
       "0     159   19M      10,000+  Free     0       Everyone   \n",
       "1     967   14M     500,000+  Free     0       Everyone   \n",
       "2   87510  8.7M   5,000,000+  Free     0       Everyone   \n",
       "3  215644   25M  50,000,000+  Free     0           Teen   \n",
       "4     967  2.8M     100,000+  Free     0       Everyone   \n",
       "\n",
       "                      Genres      Last Updated         Current Ver  \\\n",
       "0               Art & Design   January 7, 2018               1.0.0   \n",
       "1  Art & Design;Pretend Play  January 15, 2018               2.0.0   \n",
       "2               Art & Design    August 1, 2018               1.2.4   \n",
       "3               Art & Design      June 8, 2018  Varies with device   \n",
       "4    Art & Design;Creativity     June 20, 2018                 1.1   \n",
       "\n",
       "    Android Ver  \n",
       "0  4.0.3 and up  \n",
       "1  4.0.3 and up  \n",
       "2  4.0.3 and up  \n",
       "3    4.2 and up  \n",
       "4    4.4 and up  "
      ]
     },
     "execution_count": 194,
     "metadata": {},
     "output_type": "execute_result"
    }
   ],
   "source": [
    "df1.info()\n",
    "df1.isnull().sum()\n",
    "df1.head()"
   ]
  },
  {
   "cell_type": "code",
   "execution_count": 195,
   "id": "ae35659d-d3f4-4fd0-ab25-58b6f7940586",
   "metadata": {},
   "outputs": [
    {
     "name": "stdout",
     "output_type": "stream",
     "text": [
      "<class 'pandas.core.frame.DataFrame'>\n",
      "RangeIndex: 64295 entries, 0 to 64294\n",
      "Data columns (total 5 columns):\n",
      " #   Column                  Non-Null Count  Dtype  \n",
      "---  ------                  --------------  -----  \n",
      " 0   App                     64295 non-null  object \n",
      " 1   Translated_Review       37427 non-null  object \n",
      " 2   Sentiment               37432 non-null  object \n",
      " 3   Sentiment_Polarity      37432 non-null  float64\n",
      " 4   Sentiment_Subjectivity  37432 non-null  float64\n",
      "dtypes: float64(2), object(3)\n",
      "memory usage: 2.5+ MB\n"
     ]
    },
    {
     "data": {
      "text/html": [
       "<div>\n",
       "<style scoped>\n",
       "    .dataframe tbody tr th:only-of-type {\n",
       "        vertical-align: middle;\n",
       "    }\n",
       "\n",
       "    .dataframe tbody tr th {\n",
       "        vertical-align: top;\n",
       "    }\n",
       "\n",
       "    .dataframe thead th {\n",
       "        text-align: right;\n",
       "    }\n",
       "</style>\n",
       "<table border=\"1\" class=\"dataframe\">\n",
       "  <thead>\n",
       "    <tr style=\"text-align: right;\">\n",
       "      <th></th>\n",
       "      <th>App</th>\n",
       "      <th>Translated_Review</th>\n",
       "      <th>Sentiment</th>\n",
       "      <th>Sentiment_Polarity</th>\n",
       "      <th>Sentiment_Subjectivity</th>\n",
       "    </tr>\n",
       "  </thead>\n",
       "  <tbody>\n",
       "    <tr>\n",
       "      <th>0</th>\n",
       "      <td>10 Best Foods for You</td>\n",
       "      <td>I like eat delicious food. That's I'm cooking ...</td>\n",
       "      <td>Positive</td>\n",
       "      <td>1.00</td>\n",
       "      <td>0.533333</td>\n",
       "    </tr>\n",
       "    <tr>\n",
       "      <th>1</th>\n",
       "      <td>10 Best Foods for You</td>\n",
       "      <td>This help eating healthy exercise regular basis</td>\n",
       "      <td>Positive</td>\n",
       "      <td>0.25</td>\n",
       "      <td>0.288462</td>\n",
       "    </tr>\n",
       "    <tr>\n",
       "      <th>2</th>\n",
       "      <td>10 Best Foods for You</td>\n",
       "      <td>NaN</td>\n",
       "      <td>NaN</td>\n",
       "      <td>NaN</td>\n",
       "      <td>NaN</td>\n",
       "    </tr>\n",
       "    <tr>\n",
       "      <th>3</th>\n",
       "      <td>10 Best Foods for You</td>\n",
       "      <td>Works great especially going grocery store</td>\n",
       "      <td>Positive</td>\n",
       "      <td>0.40</td>\n",
       "      <td>0.875000</td>\n",
       "    </tr>\n",
       "    <tr>\n",
       "      <th>4</th>\n",
       "      <td>10 Best Foods for You</td>\n",
       "      <td>Best idea us</td>\n",
       "      <td>Positive</td>\n",
       "      <td>1.00</td>\n",
       "      <td>0.300000</td>\n",
       "    </tr>\n",
       "  </tbody>\n",
       "</table>\n",
       "</div>"
      ],
      "text/plain": [
       "                     App                                  Translated_Review  \\\n",
       "0  10 Best Foods for You  I like eat delicious food. That's I'm cooking ...   \n",
       "1  10 Best Foods for You    This help eating healthy exercise regular basis   \n",
       "2  10 Best Foods for You                                                NaN   \n",
       "3  10 Best Foods for You         Works great especially going grocery store   \n",
       "4  10 Best Foods for You                                       Best idea us   \n",
       "\n",
       "  Sentiment  Sentiment_Polarity  Sentiment_Subjectivity  \n",
       "0  Positive                1.00                0.533333  \n",
       "1  Positive                0.25                0.288462  \n",
       "2       NaN                 NaN                     NaN  \n",
       "3  Positive                0.40                0.875000  \n",
       "4  Positive                1.00                0.300000  "
      ]
     },
     "execution_count": 195,
     "metadata": {},
     "output_type": "execute_result"
    }
   ],
   "source": [
    "df2.info()\n",
    "df2.head()"
   ]
  },
  {
   "cell_type": "code",
   "execution_count": 196,
   "id": "f19d7fc7-840a-49e6-b76a-fdba362f1618",
   "metadata": {},
   "outputs": [
    {
     "data": {
      "text/plain": [
       "App                           0\n",
       "Translated_Review         26868\n",
       "Sentiment                 26863\n",
       "Sentiment_Polarity        26863\n",
       "Sentiment_Subjectivity    26863\n",
       "dtype: int64"
      ]
     },
     "execution_count": 196,
     "metadata": {},
     "output_type": "execute_result"
    }
   ],
   "source": [
    "df2.isnull().sum()"
   ]
  },
  {
   "cell_type": "markdown",
   "id": "cad733c2-5da6-42e8-89a2-e1de6700426d",
   "metadata": {},
   "source": [
    "Check why so many null values"
   ]
  },
  {
   "cell_type": "code",
   "execution_count": 197,
   "id": "d43ec717-9447-4e45-843b-539aac2f85f7",
   "metadata": {},
   "outputs": [
    {
     "data": {
      "text/html": [
       "<div>\n",
       "<style scoped>\n",
       "    .dataframe tbody tr th:only-of-type {\n",
       "        vertical-align: middle;\n",
       "    }\n",
       "\n",
       "    .dataframe tbody tr th {\n",
       "        vertical-align: top;\n",
       "    }\n",
       "\n",
       "    .dataframe thead th {\n",
       "        text-align: right;\n",
       "    }\n",
       "</style>\n",
       "<table border=\"1\" class=\"dataframe\">\n",
       "  <thead>\n",
       "    <tr style=\"text-align: right;\">\n",
       "      <th></th>\n",
       "      <th>App</th>\n",
       "      <th>Translated_Review</th>\n",
       "      <th>Sentiment</th>\n",
       "      <th>Sentiment_Polarity</th>\n",
       "      <th>Sentiment_Subjectivity</th>\n",
       "    </tr>\n",
       "  </thead>\n",
       "  <tbody>\n",
       "    <tr>\n",
       "      <th>21604</th>\n",
       "      <td>Calorie Counter &amp; Diet Tracker</td>\n",
       "      <td>Can't say enough this. This another weight iss...</td>\n",
       "      <td>Positive</td>\n",
       "      <td>0.233333</td>\n",
       "      <td>0.633333</td>\n",
       "    </tr>\n",
       "    <tr>\n",
       "      <th>22606</th>\n",
       "      <td>Camera FV-5 Lite</td>\n",
       "      <td>NaN</td>\n",
       "      <td>NaN</td>\n",
       "      <td>NaN</td>\n",
       "      <td>NaN</td>\n",
       "    </tr>\n",
       "    <tr>\n",
       "      <th>14204</th>\n",
       "      <td>Best New Ringtones 2018 Free 🔥 For Android™</td>\n",
       "      <td>NaN</td>\n",
       "      <td>NaN</td>\n",
       "      <td>NaN</td>\n",
       "      <td>NaN</td>\n",
       "    </tr>\n",
       "    <tr>\n",
       "      <th>4764</th>\n",
       "      <td>Agoda – Hotel Booking Deals</td>\n",
       "      <td>Amazing app! Used book hotels, way price, Thai...</td>\n",
       "      <td>Positive</td>\n",
       "      <td>0.750000</td>\n",
       "      <td>0.900000</td>\n",
       "    </tr>\n",
       "    <tr>\n",
       "      <th>56490</th>\n",
       "      <td>Google Photos</td>\n",
       "      <td>This great photo gallery app. You back photos ...</td>\n",
       "      <td>Positive</td>\n",
       "      <td>0.400000</td>\n",
       "      <td>0.375000</td>\n",
       "    </tr>\n",
       "    <tr>\n",
       "      <th>13803</th>\n",
       "      <td>BeautyPlus - Easy Photo Editor &amp; Selfie Camera</td>\n",
       "      <td>NaN</td>\n",
       "      <td>NaN</td>\n",
       "      <td>NaN</td>\n",
       "      <td>NaN</td>\n",
       "    </tr>\n",
       "    <tr>\n",
       "      <th>62716</th>\n",
       "      <td>Home Security Camera WardenCam - reuse old phones</td>\n",
       "      <td>Pretty intuitive controls. Great functionality...</td>\n",
       "      <td>Positive</td>\n",
       "      <td>0.363889</td>\n",
       "      <td>0.630556</td>\n",
       "    </tr>\n",
       "    <tr>\n",
       "      <th>8590</th>\n",
       "      <td>Apartments.com Rental Search</td>\n",
       "      <td>NaN</td>\n",
       "      <td>NaN</td>\n",
       "      <td>NaN</td>\n",
       "      <td>NaN</td>\n",
       "    </tr>\n",
       "    <tr>\n",
       "      <th>59237</th>\n",
       "      <td>HTC Sense Input</td>\n",
       "      <td>I need bulgarian phonetic keyboard, traditiona...</td>\n",
       "      <td>Positive</td>\n",
       "      <td>0.137500</td>\n",
       "      <td>0.375000</td>\n",
       "    </tr>\n",
       "    <tr>\n",
       "      <th>59625</th>\n",
       "      <td>Hairstyles step by step</td>\n",
       "      <td>Cute adorable also amazing</td>\n",
       "      <td>Positive</td>\n",
       "      <td>0.533333</td>\n",
       "      <td>0.966667</td>\n",
       "    </tr>\n",
       "    <tr>\n",
       "      <th>53464</th>\n",
       "      <td>Girls Hairstyles</td>\n",
       "      <td>NaN</td>\n",
       "      <td>NaN</td>\n",
       "      <td>NaN</td>\n",
       "      <td>NaN</td>\n",
       "    </tr>\n",
       "    <tr>\n",
       "      <th>26949</th>\n",
       "      <td>Clash Royale</td>\n",
       "      <td>This game really fun! The gameplay great chara...</td>\n",
       "      <td>Positive</td>\n",
       "      <td>0.094231</td>\n",
       "      <td>0.303846</td>\n",
       "    </tr>\n",
       "    <tr>\n",
       "      <th>53096</th>\n",
       "      <td>Gboard - the Google Keyboard</td>\n",
       "      <td>The working great update made spell checker (r...</td>\n",
       "      <td>Positive</td>\n",
       "      <td>0.231250</td>\n",
       "      <td>0.237500</td>\n",
       "    </tr>\n",
       "    <tr>\n",
       "      <th>4442</th>\n",
       "      <td>Adult Glitter Color by Number Book - Sandbox P...</td>\n",
       "      <td>NaN</td>\n",
       "      <td>NaN</td>\n",
       "      <td>NaN</td>\n",
       "      <td>NaN</td>\n",
       "    </tr>\n",
       "    <tr>\n",
       "      <th>30620</th>\n",
       "      <td>CreditWise from Capital One</td>\n",
       "      <td>Really helpful giving suggestions helping incr...</td>\n",
       "      <td>Positive</td>\n",
       "      <td>0.250000</td>\n",
       "      <td>0.200000</td>\n",
       "    </tr>\n",
       "    <tr>\n",
       "      <th>60489</th>\n",
       "      <td>Headspace: Meditation &amp; Mindfulness</td>\n",
       "      <td>This well marketed gives good first impression...</td>\n",
       "      <td>Positive</td>\n",
       "      <td>0.147500</td>\n",
       "      <td>0.558333</td>\n",
       "    </tr>\n",
       "    <tr>\n",
       "      <th>24365</th>\n",
       "      <td>CareZone</td>\n",
       "      <td>NaN</td>\n",
       "      <td>NaN</td>\n",
       "      <td>NaN</td>\n",
       "      <td>NaN</td>\n",
       "    </tr>\n",
       "    <tr>\n",
       "      <th>3320</th>\n",
       "      <td>ASUS Quick Memo</td>\n",
       "      <td>NaN</td>\n",
       "      <td>NaN</td>\n",
       "      <td>NaN</td>\n",
       "      <td>NaN</td>\n",
       "    </tr>\n",
       "    <tr>\n",
       "      <th>54991</th>\n",
       "      <td>Google Analytics</td>\n",
       "      <td>NaN</td>\n",
       "      <td>NaN</td>\n",
       "      <td>NaN</td>\n",
       "      <td>NaN</td>\n",
       "    </tr>\n",
       "    <tr>\n",
       "      <th>13307</th>\n",
       "      <td>BeWild Free Dating &amp; Chat App</td>\n",
       "      <td>Wow amazing dating app. The registration proce...</td>\n",
       "      <td>Positive</td>\n",
       "      <td>0.362121</td>\n",
       "      <td>0.730303</td>\n",
       "    </tr>\n",
       "  </tbody>\n",
       "</table>\n",
       "</div>"
      ],
      "text/plain": [
       "                                                     App  \\\n",
       "21604                     Calorie Counter & Diet Tracker   \n",
       "22606                                   Camera FV-5 Lite   \n",
       "14204        Best New Ringtones 2018 Free 🔥 For Android™   \n",
       "4764                         Agoda – Hotel Booking Deals   \n",
       "56490                                      Google Photos   \n",
       "13803     BeautyPlus - Easy Photo Editor & Selfie Camera   \n",
       "62716  Home Security Camera WardenCam - reuse old phones   \n",
       "8590                        Apartments.com Rental Search   \n",
       "59237                                    HTC Sense Input   \n",
       "59625                            Hairstyles step by step   \n",
       "53464                                   Girls Hairstyles   \n",
       "26949                                       Clash Royale   \n",
       "53096                       Gboard - the Google Keyboard   \n",
       "4442   Adult Glitter Color by Number Book - Sandbox P...   \n",
       "30620                        CreditWise from Capital One   \n",
       "60489                Headspace: Meditation & Mindfulness   \n",
       "24365                                           CareZone   \n",
       "3320                                     ASUS Quick Memo   \n",
       "54991                                   Google Analytics   \n",
       "13307                      BeWild Free Dating & Chat App   \n",
       "\n",
       "                                       Translated_Review Sentiment  \\\n",
       "21604  Can't say enough this. This another weight iss...  Positive   \n",
       "22606                                                NaN       NaN   \n",
       "14204                                                NaN       NaN   \n",
       "4764   Amazing app! Used book hotels, way price, Thai...  Positive   \n",
       "56490  This great photo gallery app. You back photos ...  Positive   \n",
       "13803                                                NaN       NaN   \n",
       "62716  Pretty intuitive controls. Great functionality...  Positive   \n",
       "8590                                                 NaN       NaN   \n",
       "59237  I need bulgarian phonetic keyboard, traditiona...  Positive   \n",
       "59625                         Cute adorable also amazing  Positive   \n",
       "53464                                                NaN       NaN   \n",
       "26949  This game really fun! The gameplay great chara...  Positive   \n",
       "53096  The working great update made spell checker (r...  Positive   \n",
       "4442                                                 NaN       NaN   \n",
       "30620  Really helpful giving suggestions helping incr...  Positive   \n",
       "60489  This well marketed gives good first impression...  Positive   \n",
       "24365                                                NaN       NaN   \n",
       "3320                                                 NaN       NaN   \n",
       "54991                                                NaN       NaN   \n",
       "13307  Wow amazing dating app. The registration proce...  Positive   \n",
       "\n",
       "       Sentiment_Polarity  Sentiment_Subjectivity  \n",
       "21604            0.233333                0.633333  \n",
       "22606                 NaN                     NaN  \n",
       "14204                 NaN                     NaN  \n",
       "4764             0.750000                0.900000  \n",
       "56490            0.400000                0.375000  \n",
       "13803                 NaN                     NaN  \n",
       "62716            0.363889                0.630556  \n",
       "8590                  NaN                     NaN  \n",
       "59237            0.137500                0.375000  \n",
       "59625            0.533333                0.966667  \n",
       "53464                 NaN                     NaN  \n",
       "26949            0.094231                0.303846  \n",
       "53096            0.231250                0.237500  \n",
       "4442                  NaN                     NaN  \n",
       "30620            0.250000                0.200000  \n",
       "60489            0.147500                0.558333  \n",
       "24365                 NaN                     NaN  \n",
       "3320                  NaN                     NaN  \n",
       "54991                 NaN                     NaN  \n",
       "13307            0.362121                0.730303  "
      ]
     },
     "execution_count": 197,
     "metadata": {},
     "output_type": "execute_result"
    }
   ],
   "source": [
    "df2.sample(20)"
   ]
  },
  {
   "cell_type": "markdown",
   "id": "a421bda6-8057-452d-9fdc-e5b64eedf9d7",
   "metadata": {},
   "source": [
    "There are some columns wiht NaN so we can get rid of those as they possibly are empty reviews"
   ]
  },
  {
   "cell_type": "code",
   "execution_count": 198,
   "id": "47c1cf4b-60f1-4b58-8a68-efbfef5fb81c",
   "metadata": {},
   "outputs": [
    {
     "name": "stdout",
     "output_type": "stream",
     "text": [
      "<class 'pandas.core.frame.DataFrame'>\n",
      "Int64Index: 37427 entries, 0 to 64230\n",
      "Data columns (total 5 columns):\n",
      " #   Column                  Non-Null Count  Dtype  \n",
      "---  ------                  --------------  -----  \n",
      " 0   App                     37427 non-null  object \n",
      " 1   Translated_Review       37427 non-null  object \n",
      " 2   Sentiment               37427 non-null  object \n",
      " 3   Sentiment_Polarity      37427 non-null  float64\n",
      " 4   Sentiment_Subjectivity  37427 non-null  float64\n",
      "dtypes: float64(2), object(3)\n",
      "memory usage: 1.7+ MB\n"
     ]
    }
   ],
   "source": [
    "df2 = df2.dropna()\n",
    "df2.sample(20)\n",
    "df2.info()"
   ]
  },
  {
   "cell_type": "markdown",
   "id": "fd026de6-80df-4124-a460-aae20e95e560",
   "metadata": {},
   "source": [
    "Merge both dfs"
   ]
  },
  {
   "cell_type": "code",
   "execution_count": 324,
   "id": "599f07b6-7a65-4bfa-80c1-94137a50069c",
   "metadata": {},
   "outputs": [],
   "source": [
    "df3 = pd.merge(df1,df2, on = 'App', indicator=True, how = 'outer')"
   ]
  },
  {
   "cell_type": "code",
   "execution_count": 325,
   "id": "fb12c1c7-6633-4788-bff0-8b1c98af6d29",
   "metadata": {},
   "outputs": [
    {
     "name": "stdout",
     "output_type": "stream",
     "text": [
      "<class 'pandas.core.frame.DataFrame'>\n",
      "Int64Index: 83715 entries, 0 to 83714\n",
      "Data columns (total 18 columns):\n",
      " #   Column                  Non-Null Count  Dtype   \n",
      "---  ------                  --------------  -----   \n",
      " 0   App                     83715 non-null  object  \n",
      " 1   Category                82217 non-null  object  \n",
      " 2   Rating                  80705 non-null  float64 \n",
      " 3   Reviews                 82217 non-null  object  \n",
      " 4   Size                    82217 non-null  object  \n",
      " 5   Installs                82217 non-null  object  \n",
      " 6   Type                    82216 non-null  object  \n",
      " 7   Price                   82217 non-null  object  \n",
      " 8   Content Rating          82216 non-null  object  \n",
      " 9   Genres                  82217 non-null  object  \n",
      " 10  Last Updated            82217 non-null  object  \n",
      " 11  Current Ver             82209 non-null  object  \n",
      " 12  Android Ver             82214 non-null  object  \n",
      " 13  Translated_Review       74103 non-null  object  \n",
      " 14  Sentiment               74103 non-null  object  \n",
      " 15  Sentiment_Polarity      74103 non-null  float64 \n",
      " 16  Sentiment_Subjectivity  74103 non-null  float64 \n",
      " 17  _merge                  83715 non-null  category\n",
      "dtypes: category(1), float64(3), object(14)\n",
      "memory usage: 11.6+ MB\n"
     ]
    }
   ],
   "source": [
    "df3.info()"
   ]
  },
  {
   "cell_type": "markdown",
   "id": "660c93b7-248c-421e-9646-be8fbc9cfc73",
   "metadata": {},
   "source": [
    "Checking if merge went well, randomly selected an App to check"
   ]
  },
  {
   "cell_type": "code",
   "execution_count": 326,
   "id": "18327312-ee15-455c-9666-de5b8ee1fcce",
   "metadata": {},
   "outputs": [
    {
     "data": {
      "text/html": [
       "<div>\n",
       "<style scoped>\n",
       "    .dataframe tbody tr th:only-of-type {\n",
       "        vertical-align: middle;\n",
       "    }\n",
       "\n",
       "    .dataframe tbody tr th {\n",
       "        vertical-align: top;\n",
       "    }\n",
       "\n",
       "    .dataframe thead th {\n",
       "        text-align: right;\n",
       "    }\n",
       "</style>\n",
       "<table border=\"1\" class=\"dataframe\">\n",
       "  <thead>\n",
       "    <tr style=\"text-align: right;\">\n",
       "      <th></th>\n",
       "      <th>App</th>\n",
       "      <th>Category</th>\n",
       "      <th>Rating</th>\n",
       "      <th>Reviews</th>\n",
       "      <th>Size</th>\n",
       "      <th>Installs</th>\n",
       "      <th>Type</th>\n",
       "      <th>Price</th>\n",
       "      <th>Content Rating</th>\n",
       "      <th>Genres</th>\n",
       "      <th>Last Updated</th>\n",
       "      <th>Current Ver</th>\n",
       "      <th>Android Ver</th>\n",
       "    </tr>\n",
       "  </thead>\n",
       "  <tbody>\n",
       "    <tr>\n",
       "      <th>1</th>\n",
       "      <td>Coloring book moana</td>\n",
       "      <td>ART_AND_DESIGN</td>\n",
       "      <td>3.9</td>\n",
       "      <td>967</td>\n",
       "      <td>14M</td>\n",
       "      <td>500,000+</td>\n",
       "      <td>Free</td>\n",
       "      <td>0</td>\n",
       "      <td>Everyone</td>\n",
       "      <td>Art &amp; Design;Pretend Play</td>\n",
       "      <td>January 15, 2018</td>\n",
       "      <td>2.0.0</td>\n",
       "      <td>4.0.3 and up</td>\n",
       "    </tr>\n",
       "    <tr>\n",
       "      <th>2033</th>\n",
       "      <td>Coloring book moana</td>\n",
       "      <td>FAMILY</td>\n",
       "      <td>3.9</td>\n",
       "      <td>974</td>\n",
       "      <td>14M</td>\n",
       "      <td>500,000+</td>\n",
       "      <td>Free</td>\n",
       "      <td>0</td>\n",
       "      <td>Everyone</td>\n",
       "      <td>Art &amp; Design;Pretend Play</td>\n",
       "      <td>January 15, 2018</td>\n",
       "      <td>2.0.0</td>\n",
       "      <td>4.0.3 and up</td>\n",
       "    </tr>\n",
       "  </tbody>\n",
       "</table>\n",
       "</div>"
      ],
      "text/plain": [
       "                      App        Category  Rating Reviews Size  Installs  \\\n",
       "1     Coloring book moana  ART_AND_DESIGN     3.9     967  14M  500,000+   \n",
       "2033  Coloring book moana          FAMILY     3.9     974  14M  500,000+   \n",
       "\n",
       "      Type Price Content Rating                     Genres      Last Updated  \\\n",
       "1     Free     0       Everyone  Art & Design;Pretend Play  January 15, 2018   \n",
       "2033  Free     0       Everyone  Art & Design;Pretend Play  January 15, 2018   \n",
       "\n",
       "     Current Ver   Android Ver  \n",
       "1          2.0.0  4.0.3 and up  \n",
       "2033       2.0.0  4.0.3 and up  "
      ]
     },
     "execution_count": 326,
     "metadata": {},
     "output_type": "execute_result"
    }
   ],
   "source": [
    "df_test1 = df1[df1['App'] == 'Coloring book moana']\n",
    "df_test1"
   ]
  },
  {
   "cell_type": "code",
   "execution_count": 327,
   "id": "b8684fa3-fde2-4519-a462-0e3f6c035ea2",
   "metadata": {},
   "outputs": [
    {
     "name": "stdout",
     "output_type": "stream",
     "text": [
      "<class 'pandas.core.frame.DataFrame'>\n",
      "Int64Index: 44 entries, 28538 to 28594\n",
      "Data columns (total 5 columns):\n",
      " #   Column                  Non-Null Count  Dtype  \n",
      "---  ------                  --------------  -----  \n",
      " 0   App                     44 non-null     object \n",
      " 1   Translated_Review       44 non-null     object \n",
      " 2   Sentiment               44 non-null     object \n",
      " 3   Sentiment_Polarity      44 non-null     float64\n",
      " 4   Sentiment_Subjectivity  44 non-null     float64\n",
      "dtypes: float64(2), object(3)\n",
      "memory usage: 2.1+ KB\n"
     ]
    },
    {
     "data": {
      "text/html": [
       "<div>\n",
       "<style scoped>\n",
       "    .dataframe tbody tr th:only-of-type {\n",
       "        vertical-align: middle;\n",
       "    }\n",
       "\n",
       "    .dataframe tbody tr th {\n",
       "        vertical-align: top;\n",
       "    }\n",
       "\n",
       "    .dataframe thead th {\n",
       "        text-align: right;\n",
       "    }\n",
       "</style>\n",
       "<table border=\"1\" class=\"dataframe\">\n",
       "  <thead>\n",
       "    <tr style=\"text-align: right;\">\n",
       "      <th></th>\n",
       "      <th>App</th>\n",
       "      <th>Translated_Review</th>\n",
       "      <th>Sentiment</th>\n",
       "      <th>Sentiment_Polarity</th>\n",
       "      <th>Sentiment_Subjectivity</th>\n",
       "    </tr>\n",
       "  </thead>\n",
       "  <tbody>\n",
       "    <tr>\n",
       "      <th>28538</th>\n",
       "      <td>Coloring book moana</td>\n",
       "      <td>A kid's excessive ads. The types ads allowed a...</td>\n",
       "      <td>Negative</td>\n",
       "      <td>-0.250</td>\n",
       "      <td>1.000000</td>\n",
       "    </tr>\n",
       "    <tr>\n",
       "      <th>28539</th>\n",
       "      <td>Coloring book moana</td>\n",
       "      <td>It bad &gt;:(</td>\n",
       "      <td>Negative</td>\n",
       "      <td>-0.725</td>\n",
       "      <td>0.833333</td>\n",
       "    </tr>\n",
       "    <tr>\n",
       "      <th>28540</th>\n",
       "      <td>Coloring book moana</td>\n",
       "      <td>like</td>\n",
       "      <td>Neutral</td>\n",
       "      <td>0.000</td>\n",
       "      <td>0.000000</td>\n",
       "    </tr>\n",
       "    <tr>\n",
       "      <th>28542</th>\n",
       "      <td>Coloring book moana</td>\n",
       "      <td>I love colors inspyering</td>\n",
       "      <td>Positive</td>\n",
       "      <td>0.500</td>\n",
       "      <td>0.600000</td>\n",
       "    </tr>\n",
       "    <tr>\n",
       "      <th>28543</th>\n",
       "      <td>Coloring book moana</td>\n",
       "      <td>I hate</td>\n",
       "      <td>Negative</td>\n",
       "      <td>-0.800</td>\n",
       "      <td>0.900000</td>\n",
       "    </tr>\n",
       "  </tbody>\n",
       "</table>\n",
       "</div>"
      ],
      "text/plain": [
       "                       App                                  Translated_Review  \\\n",
       "28538  Coloring book moana  A kid's excessive ads. The types ads allowed a...   \n",
       "28539  Coloring book moana                                         It bad >:(   \n",
       "28540  Coloring book moana                                               like   \n",
       "28542  Coloring book moana                           I love colors inspyering   \n",
       "28543  Coloring book moana                                             I hate   \n",
       "\n",
       "      Sentiment  Sentiment_Polarity  Sentiment_Subjectivity  \n",
       "28538  Negative              -0.250                1.000000  \n",
       "28539  Negative              -0.725                0.833333  \n",
       "28540   Neutral               0.000                0.000000  \n",
       "28542  Positive               0.500                0.600000  \n",
       "28543  Negative              -0.800                0.900000  "
      ]
     },
     "execution_count": 327,
     "metadata": {},
     "output_type": "execute_result"
    }
   ],
   "source": [
    "df_test2 = df2[df2['App'] == 'Coloring book moana']\n",
    "df_test2.info()\n",
    "df_test2.head()"
   ]
  },
  {
   "cell_type": "code",
   "execution_count": 328,
   "id": "102f5de9-0466-4b7d-9080-48fe4a92465e",
   "metadata": {},
   "outputs": [
    {
     "name": "stdout",
     "output_type": "stream",
     "text": [
      "<class 'pandas.core.frame.DataFrame'>\n",
      "Int64Index: 88 entries, 1 to 88\n",
      "Data columns (total 18 columns):\n",
      " #   Column                  Non-Null Count  Dtype   \n",
      "---  ------                  --------------  -----   \n",
      " 0   App                     88 non-null     object  \n",
      " 1   Category                88 non-null     object  \n",
      " 2   Rating                  88 non-null     float64 \n",
      " 3   Reviews                 88 non-null     object  \n",
      " 4   Size                    88 non-null     object  \n",
      " 5   Installs                88 non-null     object  \n",
      " 6   Type                    88 non-null     object  \n",
      " 7   Price                   88 non-null     object  \n",
      " 8   Content Rating          88 non-null     object  \n",
      " 9   Genres                  88 non-null     object  \n",
      " 10  Last Updated            88 non-null     object  \n",
      " 11  Current Ver             88 non-null     object  \n",
      " 12  Android Ver             88 non-null     object  \n",
      " 13  Translated_Review       88 non-null     object  \n",
      " 14  Sentiment               88 non-null     object  \n",
      " 15  Sentiment_Polarity      88 non-null     float64 \n",
      " 16  Sentiment_Subjectivity  88 non-null     float64 \n",
      " 17  _merge                  88 non-null     category\n",
      "dtypes: category(1), float64(3), object(14)\n",
      "memory usage: 12.6+ KB\n"
     ]
    }
   ],
   "source": [
    "df_test3 = df3[df3['App'] == 'Coloring book moana']\n",
    "df_test3.info()"
   ]
  },
  {
   "cell_type": "markdown",
   "id": "99587d7f-85e5-4dca-8e4a-74e38b1fe6d2",
   "metadata": {},
   "source": [
    "It looks like the merge duplicated the number of rows, will now check that"
   ]
  },
  {
   "cell_type": "code",
   "execution_count": 329,
   "id": "6051de67-6e25-4d61-a178-0d52abad932e",
   "metadata": {},
   "outputs": [
    {
     "data": {
      "text/plain": [
       "1     False\n",
       "2     False\n",
       "3     False\n",
       "4     False\n",
       "5     False\n",
       "      ...  \n",
       "84     True\n",
       "85     True\n",
       "86     True\n",
       "87     True\n",
       "88     True\n",
       "Length: 88, dtype: bool"
      ]
     },
     "execution_count": 329,
     "metadata": {},
     "output_type": "execute_result"
    }
   ],
   "source": [
    "df_test3.duplicated()"
   ]
  },
  {
   "cell_type": "code",
   "execution_count": 330,
   "id": "d0209d9a-4994-4be5-bb29-23b9271d9571",
   "metadata": {},
   "outputs": [
    {
     "name": "stdout",
     "output_type": "stream",
     "text": [
      "<class 'pandas.core.frame.DataFrame'>\n",
      "Int64Index: 51135 entries, 0 to 83714\n",
      "Data columns (total 18 columns):\n",
      " #   Column                  Non-Null Count  Dtype   \n",
      "---  ------                  --------------  -----   \n",
      " 0   App                     51135 non-null  object  \n",
      " 1   Category                49693 non-null  object  \n",
      " 2   Rating                  48191 non-null  float64 \n",
      " 3   Reviews                 49693 non-null  object  \n",
      " 4   Size                    49693 non-null  object  \n",
      " 5   Installs                49693 non-null  object  \n",
      " 6   Type                    49692 non-null  object  \n",
      " 7   Price                   49693 non-null  object  \n",
      " 8   Content Rating          49692 non-null  object  \n",
      " 9   Genres                  49693 non-null  object  \n",
      " 10  Last Updated            49693 non-null  object  \n",
      " 11  Current Ver             49685 non-null  object  \n",
      " 12  Android Ver             49690 non-null  object  \n",
      " 13  Translated_Review       41856 non-null  object  \n",
      " 14  Sentiment               41856 non-null  object  \n",
      " 15  Sentiment_Polarity      41856 non-null  float64 \n",
      " 16  Sentiment_Subjectivity  41856 non-null  float64 \n",
      " 17  _merge                  51135 non-null  category\n",
      "dtypes: category(1), float64(3), object(14)\n",
      "memory usage: 7.1+ MB\n"
     ]
    }
   ],
   "source": [
    "df3 = df3.drop_duplicates(keep = 'last')\n",
    "df3.info()"
   ]
  },
  {
   "cell_type": "markdown",
   "id": "e59fd77c-ba13-43ef-98ee-61c0f84b3cbc",
   "metadata": {},
   "source": [
    "Looks like we got rid of the duplicates now"
   ]
  },
  {
   "cell_type": "code",
   "execution_count": 371,
   "id": "e6fed506-784f-4264-87f3-feac1c059c94",
   "metadata": {},
   "outputs": [
    {
     "data": {
      "text/html": [
       "<div>\n",
       "<style scoped>\n",
       "    .dataframe tbody tr th:only-of-type {\n",
       "        vertical-align: middle;\n",
       "    }\n",
       "\n",
       "    .dataframe tbody tr th {\n",
       "        vertical-align: top;\n",
       "    }\n",
       "\n",
       "    .dataframe thead th {\n",
       "        text-align: right;\n",
       "    }\n",
       "</style>\n",
       "<table border=\"1\" class=\"dataframe\">\n",
       "  <thead>\n",
       "    <tr style=\"text-align: right;\">\n",
       "      <th></th>\n",
       "      <th>App</th>\n",
       "      <th>Category</th>\n",
       "      <th>Rating</th>\n",
       "      <th>Reviews</th>\n",
       "      <th>Size</th>\n",
       "      <th>Installs</th>\n",
       "      <th>Type</th>\n",
       "      <th>Price</th>\n",
       "      <th>Content Rating</th>\n",
       "      <th>Genres</th>\n",
       "      <th>Last Updated</th>\n",
       "      <th>Current Ver</th>\n",
       "      <th>Android Ver</th>\n",
       "      <th>Translated_Review</th>\n",
       "      <th>Sentiment</th>\n",
       "      <th>Sentiment_Polarity</th>\n",
       "      <th>Sentiment_Subjectivity</th>\n",
       "      <th>_merge</th>\n",
       "    </tr>\n",
       "  </thead>\n",
       "  <tbody>\n",
       "    <tr>\n",
       "      <th>47833</th>\n",
       "      <td>Basketball FRVR - Shoot the Hoop and Slam Dunk!</td>\n",
       "      <td>FAMILY</td>\n",
       "      <td>4.5</td>\n",
       "      <td>4076.0</td>\n",
       "      <td>78000000.0</td>\n",
       "      <td>100000</td>\n",
       "      <td>Free</td>\n",
       "      <td>0</td>\n",
       "      <td>Everyone</td>\n",
       "      <td>Sports;Action &amp; Adventure</td>\n",
       "      <td>August 1, 2018</td>\n",
       "      <td>1.3.3</td>\n",
       "      <td>4.1 and up</td>\n",
       "      <td>I like want learn shooting.</td>\n",
       "      <td>Neutral</td>\n",
       "      <td>0.000</td>\n",
       "      <td>0.000</td>\n",
       "      <td>both</td>\n",
       "    </tr>\n",
       "    <tr>\n",
       "      <th>67224</th>\n",
       "      <td>Sun Rise Free Live Wallpaper</td>\n",
       "      <td>PERSONALIZATION</td>\n",
       "      <td>4.3</td>\n",
       "      <td>86481.0</td>\n",
       "      <td>8.6</td>\n",
       "      <td>10000000</td>\n",
       "      <td>Free</td>\n",
       "      <td>0</td>\n",
       "      <td>Everyone</td>\n",
       "      <td>Personalization</td>\n",
       "      <td>January 31, 2018</td>\n",
       "      <td>4.8.3</td>\n",
       "      <td>4.0 and up</td>\n",
       "      <td>NaN</td>\n",
       "      <td>NaN</td>\n",
       "      <td>NaN</td>\n",
       "      <td>NaN</td>\n",
       "      <td>left_only</td>\n",
       "    </tr>\n",
       "    <tr>\n",
       "      <th>65004</th>\n",
       "      <td>DuraSpeed</td>\n",
       "      <td>TOOLS</td>\n",
       "      <td>3.8</td>\n",
       "      <td>5431.0</td>\n",
       "      <td>1.3</td>\n",
       "      <td>10000000</td>\n",
       "      <td>Free</td>\n",
       "      <td>0</td>\n",
       "      <td>Everyone</td>\n",
       "      <td>Tools</td>\n",
       "      <td>November 13, 2017</td>\n",
       "      <td>1.5.0</td>\n",
       "      <td>6.0 and up</td>\n",
       "      <td>Slow phone micromax canvas 1</td>\n",
       "      <td>Negative</td>\n",
       "      <td>-0.300</td>\n",
       "      <td>0.400</td>\n",
       "      <td>both</td>\n",
       "    </tr>\n",
       "    <tr>\n",
       "      <th>27525</th>\n",
       "      <td>Bubble Shooter</td>\n",
       "      <td>GAME</td>\n",
       "      <td>4.5</td>\n",
       "      <td>148895.0</td>\n",
       "      <td>46000000.0</td>\n",
       "      <td>10000000</td>\n",
       "      <td>Free</td>\n",
       "      <td>0</td>\n",
       "      <td>Everyone</td>\n",
       "      <td>Casual</td>\n",
       "      <td>July 17, 2018</td>\n",
       "      <td>1.20.1</td>\n",
       "      <td>4.0.3 and up</td>\n",
       "      <td>The game cool.</td>\n",
       "      <td>Negative</td>\n",
       "      <td>-0.025</td>\n",
       "      <td>0.525</td>\n",
       "      <td>both</td>\n",
       "    </tr>\n",
       "    <tr>\n",
       "      <th>67450</th>\n",
       "      <td>GO Keyboard - Emoticon keyboard, Free Theme, GIF</td>\n",
       "      <td>PERSONALIZATION</td>\n",
       "      <td>4.4</td>\n",
       "      <td>2591941.0</td>\n",
       "      <td>6.2</td>\n",
       "      <td>100000000</td>\n",
       "      <td>Free</td>\n",
       "      <td>0</td>\n",
       "      <td>Everyone</td>\n",
       "      <td>Personalization</td>\n",
       "      <td>July 20, 2018</td>\n",
       "      <td>Varies with device</td>\n",
       "      <td>Varies with device</td>\n",
       "      <td>VIP</td>\n",
       "      <td>Neutral</td>\n",
       "      <td>0.000</td>\n",
       "      <td>0.000</td>\n",
       "      <td>both</td>\n",
       "    </tr>\n",
       "    <tr>\n",
       "      <th>75536</th>\n",
       "      <td>Bad Piggies</td>\n",
       "      <td>FAMILY</td>\n",
       "      <td>4.3</td>\n",
       "      <td>1168959.0</td>\n",
       "      <td>66000000.0</td>\n",
       "      <td>50000000</td>\n",
       "      <td>Free</td>\n",
       "      <td>0</td>\n",
       "      <td>Everyone</td>\n",
       "      <td>Puzzle</td>\n",
       "      <td>May 3, 2017</td>\n",
       "      <td>2.3.3</td>\n",
       "      <td>4.1 and up</td>\n",
       "      <td>The game's good road el porkador switches glit...</td>\n",
       "      <td>Negative</td>\n",
       "      <td>-0.060</td>\n",
       "      <td>0.320</td>\n",
       "      <td>both</td>\n",
       "    </tr>\n",
       "    <tr>\n",
       "      <th>66381</th>\n",
       "      <td>Diamond Zipper Lock Screen</td>\n",
       "      <td>PERSONALIZATION</td>\n",
       "      <td>4.3</td>\n",
       "      <td>71688.0</td>\n",
       "      <td>12000000.0</td>\n",
       "      <td>10000000</td>\n",
       "      <td>Free</td>\n",
       "      <td>0</td>\n",
       "      <td>Everyone</td>\n",
       "      <td>Personalization</td>\n",
       "      <td>June 11, 2018</td>\n",
       "      <td>3.5</td>\n",
       "      <td>4.1 and up</td>\n",
       "      <td>Best lock screen ever</td>\n",
       "      <td>Positive</td>\n",
       "      <td>1.000</td>\n",
       "      <td>0.300</td>\n",
       "      <td>both</td>\n",
       "    </tr>\n",
       "    <tr>\n",
       "      <th>56972</th>\n",
       "      <td>Cymera Camera- Photo Editor, Filter,Collage,La...</td>\n",
       "      <td>PHOTOGRAPHY</td>\n",
       "      <td>4.4</td>\n",
       "      <td>2418158.0</td>\n",
       "      <td>6.6</td>\n",
       "      <td>100000000</td>\n",
       "      <td>Free</td>\n",
       "      <td>0</td>\n",
       "      <td>Everyone</td>\n",
       "      <td>Photography</td>\n",
       "      <td>July 12, 2018</td>\n",
       "      <td>Varies with device</td>\n",
       "      <td>Varies with device</td>\n",
       "      <td>Very useful</td>\n",
       "      <td>Positive</td>\n",
       "      <td>0.390</td>\n",
       "      <td>0.000</td>\n",
       "      <td>both</td>\n",
       "    </tr>\n",
       "    <tr>\n",
       "      <th>15662</th>\n",
       "      <td>Bualuang mBanking</td>\n",
       "      <td>FINANCE</td>\n",
       "      <td>4.0</td>\n",
       "      <td>48445.0</td>\n",
       "      <td>10000000.0</td>\n",
       "      <td>5000000</td>\n",
       "      <td>Free</td>\n",
       "      <td>0</td>\n",
       "      <td>Everyone</td>\n",
       "      <td>Finance</td>\n",
       "      <td>July 16, 2018</td>\n",
       "      <td>2.6.0</td>\n",
       "      <td>4.0.3 and up</td>\n",
       "      <td>Why is that? Can I transfer numbers or Id? It'...</td>\n",
       "      <td>Positive</td>\n",
       "      <td>0.700</td>\n",
       "      <td>0.600</td>\n",
       "      <td>both</td>\n",
       "    </tr>\n",
       "    <tr>\n",
       "      <th>55732</th>\n",
       "      <td>Google Photos</td>\n",
       "      <td>PHOTOGRAPHY</td>\n",
       "      <td>4.5</td>\n",
       "      <td>10858538.0</td>\n",
       "      <td>28000000.0</td>\n",
       "      <td>1000000000</td>\n",
       "      <td>Free</td>\n",
       "      <td>0</td>\n",
       "      <td>Everyone</td>\n",
       "      <td>Photography</td>\n",
       "      <td>August 6, 2018</td>\n",
       "      <td>Varies with device</td>\n",
       "      <td>Varies with device</td>\n",
       "      <td>I installed \"Google Photos\" IOS devices Samsun...</td>\n",
       "      <td>Positive</td>\n",
       "      <td>0.175</td>\n",
       "      <td>0.325</td>\n",
       "      <td>both</td>\n",
       "    </tr>\n",
       "  </tbody>\n",
       "</table>\n",
       "</div>"
      ],
      "text/plain": [
       "                                                     App         Category  \\\n",
       "47833    Basketball FRVR - Shoot the Hoop and Slam Dunk!           FAMILY   \n",
       "67224                       Sun Rise Free Live Wallpaper  PERSONALIZATION   \n",
       "65004                                          DuraSpeed            TOOLS   \n",
       "27525                                     Bubble Shooter             GAME   \n",
       "67450   GO Keyboard - Emoticon keyboard, Free Theme, GIF  PERSONALIZATION   \n",
       "75536                                        Bad Piggies           FAMILY   \n",
       "66381                         Diamond Zipper Lock Screen  PERSONALIZATION   \n",
       "56972  Cymera Camera- Photo Editor, Filter,Collage,La...      PHOTOGRAPHY   \n",
       "15662                                  Bualuang mBanking          FINANCE   \n",
       "55732                                      Google Photos      PHOTOGRAPHY   \n",
       "\n",
       "       Rating     Reviews        Size    Installs  Type Price Content Rating  \\\n",
       "47833     4.5      4076.0  78000000.0      100000  Free     0       Everyone   \n",
       "67224     4.3     86481.0         8.6    10000000  Free     0       Everyone   \n",
       "65004     3.8      5431.0         1.3    10000000  Free     0       Everyone   \n",
       "27525     4.5    148895.0  46000000.0    10000000  Free     0       Everyone   \n",
       "67450     4.4   2591941.0         6.2   100000000  Free     0       Everyone   \n",
       "75536     4.3   1168959.0  66000000.0    50000000  Free     0       Everyone   \n",
       "66381     4.3     71688.0  12000000.0    10000000  Free     0       Everyone   \n",
       "56972     4.4   2418158.0         6.6   100000000  Free     0       Everyone   \n",
       "15662     4.0     48445.0  10000000.0     5000000  Free     0       Everyone   \n",
       "55732     4.5  10858538.0  28000000.0  1000000000  Free     0       Everyone   \n",
       "\n",
       "                          Genres       Last Updated         Current Ver  \\\n",
       "47833  Sports;Action & Adventure     August 1, 2018               1.3.3   \n",
       "67224            Personalization   January 31, 2018               4.8.3   \n",
       "65004                      Tools  November 13, 2017               1.5.0   \n",
       "27525                     Casual      July 17, 2018              1.20.1   \n",
       "67450            Personalization      July 20, 2018  Varies with device   \n",
       "75536                     Puzzle        May 3, 2017               2.3.3   \n",
       "66381            Personalization      June 11, 2018                 3.5   \n",
       "56972                Photography      July 12, 2018  Varies with device   \n",
       "15662                    Finance      July 16, 2018               2.6.0   \n",
       "55732                Photography     August 6, 2018  Varies with device   \n",
       "\n",
       "              Android Ver                                  Translated_Review  \\\n",
       "47833          4.1 and up                        I like want learn shooting.   \n",
       "67224          4.0 and up                                                NaN   \n",
       "65004          6.0 and up                       Slow phone micromax canvas 1   \n",
       "27525        4.0.3 and up                                     The game cool.   \n",
       "67450  Varies with device                                                VIP   \n",
       "75536          4.1 and up  The game's good road el porkador switches glit...   \n",
       "66381          4.1 and up                              Best lock screen ever   \n",
       "56972  Varies with device                                        Very useful   \n",
       "15662        4.0.3 and up  Why is that? Can I transfer numbers or Id? It'...   \n",
       "55732  Varies with device  I installed \"Google Photos\" IOS devices Samsun...   \n",
       "\n",
       "      Sentiment  Sentiment_Polarity  Sentiment_Subjectivity     _merge  \n",
       "47833   Neutral               0.000                   0.000       both  \n",
       "67224       NaN                 NaN                     NaN  left_only  \n",
       "65004  Negative              -0.300                   0.400       both  \n",
       "27525  Negative              -0.025                   0.525       both  \n",
       "67450   Neutral               0.000                   0.000       both  \n",
       "75536  Negative              -0.060                   0.320       both  \n",
       "66381  Positive               1.000                   0.300       both  \n",
       "56972  Positive               0.390                   0.000       both  \n",
       "15662  Positive               0.700                   0.600       both  \n",
       "55732  Positive               0.175                   0.325       both  "
      ]
     },
     "execution_count": 371,
     "metadata": {},
     "output_type": "execute_result"
    }
   ],
   "source": [
    "df3.sample(10)"
   ]
  },
  {
   "cell_type": "markdown",
   "id": "40dd242c-5844-4726-8b3d-48754d0c1101",
   "metadata": {},
   "source": [
    "It is clear by the last column that some Apps only had info in df1, and some only had info in df2. I have decided to leave it like that for now because we do not want to lose data from df1 as some analyses will only need df1."
   ]
  },
  {
   "cell_type": "markdown",
   "id": "ecf199d5-a028-4b3c-8d47-081130f36a01",
   "metadata": {},
   "source": [
    "Some more data cleaning is necessary. Let's look at the data for each column and see what needs to be cleanned. "
   ]
  },
  {
   "cell_type": "code",
   "execution_count": 332,
   "id": "5e834f81-e3e0-40de-917f-545b01e140af",
   "metadata": {},
   "outputs": [
    {
     "data": {
      "text/plain": [
       "array(['ART_AND_DESIGN', 'FAMILY', 'AUTO_AND_VEHICLES', 'BEAUTY',\n",
       "       'BOOKS_AND_REFERENCE', 'BUSINESS', 'COMMUNICATION', 'COMICS',\n",
       "       'DATING', 'TOOLS', 'EDUCATION', 'ENTERTAINMENT', 'EVENTS',\n",
       "       'FINANCE', 'FOOD_AND_DRINK', 'HEALTH_AND_FITNESS', 'MEDICAL',\n",
       "       'HOUSE_AND_HOME', 'LIBRARIES_AND_DEMO', 'LIFESTYLE', 'GAME',\n",
       "       'SPORTS', 'VIDEO_PLAYERS', 'SOCIAL', 'SHOPPING', 'PHOTOGRAPHY',\n",
       "       'TRAVEL_AND_LOCAL', 'PERSONALIZATION', 'PRODUCTIVITY', 'PARENTING',\n",
       "       'WEATHER', 'NEWS_AND_MAGAZINES', 'MAPS_AND_NAVIGATION', '1.9', nan],\n",
       "      dtype=object)"
      ]
     },
     "execution_count": 332,
     "metadata": {},
     "output_type": "execute_result"
    }
   ],
   "source": [
    "df3.Category.unique()"
   ]
  },
  {
   "cell_type": "markdown",
   "id": "ad496497-42de-4816-b24b-b78728d5b72b",
   "metadata": {},
   "source": [
    "There is a strange '1.9', let's investigate that."
   ]
  },
  {
   "cell_type": "code",
   "execution_count": 333,
   "id": "19624e32-0f3e-484a-b564-bcfcb8c9f05c",
   "metadata": {},
   "outputs": [
    {
     "data": {
      "text/html": [
       "<div>\n",
       "<style scoped>\n",
       "    .dataframe tbody tr th:only-of-type {\n",
       "        vertical-align: middle;\n",
       "    }\n",
       "\n",
       "    .dataframe tbody tr th {\n",
       "        vertical-align: top;\n",
       "    }\n",
       "\n",
       "    .dataframe thead th {\n",
       "        text-align: right;\n",
       "    }\n",
       "</style>\n",
       "<table border=\"1\" class=\"dataframe\">\n",
       "  <thead>\n",
       "    <tr style=\"text-align: right;\">\n",
       "      <th></th>\n",
       "      <th>App</th>\n",
       "      <th>Category</th>\n",
       "      <th>Rating</th>\n",
       "      <th>Reviews</th>\n",
       "      <th>Size</th>\n",
       "      <th>Installs</th>\n",
       "      <th>Type</th>\n",
       "      <th>Price</th>\n",
       "      <th>Content Rating</th>\n",
       "      <th>Genres</th>\n",
       "      <th>Last Updated</th>\n",
       "      <th>Current Ver</th>\n",
       "      <th>Android Ver</th>\n",
       "      <th>Translated_Review</th>\n",
       "      <th>Sentiment</th>\n",
       "      <th>Sentiment_Polarity</th>\n",
       "      <th>Sentiment_Subjectivity</th>\n",
       "      <th>_merge</th>\n",
       "    </tr>\n",
       "  </thead>\n",
       "  <tbody>\n",
       "    <tr>\n",
       "      <th>81857</th>\n",
       "      <td>Life Made WI-Fi Touchscreen Photo Frame</td>\n",
       "      <td>1.9</td>\n",
       "      <td>19.0</td>\n",
       "      <td>3.0M</td>\n",
       "      <td>1,000+</td>\n",
       "      <td>Free</td>\n",
       "      <td>0</td>\n",
       "      <td>Everyone</td>\n",
       "      <td>NaN</td>\n",
       "      <td>February 11, 2018</td>\n",
       "      <td>1.0.19</td>\n",
       "      <td>4.0 and up</td>\n",
       "      <td>NaN</td>\n",
       "      <td>NaN</td>\n",
       "      <td>NaN</td>\n",
       "      <td>NaN</td>\n",
       "      <td>NaN</td>\n",
       "      <td>left_only</td>\n",
       "    </tr>\n",
       "  </tbody>\n",
       "</table>\n",
       "</div>"
      ],
      "text/plain": [
       "                                           App Category  Rating Reviews  \\\n",
       "81857  Life Made WI-Fi Touchscreen Photo Frame      1.9    19.0    3.0M   \n",
       "\n",
       "         Size Installs Type     Price Content Rating             Genres  \\\n",
       "81857  1,000+     Free    0  Everyone            NaN  February 11, 2018   \n",
       "\n",
       "      Last Updated Current Ver Android Ver Translated_Review Sentiment  \\\n",
       "81857       1.0.19  4.0 and up         NaN               NaN       NaN   \n",
       "\n",
       "       Sentiment_Polarity  Sentiment_Subjectivity     _merge  \n",
       "81857                 NaN                     NaN  left_only  "
      ]
     },
     "execution_count": 333,
     "metadata": {},
     "output_type": "execute_result"
    }
   ],
   "source": [
    "df3[df3['Category'] == '1.9']"
   ]
  },
  {
   "cell_type": "markdown",
   "id": "c7ce2203-070a-4488-b9b7-84656e147d9b",
   "metadata": {},
   "source": [
    "Looks like this is possibly an error, so we will replace it with a nan"
   ]
  },
  {
   "cell_type": "code",
   "execution_count": 334,
   "id": "795dd6a9-669d-40bf-8973-a773ad447750",
   "metadata": {},
   "outputs": [],
   "source": [
    "df3['Category'] = df3['Category'].replace('1.9', None)"
   ]
  },
  {
   "cell_type": "code",
   "execution_count": 335,
   "id": "ba496c9d-1f9a-4f43-a2ec-aeda2cd22dfa",
   "metadata": {},
   "outputs": [
    {
     "data": {
      "text/plain": [
       "array(['ART_AND_DESIGN', 'FAMILY', 'AUTO_AND_VEHICLES', 'BEAUTY',\n",
       "       'BOOKS_AND_REFERENCE', 'BUSINESS', 'COMMUNICATION', 'COMICS',\n",
       "       'DATING', 'TOOLS', 'EDUCATION', 'ENTERTAINMENT', 'EVENTS',\n",
       "       'FINANCE', 'FOOD_AND_DRINK', 'HEALTH_AND_FITNESS', 'MEDICAL',\n",
       "       'HOUSE_AND_HOME', 'LIBRARIES_AND_DEMO', 'LIFESTYLE', 'GAME',\n",
       "       'SPORTS', 'VIDEO_PLAYERS', 'SOCIAL', 'SHOPPING', 'PHOTOGRAPHY',\n",
       "       'TRAVEL_AND_LOCAL', 'PERSONALIZATION', 'PRODUCTIVITY', 'PARENTING',\n",
       "       'WEATHER', 'NEWS_AND_MAGAZINES', 'MAPS_AND_NAVIGATION', nan],\n",
       "      dtype=object)"
      ]
     },
     "execution_count": 335,
     "metadata": {},
     "output_type": "execute_result"
    }
   ],
   "source": [
    "df3.Category.unique()"
   ]
  },
  {
   "cell_type": "markdown",
   "id": "d624936e-96cb-4184-b4df-261a6d2b0427",
   "metadata": {},
   "source": [
    "Next, we look at the second ratings column"
   ]
  },
  {
   "cell_type": "code",
   "execution_count": 336,
   "id": "3a4278c8-77aa-4b10-a5a8-1e75b3461581",
   "metadata": {},
   "outputs": [
    {
     "data": {
      "text/plain": [
       "1.0"
      ]
     },
     "execution_count": 336,
     "metadata": {},
     "output_type": "execute_result"
    }
   ],
   "source": [
    "df3.Rating.min()"
   ]
  },
  {
   "cell_type": "code",
   "execution_count": 337,
   "id": "4e841d43-2cc8-45ba-9a54-2f378ada5d35",
   "metadata": {},
   "outputs": [
    {
     "data": {
      "text/plain": [
       "19.0"
      ]
     },
     "execution_count": 337,
     "metadata": {},
     "output_type": "execute_result"
    }
   ],
   "source": [
    "df3.Rating.max()"
   ]
  },
  {
   "cell_type": "markdown",
   "id": "117df5d9-66b6-4cab-b5a5-a638198af40f",
   "metadata": {},
   "source": [
    "is it possible to have 19 as max in Rating? "
   ]
  },
  {
   "cell_type": "code",
   "execution_count": 338,
   "id": "d5fcd17d-afa6-4697-9e30-8bea55f46c4d",
   "metadata": {},
   "outputs": [
    {
     "data": {
      "text/plain": [
       "4.4     7381\n",
       "4.5     7080\n",
       "4.3     6670\n",
       "4.6     6240\n",
       "4.2     5262\n",
       "4.1     3600\n",
       "4.7     3012\n",
       "4.0     2325\n",
       "3.9     1746\n",
       "3.8     1023\n",
       "3.7      751\n",
       "4.8      586\n",
       "3.5      441\n",
       "3.4      359\n",
       "3.6      346\n",
       "5.0      271\n",
       "3.1      185\n",
       "4.9      182\n",
       "3.0      143\n",
       "3.3      138\n",
       "3.2      102\n",
       "2.7       60\n",
       "2.6       54\n",
       "2.9       45\n",
       "2.8       40\n",
       "2.5       20\n",
       "2.3       20\n",
       "2.4       19\n",
       "1.0       16\n",
       "2.2       14\n",
       "2.0       12\n",
       "1.9       12\n",
       "1.7        8\n",
       "1.8        8\n",
       "2.1        8\n",
       "1.6        4\n",
       "1.4        3\n",
       "1.5        3\n",
       "1.2        1\n",
       "19.0       1\n",
       "Name: Rating, dtype: int64"
      ]
     },
     "execution_count": 338,
     "metadata": {},
     "output_type": "execute_result"
    }
   ],
   "source": [
    "df3.Rating.value_counts()"
   ]
  },
  {
   "cell_type": "markdown",
   "id": "f3c8ad8c-fe13-4aff-93b0-f341430a5df4",
   "metadata": {},
   "source": [
    "Yes, so it looks like this number is an error. It looks like this row is the same row we had before with '1.9'as the category. Looking closely one can see that all entries are slightly off - possibly when scraping something went wrong with the Category and all observations are misplaced in the wrong collumn.  I'll get rid of this row."
   ]
  },
  {
   "cell_type": "code",
   "execution_count": 360,
   "id": "b7697437-92fc-44a5-9026-24bc3c770ebc",
   "metadata": {},
   "outputs": [],
   "source": [
    "df3 = df3[df3.Rating < 5]"
   ]
  },
  {
   "cell_type": "markdown",
   "id": "ed679873-815d-4a2a-9a9f-16a77a8e7a70",
   "metadata": {},
   "source": [
    "now let's look at the Reviews column"
   ]
  },
  {
   "cell_type": "code",
   "execution_count": 361,
   "id": "bf84c744-03d2-42a6-a7d3-a37252c2dc01",
   "metadata": {},
   "outputs": [
    {
     "data": {
      "text/plain": [
       "1.0"
      ]
     },
     "execution_count": 361,
     "metadata": {},
     "output_type": "execute_result"
    }
   ],
   "source": [
    "df3.Reviews.min()"
   ]
  },
  {
   "cell_type": "code",
   "execution_count": 362,
   "id": "be26deee-833b-42af-82e4-82d0d105c78b",
   "metadata": {},
   "outputs": [
    {
     "data": {
      "text/plain": [
       "78158306.0"
      ]
     },
     "execution_count": 362,
     "metadata": {},
     "output_type": "execute_result"
    }
   ],
   "source": [
    "df3.Reviews.max()"
   ]
  },
  {
   "cell_type": "markdown",
   "id": "abf70f86-2e09-412c-8ac8-8a36b4759851",
   "metadata": {},
   "source": [
    "It looks like pandas is not reading this collumn as a number collumn, but rather as text. this could get tricky in some analyses. So let's just convert that to float."
   ]
  },
  {
   "cell_type": "code",
   "execution_count": 363,
   "id": "78c9cadd-8b99-4893-96f1-d9d2e4b581f3",
   "metadata": {},
   "outputs": [],
   "source": [
    "df3['Reviews'] = df3['Reviews'].astype(float) "
   ]
  },
  {
   "cell_type": "markdown",
   "id": "0b5ea485-74e0-4a92-9e3c-f7a3ba87fef5",
   "metadata": {},
   "source": [
    "So when we re run the min and max we get numbers now!"
   ]
  },
  {
   "cell_type": "markdown",
   "id": "88cd92ac-0cce-4105-a08a-347de1b873d7",
   "metadata": {},
   "source": [
    "now let's check the Size column..."
   ]
  },
  {
   "cell_type": "code",
   "execution_count": 343,
   "id": "d146d755-66dc-490b-9585-947aeb19bf4a",
   "metadata": {},
   "outputs": [
    {
     "data": {
      "text/plain": [
       "'1.0M'"
      ]
     },
     "execution_count": 343,
     "metadata": {},
     "output_type": "execute_result"
    }
   ],
   "source": [
    "df3.Size.min()"
   ]
  },
  {
   "cell_type": "code",
   "execution_count": 344,
   "id": "2738d854-e8f3-4dde-b944-060ca1a6608d",
   "metadata": {},
   "outputs": [
    {
     "data": {
      "text/plain": [
       "'Varies with device'"
      ]
     },
     "execution_count": 344,
     "metadata": {},
     "output_type": "execute_result"
    }
   ],
   "source": [
    "df3.Size.max()"
   ]
  },
  {
   "cell_type": "markdown",
   "id": "d3874dea-af2f-4d49-9901-305e6f8184b5",
   "metadata": {},
   "source": [
    "it would be useful if we could have a way to transform these strings into numbers so we can do some analyses in the future - for example, does size influence the decision do donwload the app?"
   ]
  },
  {
   "cell_type": "code",
   "execution_count": 345,
   "id": "55223383-2052-41df-b664-1902fde36d32",
   "metadata": {},
   "outputs": [],
   "source": [
    "df3['Size'] = df3['Size'].str.replace('M', '000000', regex=True) "
   ]
  },
  {
   "cell_type": "code",
   "execution_count": 346,
   "id": "5dbc2355-616e-4829-bdd8-5f883481033c",
   "metadata": {},
   "outputs": [],
   "source": [
    "df3['Size'] = df3['Size'].str.replace('k', '00000', regex=True) "
   ]
  },
  {
   "cell_type": "code",
   "execution_count": 348,
   "id": "6f24cafa-e489-4240-8c46-271410fe53a9",
   "metadata": {},
   "outputs": [],
   "source": [
    "df3['Size'] = df3['Size'].replace('Varies with device', None)"
   ]
  },
  {
   "cell_type": "code",
   "execution_count": 350,
   "id": "efe160da-f330-4cdb-8554-e388ee701e6d",
   "metadata": {},
   "outputs": [],
   "source": [
    "df3['Size'] = df3['Size'].astype(float) "
   ]
  },
  {
   "cell_type": "markdown",
   "id": "a4a5e6a1-3fe9-47fb-9099-820ef1ca5a17",
   "metadata": {},
   "source": [
    "now let's clean the collumn Installs"
   ]
  },
  {
   "cell_type": "code",
   "execution_count": 356,
   "id": "1b419f7b-04e8-4f59-8705-86ebc2abd9e6",
   "metadata": {},
   "outputs": [],
   "source": [
    "df3['Installs'] = df3['Installs'].str.replace('+', '', regex=True) \n",
    "df3['Installs'] = df3['Installs'].str.replace(',', '', regex=True) "
   ]
  },
  {
   "cell_type": "code",
   "execution_count": 357,
   "id": "b075d630-3dc5-4c1b-8e06-083cecd4b586",
   "metadata": {},
   "outputs": [],
   "source": [
    "df3['Installs'] = df3['Installs'].astype(int) "
   ]
  },
  {
   "cell_type": "markdown",
   "id": "b93c4a46-1f62-4303-a58c-7e779d3a9f94",
   "metadata": {},
   "source": [
    "next collumn is Type and it looks like this collumn is good to go for analysis"
   ]
  },
  {
   "cell_type": "code",
   "execution_count": 366,
   "id": "8adf2270-fe8a-446b-8413-8f3f52c5ac60",
   "metadata": {},
   "outputs": [
    {
     "data": {
      "text/plain": [
       "Free    46975\n",
       "Paid      944\n",
       "Name: Type, dtype: int64"
      ]
     },
     "execution_count": 366,
     "metadata": {},
     "output_type": "execute_result"
    }
   ],
   "source": [
    "df3.Type.value_counts()"
   ]
  },
  {
   "cell_type": "markdown",
   "id": "5795b837-842e-4565-94fa-a57d3506e457",
   "metadata": {},
   "source": [
    "next column is Price"
   ]
  },
  {
   "cell_type": "code",
   "execution_count": 378,
   "id": "228ea2d1-67ef-4be1-9a9c-0d187f1d1b46",
   "metadata": {},
   "outputs": [
    {
     "data": {
      "text/plain": [
       "0.0"
      ]
     },
     "execution_count": 378,
     "metadata": {},
     "output_type": "execute_result"
    }
   ],
   "source": [
    "df3.Price.min()"
   ]
  },
  {
   "cell_type": "code",
   "execution_count": 379,
   "id": "4f57de49-bfc6-4e89-88f9-aede79f69fb0",
   "metadata": {},
   "outputs": [
    {
     "data": {
      "text/plain": [
       "400.0"
      ]
     },
     "execution_count": 379,
     "metadata": {},
     "output_type": "execute_result"
    }
   ],
   "source": [
    "df3.Price.max()"
   ]
  },
  {
   "cell_type": "code",
   "execution_count": 373,
   "id": "bad05d12-dee8-4a57-b1f0-8323d26eb7a8",
   "metadata": {},
   "outputs": [],
   "source": [
    "df3['Price'] = df3['Price'].str.replace('$', '', regex=True) "
   ]
  },
  {
   "cell_type": "code",
   "execution_count": 376,
   "id": "6642a4fe-5f24-4df9-9fb6-e7ac187353e8",
   "metadata": {},
   "outputs": [],
   "source": [
    "df3['Price'] = df3['Price'].astype(float) "
   ]
  },
  {
   "cell_type": "code",
   "execution_count": 382,
   "id": "d211961c-95f2-4fcc-919e-3f2b8c8add79",
   "metadata": {},
   "outputs": [
    {
     "data": {
      "text/plain": [
       "0.00      46975\n",
       "0.99        153\n",
       "1.00          2\n",
       "1.20          1\n",
       "1.29          1\n",
       "          ...  \n",
       "299.99        1\n",
       "379.99        1\n",
       "389.99        1\n",
       "399.99       11\n",
       "400.00        1\n",
       "Name: Price, Length: 71, dtype: int64"
      ]
     },
     "execution_count": 382,
     "metadata": {},
     "output_type": "execute_result"
    }
   ],
   "source": [
    "df3.Price.value_counts().sort_index()"
   ]
  },
  {
   "cell_type": "markdown",
   "id": "cabd6416-537f-4b48-8897-dac267c0d98b",
   "metadata": {},
   "source": [
    "Next column is content rating and it looks like it's all good:"
   ]
  },
  {
   "cell_type": "code",
   "execution_count": 384,
   "id": "4043a647-5f1e-4b3f-b9b1-50658538fc0e",
   "metadata": {},
   "outputs": [
    {
     "data": {
      "text/plain": [
       "Everyone           37288\n",
       "Teen                6275\n",
       "Mature 17+          2418\n",
       "Everyone 10+        1900\n",
       "Adults only 18+       37\n",
       "Unrated                1\n",
       "Name: Content Rating, dtype: int64"
      ]
     },
     "execution_count": 384,
     "metadata": {},
     "output_type": "execute_result"
    }
   ],
   "source": [
    "df3['Content Rating'].value_counts()"
   ]
  },
  {
   "cell_type": "markdown",
   "id": "f40e0f5b-0558-4a01-b3be-005107867140",
   "metadata": {},
   "source": [
    "Next column is Genres:"
   ]
  },
  {
   "cell_type": "code",
   "execution_count": 394,
   "id": "c3f55311-8790-4974-8e25-65653b42842c",
   "metadata": {},
   "outputs": [
    {
     "data": {
      "text/plain": [
       "array(['Art & Design', 'Art & Design;Pretend Play',\n",
       "       'Art & Design;Creativity', 'Auto & Vehicles', 'Beauty',\n",
       "       'Books & Reference', 'Business', 'Communication', 'Comics',\n",
       "       'Comics;Creativity', 'Dating', 'Tools', 'Education;Education',\n",
       "       'Education', 'Education;Creativity', 'Education;Music & Video',\n",
       "       'Education;Action & Adventure', 'Education;Pretend Play',\n",
       "       'Education;Brain Games', 'Entertainment',\n",
       "       'Entertainment;Music & Video', 'Entertainment;Brain Games',\n",
       "       'Entertainment;Creativity', 'Events', 'Finance', 'Food & Drink',\n",
       "       'Health & Fitness', 'Medical', 'House & Home', 'Libraries & Demo',\n",
       "       'Lifestyle', 'Lifestyle;Pretend Play',\n",
       "       'Adventure;Action & Adventure', 'Arcade', 'Casual', 'Card',\n",
       "       'Card;Brain Games', 'Puzzle;Brain Games', 'Casual;Pretend Play',\n",
       "       'Action', 'Strategy', 'Puzzle', 'Sports', 'Music', 'Word',\n",
       "       'Racing', 'Casual;Creativity', 'Casual;Action & Adventure',\n",
       "       'Simulation', 'Adventure', 'Board', 'Trivia', 'Role Playing',\n",
       "       'Simulation;Education', 'Action;Action & Adventure',\n",
       "       'Casual;Brain Games', 'Simulation;Action & Adventure',\n",
       "       'Entertainment;Education', 'Casual;Education',\n",
       "       'Music;Music & Video', 'Racing;Action & Adventure',\n",
       "       'Arcade;Pretend Play', 'Role Playing;Action & Adventure',\n",
       "       'Simulation;Pretend Play', 'Puzzle;Creativity',\n",
       "       'Sports;Action & Adventure', 'Arcade;Action & Adventure',\n",
       "       'Entertainment;Action & Adventure', 'Puzzle;Action & Adventure',\n",
       "       'Strategy;Action & Adventure', 'Music & Audio;Music & Video',\n",
       "       'Health & Fitness;Education', 'Adventure;Education',\n",
       "       'Board;Brain Games', 'Board;Action & Adventure',\n",
       "       'Board;Pretend Play', 'Casual;Music & Video',\n",
       "       'Role Playing;Pretend Play', 'Entertainment;Pretend Play',\n",
       "       'Video Players & Editors;Creativity', 'Video Players & Editors',\n",
       "       'Card;Action & Adventure', 'Social', 'Shopping', 'Photography',\n",
       "       'Travel & Local', 'Travel & Local;Action & Adventure',\n",
       "       'Tools;Education', 'Personalization', 'Productivity', 'Parenting',\n",
       "       'Parenting;Music & Video', 'Parenting;Brain Games',\n",
       "       'Parenting;Education', 'Weather',\n",
       "       'Video Players & Editors;Music & Video', 'News & Magazines',\n",
       "       'Maps & Navigation', 'Health & Fitness;Action & Adventure',\n",
       "       'Casino', 'Adventure;Brain Games', 'Lifestyle;Education',\n",
       "       'Books & Reference;Education', 'Puzzle;Education',\n",
       "       'Role Playing;Brain Games', 'Strategy;Education',\n",
       "       'Racing;Pretend Play', 'Communication;Creativity',\n",
       "       'Strategy;Creativity'], dtype=object)"
      ]
     },
     "execution_count": 394,
     "metadata": {},
     "output_type": "execute_result"
    }
   ],
   "source": [
    "df3.Genres.unique()"
   ]
  },
  {
   "cell_type": "markdown",
   "id": "37774686-65bb-42d1-bd81-1fd34c3b7120",
   "metadata": {},
   "source": [
    "It looks like the Genre 'Education' is appearing twice because there is a space in one of the instances. Also, there is \"educational\". So let's fix that and have only one 'Education'. "
   ]
  },
  {
   "cell_type": "code",
   "execution_count": 391,
   "id": "1c7259f3-a6eb-4545-9d17-3c867bc0f75b",
   "metadata": {},
   "outputs": [],
   "source": [
    "df3['Genres'] = df3['Genres'].str.replace('Education ', 'Education', regex=True) \n",
    "df3['Genres'] = df3['Genres'].str.replace('Educational', 'Education', regex=True) "
   ]
  },
  {
   "cell_type": "markdown",
   "id": "289c9269-463c-4fcc-a871-438140d46833",
   "metadata": {},
   "source": [
    "we could also split the ones with more than one genre into two columns"
   ]
  },
  {
   "cell_type": "code",
   "execution_count": 403,
   "id": "2497d750-6d7c-44b0-bb12-0e3ce6fc336a",
   "metadata": {},
   "outputs": [],
   "source": [
    "df3[['Genre1', 'Genre2']] = df3['Genres'].str.split(';', expand=True)"
   ]
  },
  {
   "cell_type": "code",
   "execution_count": 408,
   "id": "1aec8e20-8bf0-4bd2-8b6b-cbd54f6a0a4c",
   "metadata": {},
   "outputs": [
    {
     "data": {
      "text/html": [
       "<div>\n",
       "<style scoped>\n",
       "    .dataframe tbody tr th:only-of-type {\n",
       "        vertical-align: middle;\n",
       "    }\n",
       "\n",
       "    .dataframe tbody tr th {\n",
       "        vertical-align: top;\n",
       "    }\n",
       "\n",
       "    .dataframe thead th {\n",
       "        text-align: right;\n",
       "    }\n",
       "</style>\n",
       "<table border=\"1\" class=\"dataframe\">\n",
       "  <thead>\n",
       "    <tr style=\"text-align: right;\">\n",
       "      <th></th>\n",
       "      <th>App</th>\n",
       "      <th>Category</th>\n",
       "      <th>Rating</th>\n",
       "      <th>Reviews</th>\n",
       "      <th>Size</th>\n",
       "      <th>Installs</th>\n",
       "      <th>Type</th>\n",
       "      <th>Price</th>\n",
       "      <th>Content Rating</th>\n",
       "      <th>Genres</th>\n",
       "      <th>Last Updated</th>\n",
       "      <th>Current Ver</th>\n",
       "      <th>Android Ver</th>\n",
       "      <th>Translated_Review</th>\n",
       "      <th>Sentiment</th>\n",
       "      <th>Sentiment_Polarity</th>\n",
       "      <th>Sentiment_Subjectivity</th>\n",
       "      <th>_merge</th>\n",
       "      <th>Genre1</th>\n",
       "      <th>Genre2</th>\n",
       "    </tr>\n",
       "  </thead>\n",
       "  <tbody>\n",
       "    <tr>\n",
       "      <th>0</th>\n",
       "      <td>Photo Editor &amp; Candy Camera &amp; Grid &amp; ScrapBook</td>\n",
       "      <td>ART_AND_DESIGN</td>\n",
       "      <td>4.1</td>\n",
       "      <td>159.0</td>\n",
       "      <td>19000000.0</td>\n",
       "      <td>10000</td>\n",
       "      <td>Free</td>\n",
       "      <td>0.0</td>\n",
       "      <td>Everyone</td>\n",
       "      <td>Art &amp; Design</td>\n",
       "      <td>January 7, 2018</td>\n",
       "      <td>1.0.0</td>\n",
       "      <td>4.0.3 and up</td>\n",
       "      <td>NaN</td>\n",
       "      <td>NaN</td>\n",
       "      <td>NaN</td>\n",
       "      <td>NaN</td>\n",
       "      <td>left_only</td>\n",
       "      <td>Art &amp; Design</td>\n",
       "      <td>None</td>\n",
       "    </tr>\n",
       "    <tr>\n",
       "      <th>23</th>\n",
       "      <td>Coloring book moana</td>\n",
       "      <td>ART_AND_DESIGN</td>\n",
       "      <td>3.9</td>\n",
       "      <td>967.0</td>\n",
       "      <td>14000000.0</td>\n",
       "      <td>500000</td>\n",
       "      <td>Free</td>\n",
       "      <td>0.0</td>\n",
       "      <td>Everyone</td>\n",
       "      <td>Art &amp; Design;Pretend Play</td>\n",
       "      <td>January 15, 2018</td>\n",
       "      <td>2.0.0</td>\n",
       "      <td>4.0.3 and up</td>\n",
       "      <td>A kid's excessive ads. The types ads allowed a...</td>\n",
       "      <td>Negative</td>\n",
       "      <td>-0.250</td>\n",
       "      <td>1.000000</td>\n",
       "      <td>both</td>\n",
       "      <td>Art &amp; Design</td>\n",
       "      <td>Pretend Play</td>\n",
       "    </tr>\n",
       "    <tr>\n",
       "      <th>24</th>\n",
       "      <td>Coloring book moana</td>\n",
       "      <td>ART_AND_DESIGN</td>\n",
       "      <td>3.9</td>\n",
       "      <td>967.0</td>\n",
       "      <td>14000000.0</td>\n",
       "      <td>500000</td>\n",
       "      <td>Free</td>\n",
       "      <td>0.0</td>\n",
       "      <td>Everyone</td>\n",
       "      <td>Art &amp; Design;Pretend Play</td>\n",
       "      <td>January 15, 2018</td>\n",
       "      <td>2.0.0</td>\n",
       "      <td>4.0.3 and up</td>\n",
       "      <td>It cute.</td>\n",
       "      <td>Positive</td>\n",
       "      <td>0.500</td>\n",
       "      <td>1.000000</td>\n",
       "      <td>both</td>\n",
       "      <td>Art &amp; Design</td>\n",
       "      <td>Pretend Play</td>\n",
       "    </tr>\n",
       "    <tr>\n",
       "      <th>25</th>\n",
       "      <td>Coloring book moana</td>\n",
       "      <td>ART_AND_DESIGN</td>\n",
       "      <td>3.9</td>\n",
       "      <td>967.0</td>\n",
       "      <td>14000000.0</td>\n",
       "      <td>500000</td>\n",
       "      <td>Free</td>\n",
       "      <td>0.0</td>\n",
       "      <td>Everyone</td>\n",
       "      <td>Art &amp; Design;Pretend Play</td>\n",
       "      <td>January 15, 2018</td>\n",
       "      <td>2.0.0</td>\n",
       "      <td>4.0.3 and up</td>\n",
       "      <td>It bad &gt;:(</td>\n",
       "      <td>Negative</td>\n",
       "      <td>-0.725</td>\n",
       "      <td>0.833333</td>\n",
       "      <td>both</td>\n",
       "      <td>Art &amp; Design</td>\n",
       "      <td>Pretend Play</td>\n",
       "    </tr>\n",
       "    <tr>\n",
       "      <th>26</th>\n",
       "      <td>Coloring book moana</td>\n",
       "      <td>ART_AND_DESIGN</td>\n",
       "      <td>3.9</td>\n",
       "      <td>967.0</td>\n",
       "      <td>14000000.0</td>\n",
       "      <td>500000</td>\n",
       "      <td>Free</td>\n",
       "      <td>0.0</td>\n",
       "      <td>Everyone</td>\n",
       "      <td>Art &amp; Design;Pretend Play</td>\n",
       "      <td>January 15, 2018</td>\n",
       "      <td>2.0.0</td>\n",
       "      <td>4.0.3 and up</td>\n",
       "      <td>like</td>\n",
       "      <td>Neutral</td>\n",
       "      <td>0.000</td>\n",
       "      <td>0.000000</td>\n",
       "      <td>both</td>\n",
       "      <td>Art &amp; Design</td>\n",
       "      <td>Pretend Play</td>\n",
       "    </tr>\n",
       "  </tbody>\n",
       "</table>\n",
       "</div>"
      ],
      "text/plain": [
       "                                               App        Category  Rating  \\\n",
       "0   Photo Editor & Candy Camera & Grid & ScrapBook  ART_AND_DESIGN     4.1   \n",
       "23                             Coloring book moana  ART_AND_DESIGN     3.9   \n",
       "24                             Coloring book moana  ART_AND_DESIGN     3.9   \n",
       "25                             Coloring book moana  ART_AND_DESIGN     3.9   \n",
       "26                             Coloring book moana  ART_AND_DESIGN     3.9   \n",
       "\n",
       "    Reviews        Size  Installs  Type  Price Content Rating  \\\n",
       "0     159.0  19000000.0     10000  Free    0.0       Everyone   \n",
       "23    967.0  14000000.0    500000  Free    0.0       Everyone   \n",
       "24    967.0  14000000.0    500000  Free    0.0       Everyone   \n",
       "25    967.0  14000000.0    500000  Free    0.0       Everyone   \n",
       "26    967.0  14000000.0    500000  Free    0.0       Everyone   \n",
       "\n",
       "                       Genres      Last Updated Current Ver   Android Ver  \\\n",
       "0                Art & Design   January 7, 2018       1.0.0  4.0.3 and up   \n",
       "23  Art & Design;Pretend Play  January 15, 2018       2.0.0  4.0.3 and up   \n",
       "24  Art & Design;Pretend Play  January 15, 2018       2.0.0  4.0.3 and up   \n",
       "25  Art & Design;Pretend Play  January 15, 2018       2.0.0  4.0.3 and up   \n",
       "26  Art & Design;Pretend Play  January 15, 2018       2.0.0  4.0.3 and up   \n",
       "\n",
       "                                    Translated_Review Sentiment  \\\n",
       "0                                                 NaN       NaN   \n",
       "23  A kid's excessive ads. The types ads allowed a...  Negative   \n",
       "24                                           It cute.  Positive   \n",
       "25                                         It bad >:(  Negative   \n",
       "26                                               like   Neutral   \n",
       "\n",
       "    Sentiment_Polarity  Sentiment_Subjectivity     _merge        Genre1  \\\n",
       "0                  NaN                     NaN  left_only  Art & Design   \n",
       "23              -0.250                1.000000       both  Art & Design   \n",
       "24               0.500                1.000000       both  Art & Design   \n",
       "25              -0.725                0.833333       both  Art & Design   \n",
       "26               0.000                0.000000       both  Art & Design   \n",
       "\n",
       "          Genre2  \n",
       "0           None  \n",
       "23  Pretend Play  \n",
       "24  Pretend Play  \n",
       "25  Pretend Play  \n",
       "26  Pretend Play  "
      ]
     },
     "execution_count": 408,
     "metadata": {},
     "output_type": "execute_result"
    }
   ],
   "source": [
    "df3.head()"
   ]
  },
  {
   "cell_type": "markdown",
   "id": "f9d475a3-1d36-450c-9cf7-0aa9b762a623",
   "metadata": {},
   "source": [
    "Now let's check the column 'Last Updated'"
   ]
  },
  {
   "cell_type": "code",
   "execution_count": 410,
   "id": "19af2164-1a90-4196-947f-df4634f43c05",
   "metadata": {},
   "outputs": [
    {
     "data": {
      "text/plain": [
       "July 31, 2018        3331\n",
       "August 3, 2018       2464\n",
       "August 2, 2018       2199\n",
       "August 1, 2018       2046\n",
       "August 6, 2018       1383\n",
       "                     ... \n",
       "November 16, 2015       1\n",
       "March 28, 2016          1\n",
       "April 17, 2014          1\n",
       "April 11, 2016          1\n",
       "March 23, 2014          1\n",
       "Name: Last Updated, Length: 1288, dtype: int64"
      ]
     },
     "execution_count": 410,
     "metadata": {},
     "output_type": "execute_result"
    }
   ],
   "source": [
    "df3['Last Updated'].value_counts()"
   ]
  },
  {
   "cell_type": "code",
   "execution_count": 415,
   "id": "10b3fe70-a803-4d90-a76c-f7c4a1e9aca8",
   "metadata": {},
   "outputs": [
    {
     "data": {
      "text/plain": [
       "15754      May 25, 2018\n",
       "64965     July 18, 2018\n",
       "9703      April 7, 2018\n",
       "55575    August 6, 2018\n",
       "51574      June 1, 2018\n",
       "3054     August 1, 2018\n",
       "65871      July 9, 2018\n",
       "64797     July 31, 2018\n",
       "33675     July 31, 2018\n",
       "44961     July 23, 2018\n",
       "52169     July 20, 2018\n",
       "75913       May 6, 2018\n",
       "78077       May 3, 2018\n",
       "32762     July 31, 2018\n",
       "29784     April 9, 2018\n",
       "63962     July 31, 2018\n",
       "11651     July 30, 2018\n",
       "1381      July 27, 2018\n",
       "36897     July 30, 2018\n",
       "53772     July 31, 2018\n",
       "Name: Last Updated, dtype: object"
      ]
     },
     "execution_count": 415,
     "metadata": {},
     "output_type": "execute_result"
    }
   ],
   "source": [
    "df3['Last Updated'].sample(20)"
   ]
  },
  {
   "cell_type": "markdown",
   "id": "3782ffd8-5218-4049-bfd1-1395c4d0a8e6",
   "metadata": {},
   "source": [
    "all good with this column"
   ]
  },
  {
   "cell_type": "markdown",
   "id": "fc40b892-79da-42fc-9a67-c6d6331e78d0",
   "metadata": {},
   "source": [
    "Now let's check the column 'Current Ver'"
   ]
  },
  {
   "cell_type": "code",
   "execution_count": 416,
   "id": "09ea7c20-894e-45dd-9b4f-ffbae0788c31",
   "metadata": {},
   "outputs": [
    {
     "data": {
      "text/plain": [
       "Varies with device    12199\n",
       "1.0.6                   675\n",
       "4.0.0                   674\n",
       "1.0                     579\n",
       "7.9.3                   535\n",
       "                      ...  \n",
       "17.4.11                   1\n",
       "6.7.15.7                  1\n",
       "1.8.7.0                   1\n",
       "5.1.10                    1\n",
       "0.3.4                     1\n",
       "Name: Current Ver, Length: 2608, dtype: int64"
      ]
     },
     "execution_count": 416,
     "metadata": {},
     "output_type": "execute_result"
    }
   ],
   "source": [
    "df3['Current Ver'].value_counts()"
   ]
  },
  {
   "cell_type": "code",
   "execution_count": 418,
   "id": "165715c9-497e-4cd5-838b-1d8ccc0595e1",
   "metadata": {},
   "outputs": [
    {
     "data": {
      "text/plain": [
       "8950                  2.0.5\n",
       "48226                 37893\n",
       "513                    1.37\n",
       "9217                  6.4.1\n",
       "23129    Varies with device\n",
       "61794         10.9.8 (Play)\n",
       "74808    Varies with device\n",
       "15830    Varies with device\n",
       "15095                 2.3.2\n",
       "59773    Varies with device\n",
       "80614                   1.5\n",
       "4349                3.1.4.0\n",
       "53077               4.6.2.0\n",
       "12043                   3.0\n",
       "75505                 2.3.3\n",
       "24536                  4.90\n",
       "63649    Varies with device\n",
       "66312                   1.1\n",
       "19821    Varies with device\n",
       "34857                 7.9.3\n",
       "Name: Current Ver, dtype: object"
      ]
     },
     "execution_count": 418,
     "metadata": {},
     "output_type": "execute_result"
    }
   ],
   "source": [
    "df3['Current Ver'].sample(20)"
   ]
  },
  {
   "cell_type": "markdown",
   "id": "0f1af409-09fe-46f6-9d7b-e50b4b3aded6",
   "metadata": {},
   "source": [
    "all good with thsi column!"
   ]
  },
  {
   "cell_type": "markdown",
   "id": "aa35b84b-e437-4f91-bbd2-f3d9c0db19df",
   "metadata": {},
   "source": [
    "Now let's check the column 'Android Ver'"
   ]
  },
  {
   "cell_type": "code",
   "execution_count": 419,
   "id": "b4da34bd-4610-48aa-9c12-a687b1510792",
   "metadata": {},
   "outputs": [
    {
     "data": {
      "text/plain": [
       "Varies with device    11444\n",
       "4.1 and up            10763\n",
       "4.0.3 and up           7147\n",
       "4.4 and up             4437\n",
       "4.0 and up             3747\n",
       "5.0 and up             3153\n",
       "2.3 and up             2129\n",
       "4.2 and up             1542\n",
       "3.0 and up              676\n",
       "2.3.3 and up            655\n",
       "4.3 and up              563\n",
       "6.0 and up              416\n",
       "2.2 and up              382\n",
       "2.1 and up              304\n",
       "1.6 and up              152\n",
       "7.0 and up              110\n",
       "3.2 and up               65\n",
       "2.0 and up               58\n",
       "1.5 and up               53\n",
       "7.1 and up               42\n",
       "4.0.3 - 7.1.1            33\n",
       "5.1 and up               15\n",
       "3.1 and up                8\n",
       "2.0.1 and up              6\n",
       "4.4W and up               5\n",
       "8.0 and up                4\n",
       "5.0 - 8.0                 3\n",
       "1.0 and up                2\n",
       "7.0 - 7.1.1               1\n",
       "4.1 - 7.1.1               1\n",
       "5.0 - 6.0                 1\n",
       "Name: Android Ver, dtype: int64"
      ]
     },
     "execution_count": 419,
     "metadata": {},
     "output_type": "execute_result"
    }
   ],
   "source": [
    "df3['Android Ver'].value_counts()"
   ]
  },
  {
   "cell_type": "code",
   "execution_count": 422,
   "id": "43415e83-f9e0-413d-bd63-0a1c604726c5",
   "metadata": {},
   "outputs": [
    {
     "data": {
      "text/plain": [
       "3605             4.2 and up\n",
       "49205            4.3 and up\n",
       "77114          2.3.3 and up\n",
       "37555          4.0.3 and up\n",
       "33038          4.0.3 and up\n",
       "70754            4.2 and up\n",
       "5672     Varies with device\n",
       "52135            4.1 and up\n",
       "79693          4.0.3 and up\n",
       "1236     Varies with device\n",
       "15360    Varies with device\n",
       "65940    Varies with device\n",
       "15612            5.0 and up\n",
       "61878    Varies with device\n",
       "29483            4.1 and up\n",
       "73547            5.0 and up\n",
       "43690            4.1 and up\n",
       "72421            4.4 and up\n",
       "23486            4.4 and up\n",
       "74730          4.0.3 and up\n",
       "Name: Android Ver, dtype: object"
      ]
     },
     "execution_count": 422,
     "metadata": {},
     "output_type": "execute_result"
    }
   ],
   "source": [
    "df3['Android Ver'].sample(20)"
   ]
  },
  {
   "cell_type": "markdown",
   "id": "1c56f697-2a52-453d-ae40-8f67433794a3",
   "metadata": {},
   "source": [
    "all good with this column!"
   ]
  },
  {
   "cell_type": "code",
   "execution_count": 423,
   "id": "d0cc483e-c1e9-4bd7-a4fa-2241720821ac",
   "metadata": {},
   "outputs": [],
   "source": [
    "df3.to_excel(\"clean-data.xlsx\") "
   ]
  },
  {
   "cell_type": "code",
   "execution_count": null,
   "id": "47afc447-d297-485c-9199-fdf3e9288adf",
   "metadata": {},
   "outputs": [],
   "source": []
  }
 ],
 "metadata": {
  "kernelspec": {
   "display_name": "Python 3 (ipykernel)",
   "language": "python",
   "name": "python3"
  },
  "language_info": {
   "codemirror_mode": {
    "name": "ipython",
    "version": 3
   },
   "file_extension": ".py",
   "mimetype": "text/x-python",
   "name": "python",
   "nbconvert_exporter": "python",
   "pygments_lexer": "ipython3",
   "version": "3.9.7"
  }
 },
 "nbformat": 4,
 "nbformat_minor": 5
}
